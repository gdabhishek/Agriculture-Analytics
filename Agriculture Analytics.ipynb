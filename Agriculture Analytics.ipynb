{
 "cells": [
  {
   "cell_type": "code",
   "execution_count": 1,
   "metadata": {},
   "outputs": [],
   "source": [
    "import pandas as pd\n",
    "import numpy as np\n",
    "import matplotlib.pyplot as plt\n",
    "import seaborn as sns"
   ]
  },
  {
   "cell_type": "code",
   "execution_count": 2,
   "metadata": {},
   "outputs": [],
   "source": [
    "dataset=pd.read_csv(\"train_yaOffsB.csv\")"
   ]
  },
  {
   "cell_type": "code",
   "execution_count": 3,
   "metadata": {},
   "outputs": [
    {
     "data": {
      "text/html": [
       "<div>\n",
       "<style scoped>\n",
       "    .dataframe tbody tr th:only-of-type {\n",
       "        vertical-align: middle;\n",
       "    }\n",
       "\n",
       "    .dataframe tbody tr th {\n",
       "        vertical-align: top;\n",
       "    }\n",
       "\n",
       "    .dataframe thead th {\n",
       "        text-align: right;\n",
       "    }\n",
       "</style>\n",
       "<table border=\"1\" class=\"dataframe\">\n",
       "  <thead>\n",
       "    <tr style=\"text-align: right;\">\n",
       "      <th></th>\n",
       "      <th>ID</th>\n",
       "      <th>Estimated_Insects_Count</th>\n",
       "      <th>Crop_Type</th>\n",
       "      <th>Soil_Type</th>\n",
       "      <th>Pesticide_Use_Category</th>\n",
       "      <th>Number_Doses_Week</th>\n",
       "      <th>Number_Weeks_Used</th>\n",
       "      <th>Number_Weeks_Quit</th>\n",
       "      <th>Season</th>\n",
       "      <th>Crop_Damage</th>\n",
       "    </tr>\n",
       "  </thead>\n",
       "  <tbody>\n",
       "    <tr>\n",
       "      <td>0</td>\n",
       "      <td>F00000001</td>\n",
       "      <td>188</td>\n",
       "      <td>1</td>\n",
       "      <td>0</td>\n",
       "      <td>1</td>\n",
       "      <td>0</td>\n",
       "      <td>0.0</td>\n",
       "      <td>0</td>\n",
       "      <td>1</td>\n",
       "      <td>0</td>\n",
       "    </tr>\n",
       "    <tr>\n",
       "      <td>1</td>\n",
       "      <td>F00000003</td>\n",
       "      <td>209</td>\n",
       "      <td>1</td>\n",
       "      <td>0</td>\n",
       "      <td>1</td>\n",
       "      <td>0</td>\n",
       "      <td>0.0</td>\n",
       "      <td>0</td>\n",
       "      <td>2</td>\n",
       "      <td>1</td>\n",
       "    </tr>\n",
       "    <tr>\n",
       "      <td>2</td>\n",
       "      <td>F00000004</td>\n",
       "      <td>257</td>\n",
       "      <td>1</td>\n",
       "      <td>0</td>\n",
       "      <td>1</td>\n",
       "      <td>0</td>\n",
       "      <td>0.0</td>\n",
       "      <td>0</td>\n",
       "      <td>2</td>\n",
       "      <td>1</td>\n",
       "    </tr>\n",
       "    <tr>\n",
       "      <td>3</td>\n",
       "      <td>F00000005</td>\n",
       "      <td>257</td>\n",
       "      <td>1</td>\n",
       "      <td>1</td>\n",
       "      <td>1</td>\n",
       "      <td>0</td>\n",
       "      <td>0.0</td>\n",
       "      <td>0</td>\n",
       "      <td>2</td>\n",
       "      <td>1</td>\n",
       "    </tr>\n",
       "    <tr>\n",
       "      <td>4</td>\n",
       "      <td>F00000006</td>\n",
       "      <td>342</td>\n",
       "      <td>1</td>\n",
       "      <td>0</td>\n",
       "      <td>1</td>\n",
       "      <td>0</td>\n",
       "      <td>0.0</td>\n",
       "      <td>0</td>\n",
       "      <td>2</td>\n",
       "      <td>1</td>\n",
       "    </tr>\n",
       "    <tr>\n",
       "      <td>...</td>\n",
       "      <td>...</td>\n",
       "      <td>...</td>\n",
       "      <td>...</td>\n",
       "      <td>...</td>\n",
       "      <td>...</td>\n",
       "      <td>...</td>\n",
       "      <td>...</td>\n",
       "      <td>...</td>\n",
       "      <td>...</td>\n",
       "      <td>...</td>\n",
       "    </tr>\n",
       "    <tr>\n",
       "      <td>88853</td>\n",
       "      <td>F00155935</td>\n",
       "      <td>3337</td>\n",
       "      <td>1</td>\n",
       "      <td>0</td>\n",
       "      <td>2</td>\n",
       "      <td>10</td>\n",
       "      <td>12.0</td>\n",
       "      <td>44</td>\n",
       "      <td>3</td>\n",
       "      <td>0</td>\n",
       "    </tr>\n",
       "    <tr>\n",
       "      <td>88854</td>\n",
       "      <td>F00155938</td>\n",
       "      <td>3516</td>\n",
       "      <td>1</td>\n",
       "      <td>0</td>\n",
       "      <td>2</td>\n",
       "      <td>10</td>\n",
       "      <td>20.0</td>\n",
       "      <td>38</td>\n",
       "      <td>1</td>\n",
       "      <td>0</td>\n",
       "    </tr>\n",
       "    <tr>\n",
       "      <td>88855</td>\n",
       "      <td>F00155939</td>\n",
       "      <td>3516</td>\n",
       "      <td>1</td>\n",
       "      <td>0</td>\n",
       "      <td>2</td>\n",
       "      <td>15</td>\n",
       "      <td>40.0</td>\n",
       "      <td>8</td>\n",
       "      <td>2</td>\n",
       "      <td>0</td>\n",
       "    </tr>\n",
       "    <tr>\n",
       "      <td>88856</td>\n",
       "      <td>F00155942</td>\n",
       "      <td>3702</td>\n",
       "      <td>1</td>\n",
       "      <td>0</td>\n",
       "      <td>2</td>\n",
       "      <td>10</td>\n",
       "      <td>25.0</td>\n",
       "      <td>18</td>\n",
       "      <td>3</td>\n",
       "      <td>0</td>\n",
       "    </tr>\n",
       "    <tr>\n",
       "      <td>88857</td>\n",
       "      <td>F00155945</td>\n",
       "      <td>3895</td>\n",
       "      <td>1</td>\n",
       "      <td>0</td>\n",
       "      <td>2</td>\n",
       "      <td>20</td>\n",
       "      <td>37.0</td>\n",
       "      <td>7</td>\n",
       "      <td>3</td>\n",
       "      <td>0</td>\n",
       "    </tr>\n",
       "  </tbody>\n",
       "</table>\n",
       "<p>88858 rows × 10 columns</p>\n",
       "</div>"
      ],
      "text/plain": [
       "              ID  Estimated_Insects_Count  Crop_Type  Soil_Type  \\\n",
       "0      F00000001                      188          1          0   \n",
       "1      F00000003                      209          1          0   \n",
       "2      F00000004                      257          1          0   \n",
       "3      F00000005                      257          1          1   \n",
       "4      F00000006                      342          1          0   \n",
       "...          ...                      ...        ...        ...   \n",
       "88853  F00155935                     3337          1          0   \n",
       "88854  F00155938                     3516          1          0   \n",
       "88855  F00155939                     3516          1          0   \n",
       "88856  F00155942                     3702          1          0   \n",
       "88857  F00155945                     3895          1          0   \n",
       "\n",
       "       Pesticide_Use_Category  Number_Doses_Week  Number_Weeks_Used  \\\n",
       "0                           1                  0                0.0   \n",
       "1                           1                  0                0.0   \n",
       "2                           1                  0                0.0   \n",
       "3                           1                  0                0.0   \n",
       "4                           1                  0                0.0   \n",
       "...                       ...                ...                ...   \n",
       "88853                       2                 10               12.0   \n",
       "88854                       2                 10               20.0   \n",
       "88855                       2                 15               40.0   \n",
       "88856                       2                 10               25.0   \n",
       "88857                       2                 20               37.0   \n",
       "\n",
       "       Number_Weeks_Quit  Season  Crop_Damage  \n",
       "0                      0       1            0  \n",
       "1                      0       2            1  \n",
       "2                      0       2            1  \n",
       "3                      0       2            1  \n",
       "4                      0       2            1  \n",
       "...                  ...     ...          ...  \n",
       "88853                 44       3            0  \n",
       "88854                 38       1            0  \n",
       "88855                  8       2            0  \n",
       "88856                 18       3            0  \n",
       "88857                  7       3            0  \n",
       "\n",
       "[88858 rows x 10 columns]"
      ]
     },
     "execution_count": 3,
     "metadata": {},
     "output_type": "execute_result"
    }
   ],
   "source": [
    "dataset"
   ]
  },
  {
   "cell_type": "code",
   "execution_count": null,
   "metadata": {},
   "outputs": [
    {
     "data": {
      "text/plain": [
       "[<matplotlib.lines.Line2D at 0x26e11257448>]"
      ]
     },
     "execution_count": 5,
     "metadata": {},
     "output_type": "execute_result"
    }
   ],
   "source": [
    "plt.plot(dataset[\"ID\"],dataset[\"Estimated_Insects_Count\"])"
   ]
  },
  {
   "cell_type": "code",
   "execution_count": 4,
   "metadata": {},
   "outputs": [
    {
     "data": {
      "text/plain": [
       "ID                         False\n",
       "Estimated_Insects_Count    False\n",
       "Crop_Type                  False\n",
       "Soil_Type                  False\n",
       "Pesticide_Use_Category     False\n",
       "Number_Doses_Week          False\n",
       "Number_Weeks_Used           True\n",
       "Number_Weeks_Quit          False\n",
       "Season                     False\n",
       "Crop_Damage                False\n",
       "dtype: bool"
      ]
     },
     "execution_count": 4,
     "metadata": {},
     "output_type": "execute_result"
    }
   ],
   "source": [
    "dataset.isnull().any()"
   ]
  },
  {
   "cell_type": "code",
   "execution_count": 5,
   "metadata": {},
   "outputs": [
    {
     "data": {
      "text/plain": [
       "ID                            0\n",
       "Estimated_Insects_Count       0\n",
       "Crop_Type                     0\n",
       "Soil_Type                     0\n",
       "Pesticide_Use_Category        0\n",
       "Number_Doses_Week             0\n",
       "Number_Weeks_Used          9000\n",
       "Number_Weeks_Quit             0\n",
       "Season                        0\n",
       "Crop_Damage                   0\n",
       "dtype: int64"
      ]
     },
     "execution_count": 5,
     "metadata": {},
     "output_type": "execute_result"
    }
   ],
   "source": [
    "dataset.isnull().sum()"
   ]
  },
  {
   "cell_type": "code",
   "execution_count": 6,
   "metadata": {},
   "outputs": [
    {
     "data": {
      "text/plain": [
       "(88858, 10)"
      ]
     },
     "execution_count": 6,
     "metadata": {},
     "output_type": "execute_result"
    }
   ],
   "source": [
    "dataset.shape"
   ]
  },
  {
   "cell_type": "code",
   "execution_count": 7,
   "metadata": {},
   "outputs": [
    {
     "data": {
      "text/plain": [
       "ID                          0.00000\n",
       "Estimated_Insects_Count     0.00000\n",
       "Crop_Type                   0.00000\n",
       "Soil_Type                   0.00000\n",
       "Pesticide_Use_Category      0.00000\n",
       "Number_Doses_Week           0.00000\n",
       "Number_Weeks_Used          10.12852\n",
       "Number_Weeks_Quit           0.00000\n",
       "Season                      0.00000\n",
       "Crop_Damage                 0.00000\n",
       "dtype: float64"
      ]
     },
     "execution_count": 7,
     "metadata": {},
     "output_type": "execute_result"
    }
   ],
   "source": [
    "dataset.isnull().sum()/dataset.shape[0]*100"
   ]
  },
  {
   "cell_type": "code",
   "execution_count": 8,
   "metadata": {},
   "outputs": [
    {
     "data": {
      "text/html": [
       "<div>\n",
       "<style scoped>\n",
       "    .dataframe tbody tr th:only-of-type {\n",
       "        vertical-align: middle;\n",
       "    }\n",
       "\n",
       "    .dataframe tbody tr th {\n",
       "        vertical-align: top;\n",
       "    }\n",
       "\n",
       "    .dataframe thead th {\n",
       "        text-align: right;\n",
       "    }\n",
       "</style>\n",
       "<table border=\"1\" class=\"dataframe\">\n",
       "  <thead>\n",
       "    <tr style=\"text-align: right;\">\n",
       "      <th></th>\n",
       "      <th>ID</th>\n",
       "      <th>Estimated_Insects_Count</th>\n",
       "      <th>Crop_Type</th>\n",
       "      <th>Soil_Type</th>\n",
       "      <th>Pesticide_Use_Category</th>\n",
       "      <th>Number_Doses_Week</th>\n",
       "      <th>Number_Weeks_Used</th>\n",
       "      <th>Number_Weeks_Quit</th>\n",
       "      <th>Season</th>\n",
       "      <th>Crop_Damage</th>\n",
       "    </tr>\n",
       "  </thead>\n",
       "  <tbody>\n",
       "    <tr>\n",
       "      <td>0</td>\n",
       "      <td>F00000001</td>\n",
       "      <td>188</td>\n",
       "      <td>1</td>\n",
       "      <td>0</td>\n",
       "      <td>1</td>\n",
       "      <td>0</td>\n",
       "      <td>0.0</td>\n",
       "      <td>0</td>\n",
       "      <td>1</td>\n",
       "      <td>0</td>\n",
       "    </tr>\n",
       "    <tr>\n",
       "      <td>1</td>\n",
       "      <td>F00000003</td>\n",
       "      <td>209</td>\n",
       "      <td>1</td>\n",
       "      <td>0</td>\n",
       "      <td>1</td>\n",
       "      <td>0</td>\n",
       "      <td>0.0</td>\n",
       "      <td>0</td>\n",
       "      <td>2</td>\n",
       "      <td>1</td>\n",
       "    </tr>\n",
       "    <tr>\n",
       "      <td>2</td>\n",
       "      <td>F00000004</td>\n",
       "      <td>257</td>\n",
       "      <td>1</td>\n",
       "      <td>0</td>\n",
       "      <td>1</td>\n",
       "      <td>0</td>\n",
       "      <td>0.0</td>\n",
       "      <td>0</td>\n",
       "      <td>2</td>\n",
       "      <td>1</td>\n",
       "    </tr>\n",
       "    <tr>\n",
       "      <td>3</td>\n",
       "      <td>F00000005</td>\n",
       "      <td>257</td>\n",
       "      <td>1</td>\n",
       "      <td>1</td>\n",
       "      <td>1</td>\n",
       "      <td>0</td>\n",
       "      <td>0.0</td>\n",
       "      <td>0</td>\n",
       "      <td>2</td>\n",
       "      <td>1</td>\n",
       "    </tr>\n",
       "    <tr>\n",
       "      <td>4</td>\n",
       "      <td>F00000006</td>\n",
       "      <td>342</td>\n",
       "      <td>1</td>\n",
       "      <td>0</td>\n",
       "      <td>1</td>\n",
       "      <td>0</td>\n",
       "      <td>0.0</td>\n",
       "      <td>0</td>\n",
       "      <td>2</td>\n",
       "      <td>1</td>\n",
       "    </tr>\n",
       "    <tr>\n",
       "      <td>...</td>\n",
       "      <td>...</td>\n",
       "      <td>...</td>\n",
       "      <td>...</td>\n",
       "      <td>...</td>\n",
       "      <td>...</td>\n",
       "      <td>...</td>\n",
       "      <td>...</td>\n",
       "      <td>...</td>\n",
       "      <td>...</td>\n",
       "      <td>...</td>\n",
       "    </tr>\n",
       "    <tr>\n",
       "      <td>88853</td>\n",
       "      <td>F00155935</td>\n",
       "      <td>3337</td>\n",
       "      <td>1</td>\n",
       "      <td>0</td>\n",
       "      <td>2</td>\n",
       "      <td>10</td>\n",
       "      <td>12.0</td>\n",
       "      <td>44</td>\n",
       "      <td>3</td>\n",
       "      <td>0</td>\n",
       "    </tr>\n",
       "    <tr>\n",
       "      <td>88854</td>\n",
       "      <td>F00155938</td>\n",
       "      <td>3516</td>\n",
       "      <td>1</td>\n",
       "      <td>0</td>\n",
       "      <td>2</td>\n",
       "      <td>10</td>\n",
       "      <td>20.0</td>\n",
       "      <td>38</td>\n",
       "      <td>1</td>\n",
       "      <td>0</td>\n",
       "    </tr>\n",
       "    <tr>\n",
       "      <td>88855</td>\n",
       "      <td>F00155939</td>\n",
       "      <td>3516</td>\n",
       "      <td>1</td>\n",
       "      <td>0</td>\n",
       "      <td>2</td>\n",
       "      <td>15</td>\n",
       "      <td>40.0</td>\n",
       "      <td>8</td>\n",
       "      <td>2</td>\n",
       "      <td>0</td>\n",
       "    </tr>\n",
       "    <tr>\n",
       "      <td>88856</td>\n",
       "      <td>F00155942</td>\n",
       "      <td>3702</td>\n",
       "      <td>1</td>\n",
       "      <td>0</td>\n",
       "      <td>2</td>\n",
       "      <td>10</td>\n",
       "      <td>25.0</td>\n",
       "      <td>18</td>\n",
       "      <td>3</td>\n",
       "      <td>0</td>\n",
       "    </tr>\n",
       "    <tr>\n",
       "      <td>88857</td>\n",
       "      <td>F00155945</td>\n",
       "      <td>3895</td>\n",
       "      <td>1</td>\n",
       "      <td>0</td>\n",
       "      <td>2</td>\n",
       "      <td>20</td>\n",
       "      <td>37.0</td>\n",
       "      <td>7</td>\n",
       "      <td>3</td>\n",
       "      <td>0</td>\n",
       "    </tr>\n",
       "  </tbody>\n",
       "</table>\n",
       "<p>88858 rows × 10 columns</p>\n",
       "</div>"
      ],
      "text/plain": [
       "              ID  Estimated_Insects_Count  Crop_Type  Soil_Type  \\\n",
       "0      F00000001                      188          1          0   \n",
       "1      F00000003                      209          1          0   \n",
       "2      F00000004                      257          1          0   \n",
       "3      F00000005                      257          1          1   \n",
       "4      F00000006                      342          1          0   \n",
       "...          ...                      ...        ...        ...   \n",
       "88853  F00155935                     3337          1          0   \n",
       "88854  F00155938                     3516          1          0   \n",
       "88855  F00155939                     3516          1          0   \n",
       "88856  F00155942                     3702          1          0   \n",
       "88857  F00155945                     3895          1          0   \n",
       "\n",
       "       Pesticide_Use_Category  Number_Doses_Week  Number_Weeks_Used  \\\n",
       "0                           1                  0                0.0   \n",
       "1                           1                  0                0.0   \n",
       "2                           1                  0                0.0   \n",
       "3                           1                  0                0.0   \n",
       "4                           1                  0                0.0   \n",
       "...                       ...                ...                ...   \n",
       "88853                       2                 10               12.0   \n",
       "88854                       2                 10               20.0   \n",
       "88855                       2                 15               40.0   \n",
       "88856                       2                 10               25.0   \n",
       "88857                       2                 20               37.0   \n",
       "\n",
       "       Number_Weeks_Quit  Season  Crop_Damage  \n",
       "0                      0       1            0  \n",
       "1                      0       2            1  \n",
       "2                      0       2            1  \n",
       "3                      0       2            1  \n",
       "4                      0       2            1  \n",
       "...                  ...     ...          ...  \n",
       "88853                 44       3            0  \n",
       "88854                 38       1            0  \n",
       "88855                  8       2            0  \n",
       "88856                 18       3            0  \n",
       "88857                  7       3            0  \n",
       "\n",
       "[88858 rows x 10 columns]"
      ]
     },
     "execution_count": 8,
     "metadata": {},
     "output_type": "execute_result"
    }
   ],
   "source": [
    "dataset"
   ]
  },
  {
   "cell_type": "code",
   "execution_count": 9,
   "metadata": {},
   "outputs": [
    {
     "data": {
      "text/plain": [
       "0         188\n",
       "1         209\n",
       "2         257\n",
       "3         257\n",
       "4         342\n",
       "         ... \n",
       "88853    3337\n",
       "88854    3516\n",
       "88855    3516\n",
       "88856    3702\n",
       "88857    3895\n",
       "Name: Estimated_Insects_Count, Length: 88858, dtype: int64"
      ]
     },
     "execution_count": 9,
     "metadata": {},
     "output_type": "execute_result"
    }
   ],
   "source": [
    "dataset[\"Estimated_Insects_Count\"]"
   ]
  },
  {
   "cell_type": "code",
   "execution_count": 10,
   "metadata": {},
   "outputs": [
    {
     "data": {
      "image/png": "[encoded data removed]",
      "text/plain": [
       "<Figure size 432x288 with 1 Axes>"
      ]
     },
     "metadata": {
      "needs_background": "light"
     },
     "output_type": "display_data"
    }
   ],
   "source": [
    "plt.hist(dataset[\"Estimated_Insects_Count\"])\n",
    "plt.show()"
   ]
  },
  {
   "cell_type": "code",
   "execution_count": 11,
   "metadata": {},
   "outputs": [
    {
     "data": {
      "text/plain": [
       "<matplotlib.axes._subplots.AxesSubplot at 0x2a346402348>"
      ]
     },
     "execution_count": 11,
     "metadata": {},
     "output_type": "execute_result"
    },
    {
     "data": {
      "image/png": "[encoded data removed]",
      "text/plain": [
       "<Figure size 432x288 with 1 Axes>"
      ]
     },
     "metadata": {
      "needs_background": "light"
     },
     "output_type": "display_data"
    }
   ],
   "source": [
    "sns.distplot(dataset[\"Estimated_Insects_Count\"])"
   ]
  },
  {
   "cell_type": "code",
   "execution_count": 12,
   "metadata": {},
   "outputs": [
    {
     "data": {
      "text/plain": [
       "count    88858.000000\n",
       "mean      1399.012210\n",
       "std        849.048781\n",
       "min        150.000000\n",
       "25%        731.000000\n",
       "50%       1212.000000\n",
       "75%       1898.000000\n",
       "max       4097.000000\n",
       "Name: Estimated_Insects_Count, dtype: float64"
      ]
     },
     "execution_count": 12,
     "metadata": {},
     "output_type": "execute_result"
    }
   ],
   "source": [
    "dataset[\"Estimated_Insects_Count\"].describe()"
   ]
  },
  {
   "cell_type": "markdown",
   "metadata": {},
   "source": [
    "# Observation\n",
    "-----> We can clearly observe that the the average insect count in about 1300 \n",
    "\n",
    "--->  50% of the farming lands Estimated_Insects_Count is about 1200"
   ]
  },
  {
   "cell_type": "code",
   "execution_count": 18,
   "metadata": {
    "scrolled": true
   },
   "outputs": [
    {
     "data": {
      "text/plain": [
       "<matplotlib.axes._subplots.AxesSubplot at 0x22a90ecab88>"
      ]
     },
     "execution_count": 18,
     "metadata": {},
     "output_type": "execute_result"
    },
    {
     "data": {
      "image/png": "[encoded data removed]",
      "text/plain": [
       "<Figure size 432x288 with 1 Axes>"
      ]
     },
     "metadata": {
      "needs_background": "light"
     },
     "output_type": "display_data"
    }
   ],
   "source": [
    "sns.boxplot(dataset[\"Estimated_Insects_Count\"])"
   ]
  },
  {
   "cell_type": "markdown",
   "metadata": {},
   "source": [
    "Crop Damage Category \n",
    "\n",
    "0=alive, \n",
    " \n",
    "1=Damage due to other causes\n",
    "\n",
    "2=Damage due to Pesticides"
   ]
  },
  {
   "cell_type": "code",
   "execution_count": 20,
   "metadata": {},
   "outputs": [
    {
     "data": {
      "text/plain": [
       "0    74238\n",
       "1    12307\n",
       "2     2313\n",
       "Name: Crop_Damage, dtype: int64"
      ]
     },
     "execution_count": 20,
     "metadata": {},
     "output_type": "execute_result"
    }
   ],
   "source": [
    "dataset[\"Crop_Damage\"].value_counts()"
   ]
  },
  {
   "cell_type": "code",
   "execution_count": 24,
   "metadata": {},
   "outputs": [
    {
     "data": {
      "text/plain": [
       "0    0.835468\n",
       "1    0.138502\n",
       "2    0.026030\n",
       "Name: Crop_Damage, dtype: float64"
      ]
     },
     "execution_count": 24,
     "metadata": {},
     "output_type": "execute_result"
    }
   ],
   "source": [
    "dataset[\"Crop_Damage\"].value_counts()/dataset[\"Crop_Damage\"].value_counts().sum()"
   ]
  },
  {
   "cell_type": "code",
   "execution_count": 27,
   "metadata": {},
   "outputs": [
    {
     "data": {
      "text/plain": [
       "Crop_Damage\n",
       "0    1315.707387\n",
       "1    1839.106200\n",
       "2    1731.111976\n",
       "Name: Estimated_Insects_Count, dtype: float64"
      ]
     },
     "execution_count": 27,
     "metadata": {},
     "output_type": "execute_result"
    }
   ],
   "source": [
    "dataset.groupby(\"Crop_Damage\").mean()[\"Estimated_Insects_Count\"]"
   ]
  },
  {
   "cell_type": "code",
   "execution_count": 30,
   "metadata": {},
   "outputs": [
    {
     "data": {
      "text/plain": [
       "Crop_Damage\n",
       "0    1132\n",
       "1    1678\n",
       "2    1576\n",
       "Name: Estimated_Insects_Count, dtype: int64"
      ]
     },
     "execution_count": 30,
     "metadata": {},
     "output_type": "execute_result"
    }
   ],
   "source": [
    "dataset.groupby(\"Crop_Damage\").median()[\"Estimated_Insects_Count\"]"
   ]
  },
  {
   "cell_type": "code",
   "execution_count": 37,
   "metadata": {},
   "outputs": [
    {
     "data": {
      "text/html": [
       "<div>\n",
       "<style scoped>\n",
       "    .dataframe tbody tr th:only-of-type {\n",
       "        vertical-align: middle;\n",
       "    }\n",
       "\n",
       "    .dataframe tbody tr th {\n",
       "        vertical-align: top;\n",
       "    }\n",
       "\n",
       "    .dataframe thead th {\n",
       "        text-align: right;\n",
       "    }\n",
       "</style>\n",
       "<table border=\"1\" class=\"dataframe\">\n",
       "  <thead>\n",
       "    <tr style=\"text-align: right;\">\n",
       "      <th></th>\n",
       "      <th>count</th>\n",
       "      <th>mean</th>\n",
       "      <th>std</th>\n",
       "      <th>min</th>\n",
       "      <th>25%</th>\n",
       "      <th>50%</th>\n",
       "      <th>75%</th>\n",
       "      <th>max</th>\n",
       "    </tr>\n",
       "    <tr>\n",
       "      <th>Crop_Damage</th>\n",
       "      <th></th>\n",
       "      <th></th>\n",
       "      <th></th>\n",
       "      <th></th>\n",
       "      <th></th>\n",
       "      <th></th>\n",
       "      <th></th>\n",
       "      <th></th>\n",
       "    </tr>\n",
       "  </thead>\n",
       "  <tbody>\n",
       "    <tr>\n",
       "      <td>0</td>\n",
       "      <td>74238.0</td>\n",
       "      <td>1315.707387</td>\n",
       "      <td>810.401587</td>\n",
       "      <td>150.0</td>\n",
       "      <td>677.0</td>\n",
       "      <td>1132.0</td>\n",
       "      <td>1785.0</td>\n",
       "      <td>4097.0</td>\n",
       "    </tr>\n",
       "    <tr>\n",
       "      <td>1</td>\n",
       "      <td>12307.0</td>\n",
       "      <td>1839.106200</td>\n",
       "      <td>924.065556</td>\n",
       "      <td>150.0</td>\n",
       "      <td>1132.0</td>\n",
       "      <td>1678.0</td>\n",
       "      <td>2541.0</td>\n",
       "      <td>4097.0</td>\n",
       "    </tr>\n",
       "    <tr>\n",
       "      <td>2</td>\n",
       "      <td>2313.0</td>\n",
       "      <td>1731.111976</td>\n",
       "      <td>841.805762</td>\n",
       "      <td>150.0</td>\n",
       "      <td>1056.0</td>\n",
       "      <td>1576.0</td>\n",
       "      <td>2267.0</td>\n",
       "      <td>4097.0</td>\n",
       "    </tr>\n",
       "  </tbody>\n",
       "</table>\n",
       "</div>"
      ],
      "text/plain": [
       "               count         mean         std    min     25%     50%     75%  \\\n",
       "Crop_Damage                                                                    \n",
       "0            74238.0  1315.707387  810.401587  150.0   677.0  1132.0  1785.0   \n",
       "1            12307.0  1839.106200  924.065556  150.0  1132.0  1678.0  2541.0   \n",
       "2             2313.0  1731.111976  841.805762  150.0  1056.0  1576.0  2267.0   \n",
       "\n",
       "                max  \n",
       "Crop_Damage          \n",
       "0            4097.0  \n",
       "1            4097.0  \n",
       "2            4097.0  "
      ]
     },
     "execution_count": 37,
     "metadata": {},
     "output_type": "execute_result"
    }
   ],
   "source": [
    "dataset.groupby(\"Crop_Damage\").describe()[\"Estimated_Insects_Count\"]"
   ]
  },
  {
   "cell_type": "markdown",
   "metadata": {},
   "source": [
    "----> It is obvious that the average Estimated_Insects_Count is high for Damaged Crops"
   ]
  },
  {
   "cell_type": "code",
   "execution_count": 32,
   "metadata": {},
   "outputs": [
    {
     "data": {
      "text/html": [
       "<div>\n",
       "<style scoped>\n",
       "    .dataframe tbody tr th:only-of-type {\n",
       "        vertical-align: middle;\n",
       "    }\n",
       "\n",
       "    .dataframe tbody tr th {\n",
       "        vertical-align: top;\n",
       "    }\n",
       "\n",
       "    .dataframe thead th {\n",
       "        text-align: right;\n",
       "    }\n",
       "</style>\n",
       "<table border=\"1\" class=\"dataframe\">\n",
       "  <thead>\n",
       "    <tr style=\"text-align: right;\">\n",
       "      <th></th>\n",
       "      <th>ID</th>\n",
       "      <th>Estimated_Insects_Count</th>\n",
       "      <th>Crop_Type</th>\n",
       "      <th>Soil_Type</th>\n",
       "      <th>Pesticide_Use_Category</th>\n",
       "      <th>Number_Doses_Week</th>\n",
       "      <th>Number_Weeks_Used</th>\n",
       "      <th>Number_Weeks_Quit</th>\n",
       "      <th>Season</th>\n",
       "      <th>Crop_Damage</th>\n",
       "    </tr>\n",
       "  </thead>\n",
       "  <tbody>\n",
       "    <tr>\n",
       "      <td>0</td>\n",
       "      <td>F00000001</td>\n",
       "      <td>188</td>\n",
       "      <td>1</td>\n",
       "      <td>0</td>\n",
       "      <td>1</td>\n",
       "      <td>0</td>\n",
       "      <td>0.0</td>\n",
       "      <td>0</td>\n",
       "      <td>1</td>\n",
       "      <td>0</td>\n",
       "    </tr>\n",
       "    <tr>\n",
       "      <td>1</td>\n",
       "      <td>F00000003</td>\n",
       "      <td>209</td>\n",
       "      <td>1</td>\n",
       "      <td>0</td>\n",
       "      <td>1</td>\n",
       "      <td>0</td>\n",
       "      <td>0.0</td>\n",
       "      <td>0</td>\n",
       "      <td>2</td>\n",
       "      <td>1</td>\n",
       "    </tr>\n",
       "    <tr>\n",
       "      <td>2</td>\n",
       "      <td>F00000004</td>\n",
       "      <td>257</td>\n",
       "      <td>1</td>\n",
       "      <td>0</td>\n",
       "      <td>1</td>\n",
       "      <td>0</td>\n",
       "      <td>0.0</td>\n",
       "      <td>0</td>\n",
       "      <td>2</td>\n",
       "      <td>1</td>\n",
       "    </tr>\n",
       "    <tr>\n",
       "      <td>3</td>\n",
       "      <td>F00000005</td>\n",
       "      <td>257</td>\n",
       "      <td>1</td>\n",
       "      <td>1</td>\n",
       "      <td>1</td>\n",
       "      <td>0</td>\n",
       "      <td>0.0</td>\n",
       "      <td>0</td>\n",
       "      <td>2</td>\n",
       "      <td>1</td>\n",
       "    </tr>\n",
       "    <tr>\n",
       "      <td>4</td>\n",
       "      <td>F00000006</td>\n",
       "      <td>342</td>\n",
       "      <td>1</td>\n",
       "      <td>0</td>\n",
       "      <td>1</td>\n",
       "      <td>0</td>\n",
       "      <td>0.0</td>\n",
       "      <td>0</td>\n",
       "      <td>2</td>\n",
       "      <td>1</td>\n",
       "    </tr>\n",
       "    <tr>\n",
       "      <td>...</td>\n",
       "      <td>...</td>\n",
       "      <td>...</td>\n",
       "      <td>...</td>\n",
       "      <td>...</td>\n",
       "      <td>...</td>\n",
       "      <td>...</td>\n",
       "      <td>...</td>\n",
       "      <td>...</td>\n",
       "      <td>...</td>\n",
       "      <td>...</td>\n",
       "    </tr>\n",
       "    <tr>\n",
       "      <td>88853</td>\n",
       "      <td>F00155935</td>\n",
       "      <td>3337</td>\n",
       "      <td>1</td>\n",
       "      <td>0</td>\n",
       "      <td>2</td>\n",
       "      <td>10</td>\n",
       "      <td>12.0</td>\n",
       "      <td>44</td>\n",
       "      <td>3</td>\n",
       "      <td>0</td>\n",
       "    </tr>\n",
       "    <tr>\n",
       "      <td>88854</td>\n",
       "      <td>F00155938</td>\n",
       "      <td>3516</td>\n",
       "      <td>1</td>\n",
       "      <td>0</td>\n",
       "      <td>2</td>\n",
       "      <td>10</td>\n",
       "      <td>20.0</td>\n",
       "      <td>38</td>\n",
       "      <td>1</td>\n",
       "      <td>0</td>\n",
       "    </tr>\n",
       "    <tr>\n",
       "      <td>88855</td>\n",
       "      <td>F00155939</td>\n",
       "      <td>3516</td>\n",
       "      <td>1</td>\n",
       "      <td>0</td>\n",
       "      <td>2</td>\n",
       "      <td>15</td>\n",
       "      <td>40.0</td>\n",
       "      <td>8</td>\n",
       "      <td>2</td>\n",
       "      <td>0</td>\n",
       "    </tr>\n",
       "    <tr>\n",
       "      <td>88856</td>\n",
       "      <td>F00155942</td>\n",
       "      <td>3702</td>\n",
       "      <td>1</td>\n",
       "      <td>0</td>\n",
       "      <td>2</td>\n",
       "      <td>10</td>\n",
       "      <td>25.0</td>\n",
       "      <td>18</td>\n",
       "      <td>3</td>\n",
       "      <td>0</td>\n",
       "    </tr>\n",
       "    <tr>\n",
       "      <td>88857</td>\n",
       "      <td>F00155945</td>\n",
       "      <td>3895</td>\n",
       "      <td>1</td>\n",
       "      <td>0</td>\n",
       "      <td>2</td>\n",
       "      <td>20</td>\n",
       "      <td>37.0</td>\n",
       "      <td>7</td>\n",
       "      <td>3</td>\n",
       "      <td>0</td>\n",
       "    </tr>\n",
       "  </tbody>\n",
       "</table>\n",
       "<p>88858 rows × 10 columns</p>\n",
       "</div>"
      ],
      "text/plain": [
       "              ID  Estimated_Insects_Count  Crop_Type  Soil_Type  \\\n",
       "0      F00000001                      188          1          0   \n",
       "1      F00000003                      209          1          0   \n",
       "2      F00000004                      257          1          0   \n",
       "3      F00000005                      257          1          1   \n",
       "4      F00000006                      342          1          0   \n",
       "...          ...                      ...        ...        ...   \n",
       "88853  F00155935                     3337          1          0   \n",
       "88854  F00155938                     3516          1          0   \n",
       "88855  F00155939                     3516          1          0   \n",
       "88856  F00155942                     3702          1          0   \n",
       "88857  F00155945                     3895          1          0   \n",
       "\n",
       "       Pesticide_Use_Category  Number_Doses_Week  Number_Weeks_Used  \\\n",
       "0                           1                  0                0.0   \n",
       "1                           1                  0                0.0   \n",
       "2                           1                  0                0.0   \n",
       "3                           1                  0                0.0   \n",
       "4                           1                  0                0.0   \n",
       "...                       ...                ...                ...   \n",
       "88853                       2                 10               12.0   \n",
       "88854                       2                 10               20.0   \n",
       "88855                       2                 15               40.0   \n",
       "88856                       2                 10               25.0   \n",
       "88857                       2                 20               37.0   \n",
       "\n",
       "       Number_Weeks_Quit  Season  Crop_Damage  \n",
       "0                      0       1            0  \n",
       "1                      0       2            1  \n",
       "2                      0       2            1  \n",
       "3                      0       2            1  \n",
       "4                      0       2            1  \n",
       "...                  ...     ...          ...  \n",
       "88853                 44       3            0  \n",
       "88854                 38       1            0  \n",
       "88855                  8       2            0  \n",
       "88856                 18       3            0  \n",
       "88857                  7       3            0  \n",
       "\n",
       "[88858 rows x 10 columns]"
      ]
     },
     "execution_count": 32,
     "metadata": {},
     "output_type": "execute_result"
    }
   ],
   "source": [
    "dataset"
   ]
  },
  {
   "cell_type": "code",
   "execution_count": 35,
   "metadata": {
    "scrolled": true
   },
   "outputs": [
    {
     "data": {
      "text/plain": [
       "<matplotlib.axes._subplots.AxesSubplot at 0x22a986ca9c8>"
      ]
     },
     "execution_count": 35,
     "metadata": {},
     "output_type": "execute_result"
    },
    {
     "data": {
      "image/png": "[encoded data removed]",
      "text/plain": [
       "<Figure size 432x288 with 1 Axes>"
      ]
     },
     "metadata": {
      "needs_background": "light"
     },
     "output_type": "display_data"
    }
   ],
   "source": [
    "sns.boxplot(dataset[\"Crop_Damage\"],dataset[\"Estimated_Insects_Count\"])"
   ]
  },
  {
   "cell_type": "markdown",
   "metadata": {},
   "source": [
    "# Crop Type"
   ]
  },
  {
   "cell_type": "code",
   "execution_count": 40,
   "metadata": {},
   "outputs": [
    {
     "data": {
      "text/plain": [
       "<matplotlib.axes._subplots.AxesSubplot at 0x22a9a10ee08>"
      ]
     },
     "execution_count": 40,
     "metadata": {},
     "output_type": "execute_result"
    },
    {
     "data": {
      "image/png": "[encoded data removed]",
      "text/plain": [
       "<Figure size 432x288 with 1 Axes>"
      ]
     },
     "metadata": {
      "needs_background": "light"
     },
     "output_type": "display_data"
    }
   ],
   "source": [
    "dataset[\"Crop_Type\"].value_counts().plot(kind=\"bar\")"
   ]
  },
  {
   "cell_type": "code",
   "execution_count": 42,
   "metadata": {},
   "outputs": [
    {
     "data": {
      "text/plain": [
       "<matplotlib.axes._subplots.AxesSubplot at 0x22a99d88948>"
      ]
     },
     "execution_count": 42,
     "metadata": {},
     "output_type": "execute_result"
    },
    {
     "data": {
      "image/png": "[encoded data removed]",
      "text/plain": [
       "<Figure size 432x288 with 1 Axes>"
      ]
     },
     "metadata": {},
     "output_type": "display_data"
    }
   ],
   "source": [
    "dataset[\"Crop_Type\"].value_counts().plot(kind=\"pie\",autopct=\"%.f%%\")"
   ]
  },
  {
   "cell_type": "code",
   "execution_count": 43,
   "metadata": {},
   "outputs": [
    {
     "data": {
      "text/html": [
       "<div>\n",
       "<style scoped>\n",
       "    .dataframe tbody tr th:only-of-type {\n",
       "        vertical-align: middle;\n",
       "    }\n",
       "\n",
       "    .dataframe tbody tr th {\n",
       "        vertical-align: top;\n",
       "    }\n",
       "\n",
       "    .dataframe thead th {\n",
       "        text-align: right;\n",
       "    }\n",
       "</style>\n",
       "<table border=\"1\" class=\"dataframe\">\n",
       "  <thead>\n",
       "    <tr style=\"text-align: right;\">\n",
       "      <th>Crop_Damage</th>\n",
       "      <th>0</th>\n",
       "      <th>1</th>\n",
       "      <th>2</th>\n",
       "    </tr>\n",
       "    <tr>\n",
       "      <th>Crop_Type</th>\n",
       "      <th></th>\n",
       "      <th></th>\n",
       "      <th></th>\n",
       "    </tr>\n",
       "  </thead>\n",
       "  <tbody>\n",
       "    <tr>\n",
       "      <td>0</td>\n",
       "      <td>52778</td>\n",
       "      <td>9204</td>\n",
       "      <td>1607</td>\n",
       "    </tr>\n",
       "    <tr>\n",
       "      <td>1</td>\n",
       "      <td>21460</td>\n",
       "      <td>3103</td>\n",
       "      <td>706</td>\n",
       "    </tr>\n",
       "  </tbody>\n",
       "</table>\n",
       "</div>"
      ],
      "text/plain": [
       "Crop_Damage      0     1     2\n",
       "Crop_Type                     \n",
       "0            52778  9204  1607\n",
       "1            21460  3103   706"
      ]
     },
     "execution_count": 43,
     "metadata": {},
     "output_type": "execute_result"
    }
   ],
   "source": [
    "pd.crosstab(dataset[\"Crop_Type\"],dataset[\"Crop_Damage\"])"
   ]
  },
  {
   "cell_type": "code",
   "execution_count": 44,
   "metadata": {},
   "outputs": [
    {
     "data": {
      "text/plain": [
       "<matplotlib.axes._subplots.AxesSubplot at 0x22a9a5697c8>"
      ]
     },
     "execution_count": 44,
     "metadata": {},
     "output_type": "execute_result"
    },
    {
     "data": {
      "image/png": "[encoded data removed]",
      "text/plain": [
       "<Figure size 432x288 with 1 Axes>"
      ]
     },
     "metadata": {
      "needs_background": "light"
     },
     "output_type": "display_data"
    }
   ],
   "source": [
    "pd.crosstab(dataset[\"Crop_Type\"],dataset[\"Crop_Damage\"]).plot(kind=\"bar\")"
   ]
  },
  {
   "cell_type": "markdown",
   "metadata": {},
   "source": [
    "# Soil Type"
   ]
  },
  {
   "cell_type": "code",
   "execution_count": 45,
   "metadata": {},
   "outputs": [
    {
     "data": {
      "text/plain": [
       "<matplotlib.axes._subplots.AxesSubplot at 0x22a98114b08>"
      ]
     },
     "execution_count": 45,
     "metadata": {},
     "output_type": "execute_result"
    },
    {
     "data": {
      "image/png": "[encoded data removed]",
      "text/plain": [
       "<Figure size 432x288 with 1 Axes>"
      ]
     },
     "metadata": {},
     "output_type": "display_data"
    }
   ],
   "source": [
    "dataset[\"Soil_Type\"].value_counts().plot(kind=\"pie\",autopct=\"%.f%%\")"
   ]
  },
  {
   "cell_type": "code",
   "execution_count": 46,
   "metadata": {},
   "outputs": [
    {
     "data": {
      "text/plain": [
       "<matplotlib.axes._subplots.AxesSubplot at 0x22a9a1b3fc8>"
      ]
     },
     "execution_count": 46,
     "metadata": {},
     "output_type": "execute_result"
    },
    {
     "data": {
      "image/png": "[encoded data removed]",
      "text/plain": [
       "<Figure size 432x288 with 1 Axes>"
      ]
     },
     "metadata": {
      "needs_background": "light"
     },
     "output_type": "display_data"
    }
   ],
   "source": [
    "pd.crosstab(dataset[\"Soil_Type\"],dataset[\"Crop_Damage\"]).plot(kind=\"bar\")"
   ]
  },
  {
   "cell_type": "markdown",
   "metadata": {},
   "source": [
    "# Pesticide Use Category"
   ]
  },
  {
   "cell_type": "code",
   "execution_count": 51,
   "metadata": {},
   "outputs": [
    {
     "data": {
      "text/plain": [
       "<matplotlib.axes._subplots.AxesSubplot at 0x22a988437c8>"
      ]
     },
     "execution_count": 51,
     "metadata": {},
     "output_type": "execute_result"
    },
    {
     "data": {
      "image/png": "[encoded data removed]",
      "text/plain": [
       "<Figure size 432x288 with 1 Axes>"
      ]
     },
     "metadata": {
      "needs_background": "light"
     },
     "output_type": "display_data"
    }
   ],
   "source": [
    "dataset[\"Pesticide_Use_Category\"].value_counts().plot(kind=\"bar\")"
   ]
  },
  {
   "cell_type": "code",
   "execution_count": 48,
   "metadata": {},
   "outputs": [
    {
     "data": {
      "text/plain": [
       "<matplotlib.axes._subplots.AxesSubplot at 0x22a9a0bac88>"
      ]
     },
     "execution_count": 48,
     "metadata": {},
     "output_type": "execute_result"
    },
    {
     "data": {
      "image/png": "[encoded data removed]",
      "text/plain": [
       "<Figure size 432x288 with 1 Axes>"
      ]
     },
     "metadata": {},
     "output_type": "display_data"
    }
   ],
   "source": [
    "dataset[\"Pesticide_Use_Category\"].value_counts().plot(kind=\"pie\",autopct=\"%.f%%\")"
   ]
  },
  {
   "cell_type": "code",
   "execution_count": 68,
   "metadata": {},
   "outputs": [
    {
     "data": {
      "text/plain": [
       "<matplotlib.axes._subplots.AxesSubplot at 0x22a97b75f88>"
      ]
     },
     "execution_count": 68,
     "metadata": {},
     "output_type": "execute_result"
    },
    {
     "data": {
      "image/png": "[encoded data removed]",
      "text/plain": [
       "<Figure size 432x288 with 1 Axes>"
      ]
     },
     "metadata": {
      "needs_background": "light"
     },
     "output_type": "display_data"
    }
   ],
   "source": [
    "pd.crosstab(dataset[\"Pesticide_Use_Category\"],dataset[\"Crop_Damage\"]).plot(kind=\"bar\")"
   ]
  },
  {
   "cell_type": "code",
   "execution_count": 55,
   "metadata": {},
   "outputs": [],
   "source": [
    "data_damage=dataset[(dataset[\"Crop_Damage\"]==1) | (dataset[\"Crop_Damage\"]==2)]"
   ]
  },
  {
   "cell_type": "code",
   "execution_count": 56,
   "metadata": {},
   "outputs": [
    {
     "data": {
      "text/plain": [
       "<matplotlib.axes._subplots.AxesSubplot at 0x22a9a01bec8>"
      ]
     },
     "execution_count": 56,
     "metadata": {},
     "output_type": "execute_result"
    },
    {
     "data": {
      "image/png": "[encoded data removed]",
      "text/plain": [
       "<Figure size 432x288 with 1 Axes>"
      ]
     },
     "metadata": {
      "needs_background": "light"
     },
     "output_type": "display_data"
    }
   ],
   "source": [
    "pd.crosstab(data_damage[\"Pesticide_Use_Category\"],data_damage[\"Crop_Damage\"]).plot(kind=\"bar\")"
   ]
  },
  {
   "cell_type": "code",
   "execution_count": 1209,
   "metadata": {},
   "outputs": [
    {
     "data": {
      "text/plain": [
       "<matplotlib.axes._subplots.AxesSubplot at 0x2495db3bf88>"
      ]
     },
     "execution_count": 1209,
     "metadata": {},
     "output_type": "execute_result"
    },
    {
     "data": {
      "image/png": "[encoded data removed]",
      "text/plain": [
       "<Figure size 432x288 with 1 Axes>"
      ]
     },
     "metadata": {
      "needs_background": "light"
     },
     "output_type": "display_data"
    }
   ],
   "source": [
    "pd.crosstab(data_damage[\"Pesticide_Use_Category\"],data_damage[\"Crop_Type\"]).plot(kind=\"bar\")"
   ]
  },
  {
   "cell_type": "code",
   "execution_count": 58,
   "metadata": {},
   "outputs": [
    {
     "data": {
      "text/html": [
       "<div>\n",
       "<style scoped>\n",
       "    .dataframe tbody tr th:only-of-type {\n",
       "        vertical-align: middle;\n",
       "    }\n",
       "\n",
       "    .dataframe tbody tr th {\n",
       "        vertical-align: top;\n",
       "    }\n",
       "\n",
       "    .dataframe thead th {\n",
       "        text-align: right;\n",
       "    }\n",
       "</style>\n",
       "<table border=\"1\" class=\"dataframe\">\n",
       "  <thead>\n",
       "    <tr style=\"text-align: right;\">\n",
       "      <th></th>\n",
       "      <th>ID</th>\n",
       "      <th>Estimated_Insects_Count</th>\n",
       "      <th>Crop_Type</th>\n",
       "      <th>Soil_Type</th>\n",
       "      <th>Pesticide_Use_Category</th>\n",
       "      <th>Number_Doses_Week</th>\n",
       "      <th>Number_Weeks_Used</th>\n",
       "      <th>Number_Weeks_Quit</th>\n",
       "      <th>Season</th>\n",
       "      <th>Crop_Damage</th>\n",
       "    </tr>\n",
       "  </thead>\n",
       "  <tbody>\n",
       "    <tr>\n",
       "      <td>1</td>\n",
       "      <td>F00000003</td>\n",
       "      <td>209</td>\n",
       "      <td>1</td>\n",
       "      <td>0</td>\n",
       "      <td>1</td>\n",
       "      <td>0</td>\n",
       "      <td>0.0</td>\n",
       "      <td>0</td>\n",
       "      <td>2</td>\n",
       "      <td>1</td>\n",
       "    </tr>\n",
       "    <tr>\n",
       "      <td>2</td>\n",
       "      <td>F00000004</td>\n",
       "      <td>257</td>\n",
       "      <td>1</td>\n",
       "      <td>0</td>\n",
       "      <td>1</td>\n",
       "      <td>0</td>\n",
       "      <td>0.0</td>\n",
       "      <td>0</td>\n",
       "      <td>2</td>\n",
       "      <td>1</td>\n",
       "    </tr>\n",
       "    <tr>\n",
       "      <td>3</td>\n",
       "      <td>F00000005</td>\n",
       "      <td>257</td>\n",
       "      <td>1</td>\n",
       "      <td>1</td>\n",
       "      <td>1</td>\n",
       "      <td>0</td>\n",
       "      <td>0.0</td>\n",
       "      <td>0</td>\n",
       "      <td>2</td>\n",
       "      <td>1</td>\n",
       "    </tr>\n",
       "    <tr>\n",
       "      <td>4</td>\n",
       "      <td>F00000006</td>\n",
       "      <td>342</td>\n",
       "      <td>1</td>\n",
       "      <td>0</td>\n",
       "      <td>1</td>\n",
       "      <td>0</td>\n",
       "      <td>0.0</td>\n",
       "      <td>0</td>\n",
       "      <td>2</td>\n",
       "      <td>1</td>\n",
       "    </tr>\n",
       "    <tr>\n",
       "      <td>5</td>\n",
       "      <td>F00000008</td>\n",
       "      <td>448</td>\n",
       "      <td>0</td>\n",
       "      <td>1</td>\n",
       "      <td>1</td>\n",
       "      <td>0</td>\n",
       "      <td>NaN</td>\n",
       "      <td>0</td>\n",
       "      <td>2</td>\n",
       "      <td>1</td>\n",
       "    </tr>\n",
       "    <tr>\n",
       "      <td>...</td>\n",
       "      <td>...</td>\n",
       "      <td>...</td>\n",
       "      <td>...</td>\n",
       "      <td>...</td>\n",
       "      <td>...</td>\n",
       "      <td>...</td>\n",
       "      <td>...</td>\n",
       "      <td>...</td>\n",
       "      <td>...</td>\n",
       "      <td>...</td>\n",
       "    </tr>\n",
       "    <tr>\n",
       "      <td>88824</td>\n",
       "      <td>F00155881</td>\n",
       "      <td>2401</td>\n",
       "      <td>1</td>\n",
       "      <td>0</td>\n",
       "      <td>2</td>\n",
       "      <td>20</td>\n",
       "      <td>51.0</td>\n",
       "      <td>3</td>\n",
       "      <td>1</td>\n",
       "      <td>1</td>\n",
       "    </tr>\n",
       "    <tr>\n",
       "      <td>88830</td>\n",
       "      <td>F00155896</td>\n",
       "      <td>2541</td>\n",
       "      <td>1</td>\n",
       "      <td>0</td>\n",
       "      <td>2</td>\n",
       "      <td>20</td>\n",
       "      <td>35.0</td>\n",
       "      <td>12</td>\n",
       "      <td>1</td>\n",
       "      <td>1</td>\n",
       "    </tr>\n",
       "    <tr>\n",
       "      <td>88831</td>\n",
       "      <td>F00155897</td>\n",
       "      <td>2541</td>\n",
       "      <td>1</td>\n",
       "      <td>0</td>\n",
       "      <td>2</td>\n",
       "      <td>10</td>\n",
       "      <td>11.0</td>\n",
       "      <td>26</td>\n",
       "      <td>1</td>\n",
       "      <td>1</td>\n",
       "    </tr>\n",
       "    <tr>\n",
       "      <td>88837</td>\n",
       "      <td>F00155905</td>\n",
       "      <td>2688</td>\n",
       "      <td>1</td>\n",
       "      <td>0</td>\n",
       "      <td>2</td>\n",
       "      <td>25</td>\n",
       "      <td>40.0</td>\n",
       "      <td>12</td>\n",
       "      <td>2</td>\n",
       "      <td>1</td>\n",
       "    </tr>\n",
       "    <tr>\n",
       "      <td>88850</td>\n",
       "      <td>F00155923</td>\n",
       "      <td>2999</td>\n",
       "      <td>1</td>\n",
       "      <td>0</td>\n",
       "      <td>2</td>\n",
       "      <td>10</td>\n",
       "      <td>19.0</td>\n",
       "      <td>16</td>\n",
       "      <td>2</td>\n",
       "      <td>1</td>\n",
       "    </tr>\n",
       "  </tbody>\n",
       "</table>\n",
       "<p>14620 rows × 10 columns</p>\n",
       "</div>"
      ],
      "text/plain": [
       "              ID  Estimated_Insects_Count  Crop_Type  Soil_Type  \\\n",
       "1      F00000003                      209          1          0   \n",
       "2      F00000004                      257          1          0   \n",
       "3      F00000005                      257          1          1   \n",
       "4      F00000006                      342          1          0   \n",
       "5      F00000008                      448          0          1   \n",
       "...          ...                      ...        ...        ...   \n",
       "88824  F00155881                     2401          1          0   \n",
       "88830  F00155896                     2541          1          0   \n",
       "88831  F00155897                     2541          1          0   \n",
       "88837  F00155905                     2688          1          0   \n",
       "88850  F00155923                     2999          1          0   \n",
       "\n",
       "       Pesticide_Use_Category  Number_Doses_Week  Number_Weeks_Used  \\\n",
       "1                           1                  0                0.0   \n",
       "2                           1                  0                0.0   \n",
       "3                           1                  0                0.0   \n",
       "4                           1                  0                0.0   \n",
       "5                           1                  0                NaN   \n",
       "...                       ...                ...                ...   \n",
       "88824                       2                 20               51.0   \n",
       "88830                       2                 20               35.0   \n",
       "88831                       2                 10               11.0   \n",
       "88837                       2                 25               40.0   \n",
       "88850                       2                 10               19.0   \n",
       "\n",
       "       Number_Weeks_Quit  Season  Crop_Damage  \n",
       "1                      0       2            1  \n",
       "2                      0       2            1  \n",
       "3                      0       2            1  \n",
       "4                      0       2            1  \n",
       "5                      0       2            1  \n",
       "...                  ...     ...          ...  \n",
       "88824                  3       1            1  \n",
       "88830                 12       1            1  \n",
       "88831                 26       1            1  \n",
       "88837                 12       2            1  \n",
       "88850                 16       2            1  \n",
       "\n",
       "[14620 rows x 10 columns]"
      ]
     },
     "execution_count": 58,
     "metadata": {},
     "output_type": "execute_result"
    }
   ],
   "source": [
    "data_damage"
   ]
  },
  {
   "cell_type": "code",
   "execution_count": 59,
   "metadata": {},
   "outputs": [],
   "source": [
    "data_damage1=data_damage[(data_damage[\"Pesticide_Use_Category\"]==2) | (data_damage[\"Pesticide_Use_Category\"]==3)]"
   ]
  },
  {
   "cell_type": "code",
   "execution_count": 61,
   "metadata": {
    "scrolled": true
   },
   "outputs": [
    {
     "data": {
      "text/plain": [
       "<matplotlib.axes._subplots.AxesSubplot at 0x22a95ab0708>"
      ]
     },
     "execution_count": 61,
     "metadata": {},
     "output_type": "execute_result"
    },
    {
     "data": {
      "image/png": "[encoded data removed]",
      "text/plain": [
       "<Figure size 432x288 with 1 Axes>"
      ]
     },
     "metadata": {
      "needs_background": "light"
     },
     "output_type": "display_data"
    }
   ],
   "source": [
    "pd.crosstab(data_damage1[\"Pesticide_Use_Category\"],data_damage1[\"Crop_Damage\"]).plot(kind=\"bar\")"
   ]
  },
  {
   "cell_type": "code",
   "execution_count": 394,
   "metadata": {},
   "outputs": [
    {
     "data": {
      "text/plain": [
       "<matplotlib.axes._subplots.AxesSubplot at 0x249369df488>"
      ]
     },
     "execution_count": 394,
     "metadata": {},
     "output_type": "execute_result"
    },
    {
     "data": {
      "image/png": "[encoded data removed]",
      "text/plain": [
       "<Figure size 432x288 with 1 Axes>"
      ]
     },
     "metadata": {
      "needs_background": "light"
     },
     "output_type": "display_data"
    }
   ],
   "source": [
    "pd.crosstab(dataset[dataset[\"Pesticide_Use_Category\"]==1][\"Pesticide_Use_Category\"],dataset[\"Crop_Damage\"]).plot(kind=\"bar\")"
   ]
  },
  {
   "cell_type": "code",
   "execution_count": 72,
   "metadata": {},
   "outputs": [
    {
     "data": {
      "text/plain": [
       "<matplotlib.axes._subplots.AxesSubplot at 0x22a93600e08>"
      ]
     },
     "execution_count": 72,
     "metadata": {},
     "output_type": "execute_result"
    },
    {
     "data": {
      "image/png": "[encoded data removed]",
      "text/plain": [
       "<Figure size 432x288 with 1 Axes>"
      ]
     },
     "metadata": {
      "needs_background": "light"
     },
     "output_type": "display_data"
    }
   ],
   "source": [
    "pd.crosstab(dataset[dataset[\"Pesticide_Use_Category\"]==1][\"Pesticide_Use_Category\"],dataset[\"Crop_Damage\"]).plot(kind=\"bar\")"
   ]
  },
  {
   "cell_type": "code",
   "execution_count": 393,
   "metadata": {},
   "outputs": [
    {
     "data": {
      "text/html": [
       "<div>\n",
       "<style scoped>\n",
       "    .dataframe tbody tr th:only-of-type {\n",
       "        vertical-align: middle;\n",
       "    }\n",
       "\n",
       "    .dataframe tbody tr th {\n",
       "        vertical-align: top;\n",
       "    }\n",
       "\n",
       "    .dataframe thead th {\n",
       "        text-align: right;\n",
       "    }\n",
       "</style>\n",
       "<table border=\"1\" class=\"dataframe\">\n",
       "  <thead>\n",
       "    <tr style=\"text-align: right;\">\n",
       "      <th>Crop_Damage</th>\n",
       "      <th>0</th>\n",
       "      <th>1</th>\n",
       "      <th>2</th>\n",
       "    </tr>\n",
       "    <tr>\n",
       "      <th>Pesticide_Use_Category</th>\n",
       "      <th></th>\n",
       "      <th></th>\n",
       "      <th></th>\n",
       "    </tr>\n",
       "  </thead>\n",
       "  <tbody>\n",
       "    <tr>\n",
       "      <td>2</td>\n",
       "      <td>56958</td>\n",
       "      <td>6072</td>\n",
       "      <td>679</td>\n",
       "    </tr>\n",
       "  </tbody>\n",
       "</table>\n",
       "</div>"
      ],
      "text/plain": [
       "Crop_Damage                 0     1    2\n",
       "Pesticide_Use_Category                  \n",
       "2                       56958  6072  679"
      ]
     },
     "execution_count": 393,
     "metadata": {},
     "output_type": "execute_result"
    }
   ],
   "source": [
    "pd.crosstab(dataset[dataset[\"Pesticide_Use_Category\"]==2][\"Pesticide_Use_Category\"],dataset[\"Crop_Damage\"])"
   ]
  },
  {
   "cell_type": "code",
   "execution_count": 75,
   "metadata": {},
   "outputs": [
    {
     "data": {
      "text/plain": [
       "<matplotlib.axes._subplots.AxesSubplot at 0x22a97da00c8>"
      ]
     },
     "execution_count": 75,
     "metadata": {},
     "output_type": "execute_result"
    },
    {
     "data": {
      "image/png": "[encoded data removed]",
      "text/plain": [
       "<Figure size 432x288 with 1 Axes>"
      ]
     },
     "metadata": {
      "needs_background": "light"
     },
     "output_type": "display_data"
    }
   ],
   "source": [
    "pd.crosstab(dataset[dataset[\"Pesticide_Use_Category\"]==3][\"Pesticide_Use_Category\"],dataset[\"Crop_Damage\"]).plot(kind=\"bar\")"
   ]
  },
  {
   "cell_type": "code",
   "execution_count": 62,
   "metadata": {},
   "outputs": [
    {
     "data": {
      "text/html": [
       "<div>\n",
       "<style scoped>\n",
       "    .dataframe tbody tr th:only-of-type {\n",
       "        vertical-align: middle;\n",
       "    }\n",
       "\n",
       "    .dataframe tbody tr th {\n",
       "        vertical-align: top;\n",
       "    }\n",
       "\n",
       "    .dataframe thead th {\n",
       "        text-align: right;\n",
       "    }\n",
       "</style>\n",
       "<table border=\"1\" class=\"dataframe\">\n",
       "  <thead>\n",
       "    <tr style=\"text-align: right;\">\n",
       "      <th></th>\n",
       "      <th>ID</th>\n",
       "      <th>Estimated_Insects_Count</th>\n",
       "      <th>Crop_Type</th>\n",
       "      <th>Soil_Type</th>\n",
       "      <th>Pesticide_Use_Category</th>\n",
       "      <th>Number_Doses_Week</th>\n",
       "      <th>Number_Weeks_Used</th>\n",
       "      <th>Number_Weeks_Quit</th>\n",
       "      <th>Season</th>\n",
       "      <th>Crop_Damage</th>\n",
       "    </tr>\n",
       "  </thead>\n",
       "  <tbody>\n",
       "    <tr>\n",
       "      <td>0</td>\n",
       "      <td>F00000001</td>\n",
       "      <td>188</td>\n",
       "      <td>1</td>\n",
       "      <td>0</td>\n",
       "      <td>1</td>\n",
       "      <td>0</td>\n",
       "      <td>0.0</td>\n",
       "      <td>0</td>\n",
       "      <td>1</td>\n",
       "      <td>0</td>\n",
       "    </tr>\n",
       "    <tr>\n",
       "      <td>1</td>\n",
       "      <td>F00000003</td>\n",
       "      <td>209</td>\n",
       "      <td>1</td>\n",
       "      <td>0</td>\n",
       "      <td>1</td>\n",
       "      <td>0</td>\n",
       "      <td>0.0</td>\n",
       "      <td>0</td>\n",
       "      <td>2</td>\n",
       "      <td>1</td>\n",
       "    </tr>\n",
       "    <tr>\n",
       "      <td>2</td>\n",
       "      <td>F00000004</td>\n",
       "      <td>257</td>\n",
       "      <td>1</td>\n",
       "      <td>0</td>\n",
       "      <td>1</td>\n",
       "      <td>0</td>\n",
       "      <td>0.0</td>\n",
       "      <td>0</td>\n",
       "      <td>2</td>\n",
       "      <td>1</td>\n",
       "    </tr>\n",
       "    <tr>\n",
       "      <td>3</td>\n",
       "      <td>F00000005</td>\n",
       "      <td>257</td>\n",
       "      <td>1</td>\n",
       "      <td>1</td>\n",
       "      <td>1</td>\n",
       "      <td>0</td>\n",
       "      <td>0.0</td>\n",
       "      <td>0</td>\n",
       "      <td>2</td>\n",
       "      <td>1</td>\n",
       "    </tr>\n",
       "    <tr>\n",
       "      <td>4</td>\n",
       "      <td>F00000006</td>\n",
       "      <td>342</td>\n",
       "      <td>1</td>\n",
       "      <td>0</td>\n",
       "      <td>1</td>\n",
       "      <td>0</td>\n",
       "      <td>0.0</td>\n",
       "      <td>0</td>\n",
       "      <td>2</td>\n",
       "      <td>1</td>\n",
       "    </tr>\n",
       "    <tr>\n",
       "      <td>...</td>\n",
       "      <td>...</td>\n",
       "      <td>...</td>\n",
       "      <td>...</td>\n",
       "      <td>...</td>\n",
       "      <td>...</td>\n",
       "      <td>...</td>\n",
       "      <td>...</td>\n",
       "      <td>...</td>\n",
       "      <td>...</td>\n",
       "      <td>...</td>\n",
       "    </tr>\n",
       "    <tr>\n",
       "      <td>88853</td>\n",
       "      <td>F00155935</td>\n",
       "      <td>3337</td>\n",
       "      <td>1</td>\n",
       "      <td>0</td>\n",
       "      <td>2</td>\n",
       "      <td>10</td>\n",
       "      <td>12.0</td>\n",
       "      <td>44</td>\n",
       "      <td>3</td>\n",
       "      <td>0</td>\n",
       "    </tr>\n",
       "    <tr>\n",
       "      <td>88854</td>\n",
       "      <td>F00155938</td>\n",
       "      <td>3516</td>\n",
       "      <td>1</td>\n",
       "      <td>0</td>\n",
       "      <td>2</td>\n",
       "      <td>10</td>\n",
       "      <td>20.0</td>\n",
       "      <td>38</td>\n",
       "      <td>1</td>\n",
       "      <td>0</td>\n",
       "    </tr>\n",
       "    <tr>\n",
       "      <td>88855</td>\n",
       "      <td>F00155939</td>\n",
       "      <td>3516</td>\n",
       "      <td>1</td>\n",
       "      <td>0</td>\n",
       "      <td>2</td>\n",
       "      <td>15</td>\n",
       "      <td>40.0</td>\n",
       "      <td>8</td>\n",
       "      <td>2</td>\n",
       "      <td>0</td>\n",
       "    </tr>\n",
       "    <tr>\n",
       "      <td>88856</td>\n",
       "      <td>F00155942</td>\n",
       "      <td>3702</td>\n",
       "      <td>1</td>\n",
       "      <td>0</td>\n",
       "      <td>2</td>\n",
       "      <td>10</td>\n",
       "      <td>25.0</td>\n",
       "      <td>18</td>\n",
       "      <td>3</td>\n",
       "      <td>0</td>\n",
       "    </tr>\n",
       "    <tr>\n",
       "      <td>88857</td>\n",
       "      <td>F00155945</td>\n",
       "      <td>3895</td>\n",
       "      <td>1</td>\n",
       "      <td>0</td>\n",
       "      <td>2</td>\n",
       "      <td>20</td>\n",
       "      <td>37.0</td>\n",
       "      <td>7</td>\n",
       "      <td>3</td>\n",
       "      <td>0</td>\n",
       "    </tr>\n",
       "  </tbody>\n",
       "</table>\n",
       "<p>88858 rows × 10 columns</p>\n",
       "</div>"
      ],
      "text/plain": [
       "              ID  Estimated_Insects_Count  Crop_Type  Soil_Type  \\\n",
       "0      F00000001                      188          1          0   \n",
       "1      F00000003                      209          1          0   \n",
       "2      F00000004                      257          1          0   \n",
       "3      F00000005                      257          1          1   \n",
       "4      F00000006                      342          1          0   \n",
       "...          ...                      ...        ...        ...   \n",
       "88853  F00155935                     3337          1          0   \n",
       "88854  F00155938                     3516          1          0   \n",
       "88855  F00155939                     3516          1          0   \n",
       "88856  F00155942                     3702          1          0   \n",
       "88857  F00155945                     3895          1          0   \n",
       "\n",
       "       Pesticide_Use_Category  Number_Doses_Week  Number_Weeks_Used  \\\n",
       "0                           1                  0                0.0   \n",
       "1                           1                  0                0.0   \n",
       "2                           1                  0                0.0   \n",
       "3                           1                  0                0.0   \n",
       "4                           1                  0                0.0   \n",
       "...                       ...                ...                ...   \n",
       "88853                       2                 10               12.0   \n",
       "88854                       2                 10               20.0   \n",
       "88855                       2                 15               40.0   \n",
       "88856                       2                 10               25.0   \n",
       "88857                       2                 20               37.0   \n",
       "\n",
       "       Number_Weeks_Quit  Season  Crop_Damage  \n",
       "0                      0       1            0  \n",
       "1                      0       2            1  \n",
       "2                      0       2            1  \n",
       "3                      0       2            1  \n",
       "4                      0       2            1  \n",
       "...                  ...     ...          ...  \n",
       "88853                 44       3            0  \n",
       "88854                 38       1            0  \n",
       "88855                  8       2            0  \n",
       "88856                 18       3            0  \n",
       "88857                  7       3            0  \n",
       "\n",
       "[88858 rows x 10 columns]"
      ]
     },
     "execution_count": 62,
     "metadata": {},
     "output_type": "execute_result"
    }
   ],
   "source": [
    "dataset"
   ]
  },
  {
   "cell_type": "markdown",
   "metadata": {},
   "source": [
    "# Number_Doses_Week"
   ]
  },
  {
   "cell_type": "code",
   "execution_count": 63,
   "metadata": {},
   "outputs": [
    {
     "data": {
      "text/plain": [
       "0         0\n",
       "1         0\n",
       "2         0\n",
       "3         0\n",
       "4         0\n",
       "         ..\n",
       "88853    10\n",
       "88854    10\n",
       "88855    15\n",
       "88856    10\n",
       "88857    20\n",
       "Name: Number_Doses_Week, Length: 88858, dtype: int64"
      ]
     },
     "execution_count": 63,
     "metadata": {},
     "output_type": "execute_result"
    }
   ],
   "source": [
    "dataset[\"Number_Doses_Week\"]"
   ]
  },
  {
   "cell_type": "code",
   "execution_count": 64,
   "metadata": {},
   "outputs": [
    {
     "data": {
      "text/plain": [
       "count    88858.000000\n",
       "mean        25.849952\n",
       "std         15.554428\n",
       "min          0.000000\n",
       "25%         15.000000\n",
       "50%         20.000000\n",
       "75%         40.000000\n",
       "max         95.000000\n",
       "Name: Number_Doses_Week, dtype: float64"
      ]
     },
     "execution_count": 64,
     "metadata": {},
     "output_type": "execute_result"
    }
   ],
   "source": [
    "dataset[\"Number_Doses_Week\"].describe()"
   ]
  },
  {
   "cell_type": "code",
   "execution_count": 76,
   "metadata": {},
   "outputs": [
    {
     "data": {
      "text/plain": [
       "count    79858.000000\n",
       "mean        28.623970\n",
       "std         12.391881\n",
       "min          0.000000\n",
       "25%         20.000000\n",
       "50%         28.000000\n",
       "75%         37.000000\n",
       "max         67.000000\n",
       "Name: Number_Weeks_Used, dtype: float64"
      ]
     },
     "execution_count": 76,
     "metadata": {},
     "output_type": "execute_result"
    }
   ],
   "source": [
    "dataset[\"Number_Weeks_Used\"].describe()"
   ]
  },
  {
   "cell_type": "code",
   "execution_count": 77,
   "metadata": {},
   "outputs": [
    {
     "data": {
      "text/plain": [
       "count    88858.000000\n",
       "mean         9.589986\n",
       "std          9.900631\n",
       "min          0.000000\n",
       "25%          0.000000\n",
       "50%          7.000000\n",
       "75%         16.000000\n",
       "max         50.000000\n",
       "Name: Number_Weeks_Quit, dtype: float64"
      ]
     },
     "execution_count": 77,
     "metadata": {},
     "output_type": "execute_result"
    }
   ],
   "source": [
    "dataset[\"Number_Weeks_Quit\"].describe()"
   ]
  },
  {
   "cell_type": "code",
   "execution_count": 79,
   "metadata": {},
   "outputs": [
    {
     "data": {
      "text/plain": [
       "Pesticide_Use_Category\n",
       "1     0.000000\n",
       "2    26.616495\n",
       "3    34.840598\n",
       "Name: Number_Weeks_Used, dtype: float64"
      ]
     },
     "execution_count": 79,
     "metadata": {},
     "output_type": "execute_result"
    }
   ],
   "source": [
    "dataset.groupby(\"Pesticide_Use_Category\").mean()[\"Number_Weeks_Used\"]"
   ]
  },
  {
   "cell_type": "code",
   "execution_count": 80,
   "metadata": {},
   "outputs": [
    {
     "data": {
      "text/plain": [
       "Pesticide_Use_Category\n",
       "1     0.000000\n",
       "2    13.375614\n",
       "3     0.000000\n",
       "Name: Number_Weeks_Quit, dtype: float64"
      ]
     },
     "execution_count": 80,
     "metadata": {},
     "output_type": "execute_result"
    }
   ],
   "source": [
    "dataset.groupby(\"Pesticide_Use_Category\").mean()[\"Number_Weeks_Quit\"]"
   ]
  },
  {
   "cell_type": "code",
   "execution_count": 81,
   "metadata": {},
   "outputs": [
    {
     "data": {
      "text/plain": [
       "Pesticide_Use_Category\n",
       "1     0.000000\n",
       "2    26.564222\n",
       "3    24.868172\n",
       "Name: Number_Doses_Week, dtype: float64"
      ]
     },
     "execution_count": 81,
     "metadata": {},
     "output_type": "execute_result"
    }
   ],
   "source": [
    "dataset.groupby(\"Pesticide_Use_Category\").mean()[\"Number_Doses_Week\"]"
   ]
  },
  {
   "cell_type": "code",
   "execution_count": 82,
   "metadata": {},
   "outputs": [
    {
     "data": {
      "text/plain": [
       "Crop_Damage\n",
       "0    27.349640\n",
       "1    34.589746\n",
       "2    37.902724\n",
       "Name: Number_Weeks_Used, dtype: float64"
      ]
     },
     "execution_count": 82,
     "metadata": {},
     "output_type": "execute_result"
    }
   ],
   "source": [
    "dataset.groupby(\"Crop_Damage\").mean()[\"Number_Weeks_Used\"]"
   ]
  },
  {
   "cell_type": "code",
   "execution_count": 83,
   "metadata": {},
   "outputs": [
    {
     "data": {
      "text/plain": [
       "Crop_Damage\n",
       "0    10.110644\n",
       "1     7.630698\n",
       "2     3.303934\n",
       "Name: Number_Weeks_Quit, dtype: float64"
      ]
     },
     "execution_count": 83,
     "metadata": {},
     "output_type": "execute_result"
    }
   ],
   "source": [
    "dataset.groupby(\"Crop_Damage\").mean()[\"Number_Weeks_Quit\"]"
   ]
  },
  {
   "cell_type": "code",
   "execution_count": 85,
   "metadata": {},
   "outputs": [
    {
     "data": {
      "text/html": [
       "<div>\n",
       "<style scoped>\n",
       "    .dataframe tbody tr th:only-of-type {\n",
       "        vertical-align: middle;\n",
       "    }\n",
       "\n",
       "    .dataframe tbody tr th {\n",
       "        vertical-align: top;\n",
       "    }\n",
       "\n",
       "    .dataframe thead th {\n",
       "        text-align: right;\n",
       "    }\n",
       "</style>\n",
       "<table border=\"1\" class=\"dataframe\">\n",
       "  <thead>\n",
       "    <tr style=\"text-align: right;\">\n",
       "      <th></th>\n",
       "      <th>count</th>\n",
       "      <th>mean</th>\n",
       "      <th>std</th>\n",
       "      <th>min</th>\n",
       "      <th>25%</th>\n",
       "      <th>50%</th>\n",
       "      <th>75%</th>\n",
       "      <th>max</th>\n",
       "    </tr>\n",
       "    <tr>\n",
       "      <th>Crop_Damage</th>\n",
       "      <th></th>\n",
       "      <th></th>\n",
       "      <th></th>\n",
       "      <th></th>\n",
       "      <th></th>\n",
       "      <th></th>\n",
       "      <th></th>\n",
       "      <th></th>\n",
       "    </tr>\n",
       "  </thead>\n",
       "  <tbody>\n",
       "    <tr>\n",
       "      <td>0</td>\n",
       "      <td>74238.0</td>\n",
       "      <td>26.119238</td>\n",
       "      <td>15.713925</td>\n",
       "      <td>0.0</td>\n",
       "      <td>15.0</td>\n",
       "      <td>20.0</td>\n",
       "      <td>40.0</td>\n",
       "      <td>95.0</td>\n",
       "    </tr>\n",
       "    <tr>\n",
       "      <td>1</td>\n",
       "      <td>12307.0</td>\n",
       "      <td>24.176079</td>\n",
       "      <td>14.560285</td>\n",
       "      <td>0.0</td>\n",
       "      <td>15.0</td>\n",
       "      <td>20.0</td>\n",
       "      <td>30.0</td>\n",
       "      <td>95.0</td>\n",
       "    </tr>\n",
       "    <tr>\n",
       "      <td>2</td>\n",
       "      <td>2313.0</td>\n",
       "      <td>26.113273</td>\n",
       "      <td>14.968368</td>\n",
       "      <td>0.0</td>\n",
       "      <td>20.0</td>\n",
       "      <td>20.0</td>\n",
       "      <td>40.0</td>\n",
       "      <td>90.0</td>\n",
       "    </tr>\n",
       "  </tbody>\n",
       "</table>\n",
       "</div>"
      ],
      "text/plain": [
       "               count       mean        std  min   25%   50%   75%   max\n",
       "Crop_Damage                                                            \n",
       "0            74238.0  26.119238  15.713925  0.0  15.0  20.0  40.0  95.0\n",
       "1            12307.0  24.176079  14.560285  0.0  15.0  20.0  30.0  95.0\n",
       "2             2313.0  26.113273  14.968368  0.0  20.0  20.0  40.0  90.0"
      ]
     },
     "execution_count": 85,
     "metadata": {},
     "output_type": "execute_result"
    }
   ],
   "source": [
    "dataset.groupby(\"Crop_Damage\").describe()[\"Number_Doses_Week\"]"
   ]
  },
  {
   "cell_type": "code",
   "execution_count": 90,
   "metadata": {},
   "outputs": [
    {
     "data": {
      "text/html": [
       "<div>\n",
       "<style scoped>\n",
       "    .dataframe tbody tr th:only-of-type {\n",
       "        vertical-align: middle;\n",
       "    }\n",
       "\n",
       "    .dataframe tbody tr th {\n",
       "        vertical-align: top;\n",
       "    }\n",
       "\n",
       "    .dataframe thead th {\n",
       "        text-align: right;\n",
       "    }\n",
       "</style>\n",
       "<table border=\"1\" class=\"dataframe\">\n",
       "  <thead>\n",
       "    <tr style=\"text-align: right;\">\n",
       "      <th></th>\n",
       "      <th>Number_Doses_Week</th>\n",
       "      <th>Number_Weeks_Quit</th>\n",
       "      <th>Number_Weeks_Used</th>\n",
       "      <th>Pesticide_Use_Category</th>\n",
       "    </tr>\n",
       "  </thead>\n",
       "  <tbody>\n",
       "    <tr>\n",
       "      <td>0</td>\n",
       "      <td>0</td>\n",
       "      <td>0</td>\n",
       "      <td>0.0</td>\n",
       "      <td>1</td>\n",
       "    </tr>\n",
       "    <tr>\n",
       "      <td>1</td>\n",
       "      <td>0</td>\n",
       "      <td>0</td>\n",
       "      <td>0.0</td>\n",
       "      <td>1</td>\n",
       "    </tr>\n",
       "    <tr>\n",
       "      <td>2</td>\n",
       "      <td>0</td>\n",
       "      <td>0</td>\n",
       "      <td>0.0</td>\n",
       "      <td>1</td>\n",
       "    </tr>\n",
       "    <tr>\n",
       "      <td>3</td>\n",
       "      <td>0</td>\n",
       "      <td>0</td>\n",
       "      <td>0.0</td>\n",
       "      <td>1</td>\n",
       "    </tr>\n",
       "    <tr>\n",
       "      <td>4</td>\n",
       "      <td>0</td>\n",
       "      <td>0</td>\n",
       "      <td>0.0</td>\n",
       "      <td>1</td>\n",
       "    </tr>\n",
       "    <tr>\n",
       "      <td>...</td>\n",
       "      <td>...</td>\n",
       "      <td>...</td>\n",
       "      <td>...</td>\n",
       "      <td>...</td>\n",
       "    </tr>\n",
       "    <tr>\n",
       "      <td>88853</td>\n",
       "      <td>10</td>\n",
       "      <td>44</td>\n",
       "      <td>12.0</td>\n",
       "      <td>2</td>\n",
       "    </tr>\n",
       "    <tr>\n",
       "      <td>88854</td>\n",
       "      <td>10</td>\n",
       "      <td>38</td>\n",
       "      <td>20.0</td>\n",
       "      <td>2</td>\n",
       "    </tr>\n",
       "    <tr>\n",
       "      <td>88855</td>\n",
       "      <td>15</td>\n",
       "      <td>8</td>\n",
       "      <td>40.0</td>\n",
       "      <td>2</td>\n",
       "    </tr>\n",
       "    <tr>\n",
       "      <td>88856</td>\n",
       "      <td>10</td>\n",
       "      <td>18</td>\n",
       "      <td>25.0</td>\n",
       "      <td>2</td>\n",
       "    </tr>\n",
       "    <tr>\n",
       "      <td>88857</td>\n",
       "      <td>20</td>\n",
       "      <td>7</td>\n",
       "      <td>37.0</td>\n",
       "      <td>2</td>\n",
       "    </tr>\n",
       "  </tbody>\n",
       "</table>\n",
       "<p>88858 rows × 4 columns</p>\n",
       "</div>"
      ],
      "text/plain": [
       "       Number_Doses_Week  Number_Weeks_Quit  Number_Weeks_Used  \\\n",
       "0                      0                  0                0.0   \n",
       "1                      0                  0                0.0   \n",
       "2                      0                  0                0.0   \n",
       "3                      0                  0                0.0   \n",
       "4                      0                  0                0.0   \n",
       "...                  ...                ...                ...   \n",
       "88853                 10                 44               12.0   \n",
       "88854                 10                 38               20.0   \n",
       "88855                 15                  8               40.0   \n",
       "88856                 10                 18               25.0   \n",
       "88857                 20                  7               37.0   \n",
       "\n",
       "       Pesticide_Use_Category  \n",
       "0                           1  \n",
       "1                           1  \n",
       "2                           1  \n",
       "3                           1  \n",
       "4                           1  \n",
       "...                       ...  \n",
       "88853                       2  \n",
       "88854                       2  \n",
       "88855                       2  \n",
       "88856                       2  \n",
       "88857                       2  \n",
       "\n",
       "[88858 rows x 4 columns]"
      ]
     },
     "execution_count": 90,
     "metadata": {},
     "output_type": "execute_result"
    }
   ],
   "source": [
    "dataset[[\"Number_Doses_Week\",\"Number_Weeks_Quit\",\"Number_Weeks_Used\",\"Pesticide_Use_Category\"]]"
   ]
  },
  {
   "cell_type": "code",
   "execution_count": 94,
   "metadata": {},
   "outputs": [
    {
     "data": {
      "text/plain": [
       "2    44210\n",
       "1    26902\n",
       "3    17746\n",
       "Name: Season, dtype: int64"
      ]
     },
     "execution_count": 94,
     "metadata": {},
     "output_type": "execute_result"
    }
   ],
   "source": [
    "dataset[\"Season\"].value_counts()"
   ]
  },
  {
   "cell_type": "code",
   "execution_count": 93,
   "metadata": {},
   "outputs": [
    {
     "data": {
      "text/plain": [
       "<matplotlib.axes._subplots.AxesSubplot at 0x22a97afb5c8>"
      ]
     },
     "execution_count": 93,
     "metadata": {},
     "output_type": "execute_result"
    },
    {
     "data": {
      "image/png": "[encoded data removed]",
      "text/plain": [
       "<Figure size 432x288 with 1 Axes>"
      ]
     },
     "metadata": {},
     "output_type": "display_data"
    }
   ],
   "source": [
    "dataset[\"Season\"].value_counts().plot(kind=\"pie\",autopct=\"%.f%%\")"
   ]
  },
  {
   "cell_type": "code",
   "execution_count": 96,
   "metadata": {},
   "outputs": [
    {
     "data": {
      "text/plain": [
       "<matplotlib.axes._subplots.AxesSubplot at 0x22a97a49988>"
      ]
     },
     "execution_count": 96,
     "metadata": {},
     "output_type": "execute_result"
    },
    {
     "data": {
      "image/png": "[encoded data removed]",
      "text/plain": [
       "<Figure size 432x288 with 1 Axes>"
      ]
     },
     "metadata": {
      "needs_background": "light"
     },
     "output_type": "display_data"
    }
   ],
   "source": [
    "pd.crosstab(dataset[\"Season\"],dataset[\"Crop_Damage\"]).plot(kind=\"bar\")"
   ]
  },
  {
   "cell_type": "markdown",
   "metadata": {},
   "source": [
    "# Feature Engineering"
   ]
  },
  {
   "cell_type": "code",
   "execution_count": 99,
   "metadata": {},
   "outputs": [],
   "source": [
    "dataset=pd.read_csv(\"train_yaOffsB.csv\")"
   ]
  },
  {
   "cell_type": "code",
   "execution_count": 100,
   "metadata": {},
   "outputs": [
    {
     "data": {
      "text/plain": [
       "ID                         False\n",
       "Estimated_Insects_Count    False\n",
       "Crop_Type                  False\n",
       "Soil_Type                  False\n",
       "Pesticide_Use_Category     False\n",
       "Number_Doses_Week          False\n",
       "Number_Weeks_Used           True\n",
       "Number_Weeks_Quit          False\n",
       "Season                     False\n",
       "Crop_Damage                False\n",
       "dtype: bool"
      ]
     },
     "execution_count": 100,
     "metadata": {},
     "output_type": "execute_result"
    }
   ],
   "source": [
    "dataset.isnull().any()"
   ]
  },
  {
   "cell_type": "code",
   "execution_count": 101,
   "metadata": {},
   "outputs": [
    {
     "data": {
      "text/plain": [
       "array([0], dtype=int64)"
      ]
     },
     "execution_count": 101,
     "metadata": {},
     "output_type": "execute_result"
    }
   ],
   "source": [
    "dataset[dataset[\"Pesticide_Use_Category\"]==1][\"Number_Weeks_Quit\"].unique()"
   ]
  },
  {
   "cell_type": "code",
   "execution_count": 102,
   "metadata": {},
   "outputs": [
    {
     "data": {
      "text/plain": [
       "0        0.0\n",
       "1        0.0\n",
       "2        0.0\n",
       "3        0.0\n",
       "4        0.0\n",
       "        ... \n",
       "86351    NaN\n",
       "86352    0.0\n",
       "86353    NaN\n",
       "86354    0.0\n",
       "86355    0.0\n",
       "Name: Number_Weeks_Used, Length: 837, dtype: float64"
      ]
     },
     "execution_count": 102,
     "metadata": {},
     "output_type": "execute_result"
    }
   ],
   "source": [
    "dataset[dataset[\"Pesticide_Use_Category\"]==1][\"Number_Weeks_Used\"]"
   ]
  },
  {
   "cell_type": "code",
   "execution_count": 103,
   "metadata": {},
   "outputs": [],
   "source": [
    "na_index=dataset.loc[dataset[\"Number_Weeks_Used\"].isnull() & dataset[\"Pesticide_Use_Category\"]==1 ][\"Number_Weeks_Used\"].index"
   ]
  },
  {
   "cell_type": "code",
   "execution_count": 104,
   "metadata": {},
   "outputs": [],
   "source": [
    "dataset.loc[na_index,\"Number_Weeks_Used\"]=[[0]]"
   ]
  },
  {
   "cell_type": "code",
   "execution_count": 105,
   "metadata": {},
   "outputs": [
    {
     "data": {
      "text/plain": [
       "ID                            0\n",
       "Estimated_Insects_Count       0\n",
       "Crop_Type                     0\n",
       "Soil_Type                     0\n",
       "Pesticide_Use_Category        0\n",
       "Number_Doses_Week             0\n",
       "Number_Weeks_Used          6479\n",
       "Number_Weeks_Quit             0\n",
       "Season                        0\n",
       "Crop_Damage                   0\n",
       "dtype: int64"
      ]
     },
     "execution_count": 105,
     "metadata": {},
     "output_type": "execute_result"
    }
   ],
   "source": [
    "dataset.isnull().sum()"
   ]
  },
  {
   "cell_type": "code",
   "execution_count": 106,
   "metadata": {},
   "outputs": [
    {
     "data": {
      "text/plain": [
       "count    82379.000000\n",
       "mean        27.748006\n",
       "std         13.159253\n",
       "min          0.000000\n",
       "25%         19.000000\n",
       "50%         27.000000\n",
       "75%         37.000000\n",
       "max         67.000000\n",
       "Name: Number_Weeks_Used, dtype: float64"
      ]
     },
     "execution_count": 106,
     "metadata": {},
     "output_type": "execute_result"
    }
   ],
   "source": [
    "dataset.describe()[\"Number_Weeks_Used\"]"
   ]
  },
  {
   "cell_type": "code",
   "execution_count": 107,
   "metadata": {},
   "outputs": [
    {
     "data": {
      "text/plain": [
       "array([nan, 14., 26., 20., 24., 12., 25., 10., 23., 15., 30., 18., 11.,\n",
       "        5., 21., 22., 28., 31., 32., 19., 27., 16., 17.,  9., 13., 33.,\n",
       "       38., 29., 37., 36., 39., 34., 41., 35., 40., 45., 43., 48., 50.,\n",
       "       47.,  8., 44., 46., 49., 52., 42., 54., 55., 51., 60., 56.,  7.,\n",
       "        6., 53., 58., 59., 57., 64., 65., 61., 62., 63.])"
      ]
     },
     "execution_count": 107,
     "metadata": {},
     "output_type": "execute_result"
    }
   ],
   "source": [
    "dataset[dataset[\"Pesticide_Use_Category\"]==2][\"Number_Weeks_Used\"].unique()"
   ]
  },
  {
   "cell_type": "code",
   "execution_count": 108,
   "metadata": {},
   "outputs": [
    {
     "data": {
      "text/plain": [
       "Pesticide_Use_Category\n",
       "1     0.000000\n",
       "2    26.616495\n",
       "3    31.366856\n",
       "Name: Number_Weeks_Used, dtype: float64"
      ]
     },
     "execution_count": 108,
     "metadata": {},
     "output_type": "execute_result"
    }
   ],
   "source": [
    "dataset.groupby(\"Pesticide_Use_Category\")[\"Number_Weeks_Used\"].mean()"
   ]
  },
  {
   "cell_type": "code",
   "execution_count": 109,
   "metadata": {},
   "outputs": [],
   "source": [
    "dataset.fillna(dataset.median(),inplace=True)"
   ]
  },
  {
   "cell_type": "code",
   "execution_count": 110,
   "metadata": {},
   "outputs": [
    {
     "data": {
      "text/plain": [
       "ID                         0\n",
       "Estimated_Insects_Count    0\n",
       "Crop_Type                  0\n",
       "Soil_Type                  0\n",
       "Pesticide_Use_Category     0\n",
       "Number_Doses_Week          0\n",
       "Number_Weeks_Used          0\n",
       "Number_Weeks_Quit          0\n",
       "Season                     0\n",
       "Crop_Damage                0\n",
       "dtype: int64"
      ]
     },
     "execution_count": 110,
     "metadata": {},
     "output_type": "execute_result"
    }
   ],
   "source": [
    "dataset.isnull().sum()"
   ]
  },
  {
   "cell_type": "code",
   "execution_count": 111,
   "metadata": {},
   "outputs": [
    {
     "data": {
      "text/html": [
       "<div>\n",
       "<style scoped>\n",
       "    .dataframe tbody tr th:only-of-type {\n",
       "        vertical-align: middle;\n",
       "    }\n",
       "\n",
       "    .dataframe tbody tr th {\n",
       "        vertical-align: top;\n",
       "    }\n",
       "\n",
       "    .dataframe thead th {\n",
       "        text-align: right;\n",
       "    }\n",
       "</style>\n",
       "<table border=\"1\" class=\"dataframe\">\n",
       "  <thead>\n",
       "    <tr style=\"text-align: right;\">\n",
       "      <th></th>\n",
       "      <th>ID</th>\n",
       "      <th>Estimated_Insects_Count</th>\n",
       "      <th>Crop_Type</th>\n",
       "      <th>Soil_Type</th>\n",
       "      <th>Pesticide_Use_Category</th>\n",
       "      <th>Number_Doses_Week</th>\n",
       "      <th>Number_Weeks_Used</th>\n",
       "      <th>Number_Weeks_Quit</th>\n",
       "      <th>Season</th>\n",
       "      <th>Crop_Damage</th>\n",
       "    </tr>\n",
       "  </thead>\n",
       "  <tbody>\n",
       "    <tr>\n",
       "      <td>0</td>\n",
       "      <td>F00000001</td>\n",
       "      <td>188</td>\n",
       "      <td>1</td>\n",
       "      <td>0</td>\n",
       "      <td>1</td>\n",
       "      <td>0</td>\n",
       "      <td>0.0</td>\n",
       "      <td>0</td>\n",
       "      <td>1</td>\n",
       "      <td>0</td>\n",
       "    </tr>\n",
       "    <tr>\n",
       "      <td>1</td>\n",
       "      <td>F00000003</td>\n",
       "      <td>209</td>\n",
       "      <td>1</td>\n",
       "      <td>0</td>\n",
       "      <td>1</td>\n",
       "      <td>0</td>\n",
       "      <td>0.0</td>\n",
       "      <td>0</td>\n",
       "      <td>2</td>\n",
       "      <td>1</td>\n",
       "    </tr>\n",
       "    <tr>\n",
       "      <td>2</td>\n",
       "      <td>F00000004</td>\n",
       "      <td>257</td>\n",
       "      <td>1</td>\n",
       "      <td>0</td>\n",
       "      <td>1</td>\n",
       "      <td>0</td>\n",
       "      <td>0.0</td>\n",
       "      <td>0</td>\n",
       "      <td>2</td>\n",
       "      <td>1</td>\n",
       "    </tr>\n",
       "    <tr>\n",
       "      <td>3</td>\n",
       "      <td>F00000005</td>\n",
       "      <td>257</td>\n",
       "      <td>1</td>\n",
       "      <td>1</td>\n",
       "      <td>1</td>\n",
       "      <td>0</td>\n",
       "      <td>0.0</td>\n",
       "      <td>0</td>\n",
       "      <td>2</td>\n",
       "      <td>1</td>\n",
       "    </tr>\n",
       "    <tr>\n",
       "      <td>4</td>\n",
       "      <td>F00000006</td>\n",
       "      <td>342</td>\n",
       "      <td>1</td>\n",
       "      <td>0</td>\n",
       "      <td>1</td>\n",
       "      <td>0</td>\n",
       "      <td>0.0</td>\n",
       "      <td>0</td>\n",
       "      <td>2</td>\n",
       "      <td>1</td>\n",
       "    </tr>\n",
       "    <tr>\n",
       "      <td>...</td>\n",
       "      <td>...</td>\n",
       "      <td>...</td>\n",
       "      <td>...</td>\n",
       "      <td>...</td>\n",
       "      <td>...</td>\n",
       "      <td>...</td>\n",
       "      <td>...</td>\n",
       "      <td>...</td>\n",
       "      <td>...</td>\n",
       "      <td>...</td>\n",
       "    </tr>\n",
       "    <tr>\n",
       "      <td>88853</td>\n",
       "      <td>F00155935</td>\n",
       "      <td>3337</td>\n",
       "      <td>1</td>\n",
       "      <td>0</td>\n",
       "      <td>2</td>\n",
       "      <td>10</td>\n",
       "      <td>12.0</td>\n",
       "      <td>44</td>\n",
       "      <td>3</td>\n",
       "      <td>0</td>\n",
       "    </tr>\n",
       "    <tr>\n",
       "      <td>88854</td>\n",
       "      <td>F00155938</td>\n",
       "      <td>3516</td>\n",
       "      <td>1</td>\n",
       "      <td>0</td>\n",
       "      <td>2</td>\n",
       "      <td>10</td>\n",
       "      <td>20.0</td>\n",
       "      <td>38</td>\n",
       "      <td>1</td>\n",
       "      <td>0</td>\n",
       "    </tr>\n",
       "    <tr>\n",
       "      <td>88855</td>\n",
       "      <td>F00155939</td>\n",
       "      <td>3516</td>\n",
       "      <td>1</td>\n",
       "      <td>0</td>\n",
       "      <td>2</td>\n",
       "      <td>15</td>\n",
       "      <td>40.0</td>\n",
       "      <td>8</td>\n",
       "      <td>2</td>\n",
       "      <td>0</td>\n",
       "    </tr>\n",
       "    <tr>\n",
       "      <td>88856</td>\n",
       "      <td>F00155942</td>\n",
       "      <td>3702</td>\n",
       "      <td>1</td>\n",
       "      <td>0</td>\n",
       "      <td>2</td>\n",
       "      <td>10</td>\n",
       "      <td>25.0</td>\n",
       "      <td>18</td>\n",
       "      <td>3</td>\n",
       "      <td>0</td>\n",
       "    </tr>\n",
       "    <tr>\n",
       "      <td>88857</td>\n",
       "      <td>F00155945</td>\n",
       "      <td>3895</td>\n",
       "      <td>1</td>\n",
       "      <td>0</td>\n",
       "      <td>2</td>\n",
       "      <td>20</td>\n",
       "      <td>37.0</td>\n",
       "      <td>7</td>\n",
       "      <td>3</td>\n",
       "      <td>0</td>\n",
       "    </tr>\n",
       "  </tbody>\n",
       "</table>\n",
       "<p>88858 rows × 10 columns</p>\n",
       "</div>"
      ],
      "text/plain": [
       "              ID  Estimated_Insects_Count  Crop_Type  Soil_Type  \\\n",
       "0      F00000001                      188          1          0   \n",
       "1      F00000003                      209          1          0   \n",
       "2      F00000004                      257          1          0   \n",
       "3      F00000005                      257          1          1   \n",
       "4      F00000006                      342          1          0   \n",
       "...          ...                      ...        ...        ...   \n",
       "88853  F00155935                     3337          1          0   \n",
       "88854  F00155938                     3516          1          0   \n",
       "88855  F00155939                     3516          1          0   \n",
       "88856  F00155942                     3702          1          0   \n",
       "88857  F00155945                     3895          1          0   \n",
       "\n",
       "       Pesticide_Use_Category  Number_Doses_Week  Number_Weeks_Used  \\\n",
       "0                           1                  0                0.0   \n",
       "1                           1                  0                0.0   \n",
       "2                           1                  0                0.0   \n",
       "3                           1                  0                0.0   \n",
       "4                           1                  0                0.0   \n",
       "...                       ...                ...                ...   \n",
       "88853                       2                 10               12.0   \n",
       "88854                       2                 10               20.0   \n",
       "88855                       2                 15               40.0   \n",
       "88856                       2                 10               25.0   \n",
       "88857                       2                 20               37.0   \n",
       "\n",
       "       Number_Weeks_Quit  Season  Crop_Damage  \n",
       "0                      0       1            0  \n",
       "1                      0       2            1  \n",
       "2                      0       2            1  \n",
       "3                      0       2            1  \n",
       "4                      0       2            1  \n",
       "...                  ...     ...          ...  \n",
       "88853                 44       3            0  \n",
       "88854                 38       1            0  \n",
       "88855                  8       2            0  \n",
       "88856                 18       3            0  \n",
       "88857                  7       3            0  \n",
       "\n",
       "[88858 rows x 10 columns]"
      ]
     },
     "execution_count": 111,
     "metadata": {},
     "output_type": "execute_result"
    }
   ],
   "source": [
    "dataset"
   ]
  },
  {
   "cell_type": "markdown",
   "metadata": {},
   "source": [
    "# Generate More Features"
   ]
  },
  {
   "cell_type": "code",
   "execution_count": 112,
   "metadata": {},
   "outputs": [],
   "source": [
    "dataset[\"total_week\"]=dataset[\"Number_Weeks_Used\"]+dataset[\"Number_Weeks_Quit\"]"
   ]
  },
  {
   "cell_type": "code",
   "execution_count": 113,
   "metadata": {},
   "outputs": [
    {
     "data": {
      "text/html": [
       "<div>\n",
       "<style scoped>\n",
       "    .dataframe tbody tr th:only-of-type {\n",
       "        vertical-align: middle;\n",
       "    }\n",
       "\n",
       "    .dataframe tbody tr th {\n",
       "        vertical-align: top;\n",
       "    }\n",
       "\n",
       "    .dataframe thead th {\n",
       "        text-align: right;\n",
       "    }\n",
       "</style>\n",
       "<table border=\"1\" class=\"dataframe\">\n",
       "  <thead>\n",
       "    <tr style=\"text-align: right;\">\n",
       "      <th></th>\n",
       "      <th>ID</th>\n",
       "      <th>Estimated_Insects_Count</th>\n",
       "      <th>Crop_Type</th>\n",
       "      <th>Soil_Type</th>\n",
       "      <th>Pesticide_Use_Category</th>\n",
       "      <th>Number_Doses_Week</th>\n",
       "      <th>Number_Weeks_Used</th>\n",
       "      <th>Number_Weeks_Quit</th>\n",
       "      <th>Season</th>\n",
       "      <th>Crop_Damage</th>\n",
       "      <th>total_week</th>\n",
       "    </tr>\n",
       "  </thead>\n",
       "  <tbody>\n",
       "    <tr>\n",
       "      <td>0</td>\n",
       "      <td>F00000001</td>\n",
       "      <td>188</td>\n",
       "      <td>1</td>\n",
       "      <td>0</td>\n",
       "      <td>1</td>\n",
       "      <td>0</td>\n",
       "      <td>0.0</td>\n",
       "      <td>0</td>\n",
       "      <td>1</td>\n",
       "      <td>0</td>\n",
       "      <td>0.0</td>\n",
       "    </tr>\n",
       "    <tr>\n",
       "      <td>1</td>\n",
       "      <td>F00000003</td>\n",
       "      <td>209</td>\n",
       "      <td>1</td>\n",
       "      <td>0</td>\n",
       "      <td>1</td>\n",
       "      <td>0</td>\n",
       "      <td>0.0</td>\n",
       "      <td>0</td>\n",
       "      <td>2</td>\n",
       "      <td>1</td>\n",
       "      <td>0.0</td>\n",
       "    </tr>\n",
       "    <tr>\n",
       "      <td>2</td>\n",
       "      <td>F00000004</td>\n",
       "      <td>257</td>\n",
       "      <td>1</td>\n",
       "      <td>0</td>\n",
       "      <td>1</td>\n",
       "      <td>0</td>\n",
       "      <td>0.0</td>\n",
       "      <td>0</td>\n",
       "      <td>2</td>\n",
       "      <td>1</td>\n",
       "      <td>0.0</td>\n",
       "    </tr>\n",
       "    <tr>\n",
       "      <td>3</td>\n",
       "      <td>F00000005</td>\n",
       "      <td>257</td>\n",
       "      <td>1</td>\n",
       "      <td>1</td>\n",
       "      <td>1</td>\n",
       "      <td>0</td>\n",
       "      <td>0.0</td>\n",
       "      <td>0</td>\n",
       "      <td>2</td>\n",
       "      <td>1</td>\n",
       "      <td>0.0</td>\n",
       "    </tr>\n",
       "    <tr>\n",
       "      <td>4</td>\n",
       "      <td>F00000006</td>\n",
       "      <td>342</td>\n",
       "      <td>1</td>\n",
       "      <td>0</td>\n",
       "      <td>1</td>\n",
       "      <td>0</td>\n",
       "      <td>0.0</td>\n",
       "      <td>0</td>\n",
       "      <td>2</td>\n",
       "      <td>1</td>\n",
       "      <td>0.0</td>\n",
       "    </tr>\n",
       "    <tr>\n",
       "      <td>...</td>\n",
       "      <td>...</td>\n",
       "      <td>...</td>\n",
       "      <td>...</td>\n",
       "      <td>...</td>\n",
       "      <td>...</td>\n",
       "      <td>...</td>\n",
       "      <td>...</td>\n",
       "      <td>...</td>\n",
       "      <td>...</td>\n",
       "      <td>...</td>\n",
       "      <td>...</td>\n",
       "    </tr>\n",
       "    <tr>\n",
       "      <td>88853</td>\n",
       "      <td>F00155935</td>\n",
       "      <td>3337</td>\n",
       "      <td>1</td>\n",
       "      <td>0</td>\n",
       "      <td>2</td>\n",
       "      <td>10</td>\n",
       "      <td>12.0</td>\n",
       "      <td>44</td>\n",
       "      <td>3</td>\n",
       "      <td>0</td>\n",
       "      <td>56.0</td>\n",
       "    </tr>\n",
       "    <tr>\n",
       "      <td>88854</td>\n",
       "      <td>F00155938</td>\n",
       "      <td>3516</td>\n",
       "      <td>1</td>\n",
       "      <td>0</td>\n",
       "      <td>2</td>\n",
       "      <td>10</td>\n",
       "      <td>20.0</td>\n",
       "      <td>38</td>\n",
       "      <td>1</td>\n",
       "      <td>0</td>\n",
       "      <td>58.0</td>\n",
       "    </tr>\n",
       "    <tr>\n",
       "      <td>88855</td>\n",
       "      <td>F00155939</td>\n",
       "      <td>3516</td>\n",
       "      <td>1</td>\n",
       "      <td>0</td>\n",
       "      <td>2</td>\n",
       "      <td>15</td>\n",
       "      <td>40.0</td>\n",
       "      <td>8</td>\n",
       "      <td>2</td>\n",
       "      <td>0</td>\n",
       "      <td>48.0</td>\n",
       "    </tr>\n",
       "    <tr>\n",
       "      <td>88856</td>\n",
       "      <td>F00155942</td>\n",
       "      <td>3702</td>\n",
       "      <td>1</td>\n",
       "      <td>0</td>\n",
       "      <td>2</td>\n",
       "      <td>10</td>\n",
       "      <td>25.0</td>\n",
       "      <td>18</td>\n",
       "      <td>3</td>\n",
       "      <td>0</td>\n",
       "      <td>43.0</td>\n",
       "    </tr>\n",
       "    <tr>\n",
       "      <td>88857</td>\n",
       "      <td>F00155945</td>\n",
       "      <td>3895</td>\n",
       "      <td>1</td>\n",
       "      <td>0</td>\n",
       "      <td>2</td>\n",
       "      <td>20</td>\n",
       "      <td>37.0</td>\n",
       "      <td>7</td>\n",
       "      <td>3</td>\n",
       "      <td>0</td>\n",
       "      <td>44.0</td>\n",
       "    </tr>\n",
       "  </tbody>\n",
       "</table>\n",
       "<p>88858 rows × 11 columns</p>\n",
       "</div>"
      ],
      "text/plain": [
       "              ID  Estimated_Insects_Count  Crop_Type  Soil_Type  \\\n",
       "0      F00000001                      188          1          0   \n",
       "1      F00000003                      209          1          0   \n",
       "2      F00000004                      257          1          0   \n",
       "3      F00000005                      257          1          1   \n",
       "4      F00000006                      342          1          0   \n",
       "...          ...                      ...        ...        ...   \n",
       "88853  F00155935                     3337          1          0   \n",
       "88854  F00155938                     3516          1          0   \n",
       "88855  F00155939                     3516          1          0   \n",
       "88856  F00155942                     3702          1          0   \n",
       "88857  F00155945                     3895          1          0   \n",
       "\n",
       "       Pesticide_Use_Category  Number_Doses_Week  Number_Weeks_Used  \\\n",
       "0                           1                  0                0.0   \n",
       "1                           1                  0                0.0   \n",
       "2                           1                  0                0.0   \n",
       "3                           1                  0                0.0   \n",
       "4                           1                  0                0.0   \n",
       "...                       ...                ...                ...   \n",
       "88853                       2                 10               12.0   \n",
       "88854                       2                 10               20.0   \n",
       "88855                       2                 15               40.0   \n",
       "88856                       2                 10               25.0   \n",
       "88857                       2                 20               37.0   \n",
       "\n",
       "       Number_Weeks_Quit  Season  Crop_Damage  total_week  \n",
       "0                      0       1            0         0.0  \n",
       "1                      0       2            1         0.0  \n",
       "2                      0       2            1         0.0  \n",
       "3                      0       2            1         0.0  \n",
       "4                      0       2            1         0.0  \n",
       "...                  ...     ...          ...         ...  \n",
       "88853                 44       3            0        56.0  \n",
       "88854                 38       1            0        58.0  \n",
       "88855                  8       2            0        48.0  \n",
       "88856                 18       3            0        43.0  \n",
       "88857                  7       3            0        44.0  \n",
       "\n",
       "[88858 rows x 11 columns]"
      ]
     },
     "execution_count": 113,
     "metadata": {},
     "output_type": "execute_result"
    }
   ],
   "source": [
    "dataset"
   ]
  },
  {
   "cell_type": "code",
   "execution_count": 114,
   "metadata": {},
   "outputs": [],
   "source": [
    "anom_data=dataset[(dataset[\"Pesticide_Use_Category\"]==1) & (dataset[\"Crop_Damage\"]==2)][\"Crop_Damage\"].index"
   ]
  },
  {
   "cell_type": "code",
   "execution_count": 115,
   "metadata": {},
   "outputs": [],
   "source": [
    "dataset.loc[anom_data,\"Crop_Damage\"]=[[1]]"
   ]
  },
  {
   "cell_type": "code",
   "execution_count": 116,
   "metadata": {},
   "outputs": [
    {
     "data": {
      "text/plain": [
       "0    74238\n",
       "1    12472\n",
       "2     2148\n",
       "Name: Crop_Damage, dtype: int64"
      ]
     },
     "execution_count": 116,
     "metadata": {},
     "output_type": "execute_result"
    }
   ],
   "source": [
    "dataset[\"Crop_Damage\"].value_counts()"
   ]
  },
  {
   "cell_type": "code",
   "execution_count": 117,
   "metadata": {},
   "outputs": [],
   "source": [
    "#dataset[\"Total_Dosage\"]=dataset[\"Number_Doses_Week\"]*dataset[\"Number_Doses_Week\"]"
   ]
  },
  {
   "cell_type": "code",
   "execution_count": 118,
   "metadata": {},
   "outputs": [],
   "source": [
    "dataset[\"Pesticide_Use_Category\"]=dataset[\"Pesticide_Use_Category\"].replace({1:0,2:1,3:2})"
   ]
  },
  {
   "cell_type": "code",
   "execution_count": 119,
   "metadata": {},
   "outputs": [
    {
     "data": {
      "text/html": [
       "<div>\n",
       "<style scoped>\n",
       "    .dataframe tbody tr th:only-of-type {\n",
       "        vertical-align: middle;\n",
       "    }\n",
       "\n",
       "    .dataframe tbody tr th {\n",
       "        vertical-align: top;\n",
       "    }\n",
       "\n",
       "    .dataframe thead th {\n",
       "        text-align: right;\n",
       "    }\n",
       "</style>\n",
       "<table border=\"1\" class=\"dataframe\">\n",
       "  <thead>\n",
       "    <tr style=\"text-align: right;\">\n",
       "      <th></th>\n",
       "      <th>ID</th>\n",
       "      <th>Estimated_Insects_Count</th>\n",
       "      <th>Crop_Type</th>\n",
       "      <th>Soil_Type</th>\n",
       "      <th>Pesticide_Use_Category</th>\n",
       "      <th>Number_Doses_Week</th>\n",
       "      <th>Number_Weeks_Used</th>\n",
       "      <th>Number_Weeks_Quit</th>\n",
       "      <th>Season</th>\n",
       "      <th>Crop_Damage</th>\n",
       "      <th>total_week</th>\n",
       "    </tr>\n",
       "  </thead>\n",
       "  <tbody>\n",
       "    <tr>\n",
       "      <td>0</td>\n",
       "      <td>F00000001</td>\n",
       "      <td>188</td>\n",
       "      <td>1</td>\n",
       "      <td>0</td>\n",
       "      <td>0</td>\n",
       "      <td>0</td>\n",
       "      <td>0.0</td>\n",
       "      <td>0</td>\n",
       "      <td>1</td>\n",
       "      <td>0</td>\n",
       "      <td>0.0</td>\n",
       "    </tr>\n",
       "    <tr>\n",
       "      <td>1</td>\n",
       "      <td>F00000003</td>\n",
       "      <td>209</td>\n",
       "      <td>1</td>\n",
       "      <td>0</td>\n",
       "      <td>0</td>\n",
       "      <td>0</td>\n",
       "      <td>0.0</td>\n",
       "      <td>0</td>\n",
       "      <td>2</td>\n",
       "      <td>1</td>\n",
       "      <td>0.0</td>\n",
       "    </tr>\n",
       "    <tr>\n",
       "      <td>2</td>\n",
       "      <td>F00000004</td>\n",
       "      <td>257</td>\n",
       "      <td>1</td>\n",
       "      <td>0</td>\n",
       "      <td>0</td>\n",
       "      <td>0</td>\n",
       "      <td>0.0</td>\n",
       "      <td>0</td>\n",
       "      <td>2</td>\n",
       "      <td>1</td>\n",
       "      <td>0.0</td>\n",
       "    </tr>\n",
       "    <tr>\n",
       "      <td>3</td>\n",
       "      <td>F00000005</td>\n",
       "      <td>257</td>\n",
       "      <td>1</td>\n",
       "      <td>1</td>\n",
       "      <td>0</td>\n",
       "      <td>0</td>\n",
       "      <td>0.0</td>\n",
       "      <td>0</td>\n",
       "      <td>2</td>\n",
       "      <td>1</td>\n",
       "      <td>0.0</td>\n",
       "    </tr>\n",
       "    <tr>\n",
       "      <td>4</td>\n",
       "      <td>F00000006</td>\n",
       "      <td>342</td>\n",
       "      <td>1</td>\n",
       "      <td>0</td>\n",
       "      <td>0</td>\n",
       "      <td>0</td>\n",
       "      <td>0.0</td>\n",
       "      <td>0</td>\n",
       "      <td>2</td>\n",
       "      <td>1</td>\n",
       "      <td>0.0</td>\n",
       "    </tr>\n",
       "    <tr>\n",
       "      <td>...</td>\n",
       "      <td>...</td>\n",
       "      <td>...</td>\n",
       "      <td>...</td>\n",
       "      <td>...</td>\n",
       "      <td>...</td>\n",
       "      <td>...</td>\n",
       "      <td>...</td>\n",
       "      <td>...</td>\n",
       "      <td>...</td>\n",
       "      <td>...</td>\n",
       "      <td>...</td>\n",
       "    </tr>\n",
       "    <tr>\n",
       "      <td>88853</td>\n",
       "      <td>F00155935</td>\n",
       "      <td>3337</td>\n",
       "      <td>1</td>\n",
       "      <td>0</td>\n",
       "      <td>1</td>\n",
       "      <td>10</td>\n",
       "      <td>12.0</td>\n",
       "      <td>44</td>\n",
       "      <td>3</td>\n",
       "      <td>0</td>\n",
       "      <td>56.0</td>\n",
       "    </tr>\n",
       "    <tr>\n",
       "      <td>88854</td>\n",
       "      <td>F00155938</td>\n",
       "      <td>3516</td>\n",
       "      <td>1</td>\n",
       "      <td>0</td>\n",
       "      <td>1</td>\n",
       "      <td>10</td>\n",
       "      <td>20.0</td>\n",
       "      <td>38</td>\n",
       "      <td>1</td>\n",
       "      <td>0</td>\n",
       "      <td>58.0</td>\n",
       "    </tr>\n",
       "    <tr>\n",
       "      <td>88855</td>\n",
       "      <td>F00155939</td>\n",
       "      <td>3516</td>\n",
       "      <td>1</td>\n",
       "      <td>0</td>\n",
       "      <td>1</td>\n",
       "      <td>15</td>\n",
       "      <td>40.0</td>\n",
       "      <td>8</td>\n",
       "      <td>2</td>\n",
       "      <td>0</td>\n",
       "      <td>48.0</td>\n",
       "    </tr>\n",
       "    <tr>\n",
       "      <td>88856</td>\n",
       "      <td>F00155942</td>\n",
       "      <td>3702</td>\n",
       "      <td>1</td>\n",
       "      <td>0</td>\n",
       "      <td>1</td>\n",
       "      <td>10</td>\n",
       "      <td>25.0</td>\n",
       "      <td>18</td>\n",
       "      <td>3</td>\n",
       "      <td>0</td>\n",
       "      <td>43.0</td>\n",
       "    </tr>\n",
       "    <tr>\n",
       "      <td>88857</td>\n",
       "      <td>F00155945</td>\n",
       "      <td>3895</td>\n",
       "      <td>1</td>\n",
       "      <td>0</td>\n",
       "      <td>1</td>\n",
       "      <td>20</td>\n",
       "      <td>37.0</td>\n",
       "      <td>7</td>\n",
       "      <td>3</td>\n",
       "      <td>0</td>\n",
       "      <td>44.0</td>\n",
       "    </tr>\n",
       "  </tbody>\n",
       "</table>\n",
       "<p>88858 rows × 11 columns</p>\n",
       "</div>"
      ],
      "text/plain": [
       "              ID  Estimated_Insects_Count  Crop_Type  Soil_Type  \\\n",
       "0      F00000001                      188          1          0   \n",
       "1      F00000003                      209          1          0   \n",
       "2      F00000004                      257          1          0   \n",
       "3      F00000005                      257          1          1   \n",
       "4      F00000006                      342          1          0   \n",
       "...          ...                      ...        ...        ...   \n",
       "88853  F00155935                     3337          1          0   \n",
       "88854  F00155938                     3516          1          0   \n",
       "88855  F00155939                     3516          1          0   \n",
       "88856  F00155942                     3702          1          0   \n",
       "88857  F00155945                     3895          1          0   \n",
       "\n",
       "       Pesticide_Use_Category  Number_Doses_Week  Number_Weeks_Used  \\\n",
       "0                           0                  0                0.0   \n",
       "1                           0                  0                0.0   \n",
       "2                           0                  0                0.0   \n",
       "3                           0                  0                0.0   \n",
       "4                           0                  0                0.0   \n",
       "...                       ...                ...                ...   \n",
       "88853                       1                 10               12.0   \n",
       "88854                       1                 10               20.0   \n",
       "88855                       1                 15               40.0   \n",
       "88856                       1                 10               25.0   \n",
       "88857                       1                 20               37.0   \n",
       "\n",
       "       Number_Weeks_Quit  Season  Crop_Damage  total_week  \n",
       "0                      0       1            0         0.0  \n",
       "1                      0       2            1         0.0  \n",
       "2                      0       2            1         0.0  \n",
       "3                      0       2            1         0.0  \n",
       "4                      0       2            1         0.0  \n",
       "...                  ...     ...          ...         ...  \n",
       "88853                 44       3            0        56.0  \n",
       "88854                 38       1            0        58.0  \n",
       "88855                  8       2            0        48.0  \n",
       "88856                 18       3            0        43.0  \n",
       "88857                  7       3            0        44.0  \n",
       "\n",
       "[88858 rows x 11 columns]"
      ]
     },
     "execution_count": 119,
     "metadata": {},
     "output_type": "execute_result"
    }
   ],
   "source": [
    "dataset"
   ]
  },
  {
   "cell_type": "code",
   "execution_count": 120,
   "metadata": {},
   "outputs": [],
   "source": [
    "dataset[\"ei_nd\"]=dataset[\"Estimated_Insects_Count\"]/dataset[\"Number_Doses_Week\"]"
   ]
  },
  {
   "cell_type": "code",
   "execution_count": 121,
   "metadata": {},
   "outputs": [],
   "source": [
    "dataset[\"ei_td\"]=dataset[\"Estimated_Insects_Count\"]/(dataset[\"Number_Doses_Week\"]*dataset[\"Number_Weeks_Used\"])"
   ]
  },
  {
   "cell_type": "code",
   "execution_count": 122,
   "metadata": {},
   "outputs": [],
   "source": [
    "dataset[\"nu_nq\"]=dataset[\"Number_Weeks_Used\"]/dataset[\"Number_Weeks_Quit\"]"
   ]
  },
  {
   "cell_type": "code",
   "execution_count": 123,
   "metadata": {},
   "outputs": [],
   "source": [
    "dataset[\"ei_nq\"]=dataset[\"Estimated_Insects_Count\"]/dataset[\"Number_Weeks_Quit\"]"
   ]
  },
  {
   "cell_type": "code",
   "execution_count": 124,
   "metadata": {},
   "outputs": [],
   "source": [
    "dataset[\"ei_nu\"]=dataset[\"Estimated_Insects_Count\"]/dataset[\"Number_Weeks_Used\"]"
   ]
  },
  {
   "cell_type": "code",
   "execution_count": 125,
   "metadata": {
    "scrolled": true
   },
   "outputs": [
    {
     "data": {
      "text/plain": [
       "<matplotlib.axes._subplots.AxesSubplot at 0x1cb28acab88>"
      ]
     },
     "execution_count": 125,
     "metadata": {},
     "output_type": "execute_result"
    },
    {
     "data": {
      "image/png": "[encoded data removed]",
      "text/plain": [
       "<Figure size 720x864 with 2 Axes>"
      ]
     },
     "metadata": {
      "needs_background": "light"
     },
     "output_type": "display_data"
    }
   ],
   "source": [
    "plt.figure(figsize=(10,12))\n",
    "sns.heatmap(dataset.corr(),annot=True)"
   ]
  },
  {
   "cell_type": "code",
   "execution_count": null,
   "metadata": {},
   "outputs": [],
   "source": []
  },
  {
   "cell_type": "code",
   "execution_count": 126,
   "metadata": {},
   "outputs": [],
   "source": [
    "inf=dataset[\"ei_nd\"][0]"
   ]
  },
  {
   "cell_type": "code",
   "execution_count": 127,
   "metadata": {},
   "outputs": [],
   "source": [
    "dataset.replace([inf,np.nan],0,inplace=True)"
   ]
  },
  {
   "cell_type": "markdown",
   "metadata": {},
   "source": [
    "# Aggregrate Features"
   ]
  },
  {
   "cell_type": "code",
   "execution_count": 128,
   "metadata": {},
   "outputs": [],
   "source": [
    "dataset[\"c_nw_me\"]=dataset.groupby(\"Crop_Type\")[\"Number_Weeks_Used\"].transform(\"mean\")"
   ]
  },
  {
   "cell_type": "code",
   "execution_count": 129,
   "metadata": {},
   "outputs": [],
   "source": [
    "dataset[\"pe_nwq\"]=dataset.groupby(\"Pesticide_Use_Category\")[\"Number_Weeks_Quit\"].transform(\"mean\")"
   ]
  },
  {
   "cell_type": "code",
   "execution_count": 130,
   "metadata": {},
   "outputs": [],
   "source": [
    "#dataset[\"ct_nwq\"]=dataset.groupby(\"Crop_Type\")[\"Number_Weeks_Quit\"].transform(\"mean\")"
   ]
  },
  {
   "cell_type": "code",
   "execution_count": 131,
   "metadata": {},
   "outputs": [],
   "source": [
    "# cat=dataset[\"Season\"]\n",
    "# cat_encode=pd.get_dummies(cat,drop_first=True)\n",
    "# dataset.drop(\"Season\",axis=1,inplace=True)\n",
    "# dataset=pd.concat([dataset,cat_encode],axis=1)"
   ]
  },
  {
   "cell_type": "code",
   "execution_count": 132,
   "metadata": {},
   "outputs": [
    {
     "data": {
      "text/html": [
       "<div>\n",
       "<style scoped>\n",
       "    .dataframe tbody tr th:only-of-type {\n",
       "        vertical-align: middle;\n",
       "    }\n",
       "\n",
       "    .dataframe tbody tr th {\n",
       "        vertical-align: top;\n",
       "    }\n",
       "\n",
       "    .dataframe thead th {\n",
       "        text-align: right;\n",
       "    }\n",
       "</style>\n",
       "<table border=\"1\" class=\"dataframe\">\n",
       "  <thead>\n",
       "    <tr style=\"text-align: right;\">\n",
       "      <th></th>\n",
       "      <th>ID</th>\n",
       "      <th>Estimated_Insects_Count</th>\n",
       "      <th>Crop_Type</th>\n",
       "      <th>Soil_Type</th>\n",
       "      <th>Pesticide_Use_Category</th>\n",
       "      <th>Number_Doses_Week</th>\n",
       "      <th>Number_Weeks_Used</th>\n",
       "      <th>Number_Weeks_Quit</th>\n",
       "      <th>Season</th>\n",
       "      <th>Crop_Damage</th>\n",
       "      <th>total_week</th>\n",
       "      <th>ei_nd</th>\n",
       "      <th>ei_td</th>\n",
       "      <th>nu_nq</th>\n",
       "      <th>ei_nq</th>\n",
       "      <th>ei_nu</th>\n",
       "      <th>c_nw_me</th>\n",
       "      <th>pe_nwq</th>\n",
       "    </tr>\n",
       "  </thead>\n",
       "  <tbody>\n",
       "    <tr>\n",
       "      <td>0</td>\n",
       "      <td>F00000001</td>\n",
       "      <td>188</td>\n",
       "      <td>1</td>\n",
       "      <td>0</td>\n",
       "      <td>0</td>\n",
       "      <td>0</td>\n",
       "      <td>0.0</td>\n",
       "      <td>0</td>\n",
       "      <td>1</td>\n",
       "      <td>0</td>\n",
       "      <td>0.0</td>\n",
       "      <td>0.00</td>\n",
       "      <td>0.000000</td>\n",
       "      <td>0.000000</td>\n",
       "      <td>0.000000</td>\n",
       "      <td>0.000000</td>\n",
       "      <td>26.424473</td>\n",
       "      <td>0.000000</td>\n",
       "    </tr>\n",
       "    <tr>\n",
       "      <td>1</td>\n",
       "      <td>F00000003</td>\n",
       "      <td>209</td>\n",
       "      <td>1</td>\n",
       "      <td>0</td>\n",
       "      <td>0</td>\n",
       "      <td>0</td>\n",
       "      <td>0.0</td>\n",
       "      <td>0</td>\n",
       "      <td>2</td>\n",
       "      <td>1</td>\n",
       "      <td>0.0</td>\n",
       "      <td>0.00</td>\n",
       "      <td>0.000000</td>\n",
       "      <td>0.000000</td>\n",
       "      <td>0.000000</td>\n",
       "      <td>0.000000</td>\n",
       "      <td>26.424473</td>\n",
       "      <td>0.000000</td>\n",
       "    </tr>\n",
       "    <tr>\n",
       "      <td>2</td>\n",
       "      <td>F00000004</td>\n",
       "      <td>257</td>\n",
       "      <td>1</td>\n",
       "      <td>0</td>\n",
       "      <td>0</td>\n",
       "      <td>0</td>\n",
       "      <td>0.0</td>\n",
       "      <td>0</td>\n",
       "      <td>2</td>\n",
       "      <td>1</td>\n",
       "      <td>0.0</td>\n",
       "      <td>0.00</td>\n",
       "      <td>0.000000</td>\n",
       "      <td>0.000000</td>\n",
       "      <td>0.000000</td>\n",
       "      <td>0.000000</td>\n",
       "      <td>26.424473</td>\n",
       "      <td>0.000000</td>\n",
       "    </tr>\n",
       "    <tr>\n",
       "      <td>3</td>\n",
       "      <td>F00000005</td>\n",
       "      <td>257</td>\n",
       "      <td>1</td>\n",
       "      <td>1</td>\n",
       "      <td>0</td>\n",
       "      <td>0</td>\n",
       "      <td>0.0</td>\n",
       "      <td>0</td>\n",
       "      <td>2</td>\n",
       "      <td>1</td>\n",
       "      <td>0.0</td>\n",
       "      <td>0.00</td>\n",
       "      <td>0.000000</td>\n",
       "      <td>0.000000</td>\n",
       "      <td>0.000000</td>\n",
       "      <td>0.000000</td>\n",
       "      <td>26.424473</td>\n",
       "      <td>0.000000</td>\n",
       "    </tr>\n",
       "    <tr>\n",
       "      <td>4</td>\n",
       "      <td>F00000006</td>\n",
       "      <td>342</td>\n",
       "      <td>1</td>\n",
       "      <td>0</td>\n",
       "      <td>0</td>\n",
       "      <td>0</td>\n",
       "      <td>0.0</td>\n",
       "      <td>0</td>\n",
       "      <td>2</td>\n",
       "      <td>1</td>\n",
       "      <td>0.0</td>\n",
       "      <td>0.00</td>\n",
       "      <td>0.000000</td>\n",
       "      <td>0.000000</td>\n",
       "      <td>0.000000</td>\n",
       "      <td>0.000000</td>\n",
       "      <td>26.424473</td>\n",
       "      <td>0.000000</td>\n",
       "    </tr>\n",
       "    <tr>\n",
       "      <td>...</td>\n",
       "      <td>...</td>\n",
       "      <td>...</td>\n",
       "      <td>...</td>\n",
       "      <td>...</td>\n",
       "      <td>...</td>\n",
       "      <td>...</td>\n",
       "      <td>...</td>\n",
       "      <td>...</td>\n",
       "      <td>...</td>\n",
       "      <td>...</td>\n",
       "      <td>...</td>\n",
       "      <td>...</td>\n",
       "      <td>...</td>\n",
       "      <td>...</td>\n",
       "      <td>...</td>\n",
       "      <td>...</td>\n",
       "      <td>...</td>\n",
       "      <td>...</td>\n",
       "    </tr>\n",
       "    <tr>\n",
       "      <td>88853</td>\n",
       "      <td>F00155935</td>\n",
       "      <td>3337</td>\n",
       "      <td>1</td>\n",
       "      <td>0</td>\n",
       "      <td>1</td>\n",
       "      <td>10</td>\n",
       "      <td>12.0</td>\n",
       "      <td>44</td>\n",
       "      <td>3</td>\n",
       "      <td>0</td>\n",
       "      <td>56.0</td>\n",
       "      <td>333.70</td>\n",
       "      <td>27.808333</td>\n",
       "      <td>0.272727</td>\n",
       "      <td>75.840909</td>\n",
       "      <td>278.083333</td>\n",
       "      <td>26.424473</td>\n",
       "      <td>13.375614</td>\n",
       "    </tr>\n",
       "    <tr>\n",
       "      <td>88854</td>\n",
       "      <td>F00155938</td>\n",
       "      <td>3516</td>\n",
       "      <td>1</td>\n",
       "      <td>0</td>\n",
       "      <td>1</td>\n",
       "      <td>10</td>\n",
       "      <td>20.0</td>\n",
       "      <td>38</td>\n",
       "      <td>1</td>\n",
       "      <td>0</td>\n",
       "      <td>58.0</td>\n",
       "      <td>351.60</td>\n",
       "      <td>17.580000</td>\n",
       "      <td>0.526316</td>\n",
       "      <td>92.526316</td>\n",
       "      <td>175.800000</td>\n",
       "      <td>26.424473</td>\n",
       "      <td>13.375614</td>\n",
       "    </tr>\n",
       "    <tr>\n",
       "      <td>88855</td>\n",
       "      <td>F00155939</td>\n",
       "      <td>3516</td>\n",
       "      <td>1</td>\n",
       "      <td>0</td>\n",
       "      <td>1</td>\n",
       "      <td>15</td>\n",
       "      <td>40.0</td>\n",
       "      <td>8</td>\n",
       "      <td>2</td>\n",
       "      <td>0</td>\n",
       "      <td>48.0</td>\n",
       "      <td>234.40</td>\n",
       "      <td>5.860000</td>\n",
       "      <td>5.000000</td>\n",
       "      <td>439.500000</td>\n",
       "      <td>87.900000</td>\n",
       "      <td>26.424473</td>\n",
       "      <td>13.375614</td>\n",
       "    </tr>\n",
       "    <tr>\n",
       "      <td>88856</td>\n",
       "      <td>F00155942</td>\n",
       "      <td>3702</td>\n",
       "      <td>1</td>\n",
       "      <td>0</td>\n",
       "      <td>1</td>\n",
       "      <td>10</td>\n",
       "      <td>25.0</td>\n",
       "      <td>18</td>\n",
       "      <td>3</td>\n",
       "      <td>0</td>\n",
       "      <td>43.0</td>\n",
       "      <td>370.20</td>\n",
       "      <td>14.808000</td>\n",
       "      <td>1.388889</td>\n",
       "      <td>205.666667</td>\n",
       "      <td>148.080000</td>\n",
       "      <td>26.424473</td>\n",
       "      <td>13.375614</td>\n",
       "    </tr>\n",
       "    <tr>\n",
       "      <td>88857</td>\n",
       "      <td>F00155945</td>\n",
       "      <td>3895</td>\n",
       "      <td>1</td>\n",
       "      <td>0</td>\n",
       "      <td>1</td>\n",
       "      <td>20</td>\n",
       "      <td>37.0</td>\n",
       "      <td>7</td>\n",
       "      <td>3</td>\n",
       "      <td>0</td>\n",
       "      <td>44.0</td>\n",
       "      <td>194.75</td>\n",
       "      <td>5.263514</td>\n",
       "      <td>5.285714</td>\n",
       "      <td>556.428571</td>\n",
       "      <td>105.270270</td>\n",
       "      <td>26.424473</td>\n",
       "      <td>13.375614</td>\n",
       "    </tr>\n",
       "  </tbody>\n",
       "</table>\n",
       "<p>88858 rows × 18 columns</p>\n",
       "</div>"
      ],
      "text/plain": [
       "              ID  Estimated_Insects_Count  Crop_Type  Soil_Type  \\\n",
       "0      F00000001                      188          1          0   \n",
       "1      F00000003                      209          1          0   \n",
       "2      F00000004                      257          1          0   \n",
       "3      F00000005                      257          1          1   \n",
       "4      F00000006                      342          1          0   \n",
       "...          ...                      ...        ...        ...   \n",
       "88853  F00155935                     3337          1          0   \n",
       "88854  F00155938                     3516          1          0   \n",
       "88855  F00155939                     3516          1          0   \n",
       "88856  F00155942                     3702          1          0   \n",
       "88857  F00155945                     3895          1          0   \n",
       "\n",
       "       Pesticide_Use_Category  Number_Doses_Week  Number_Weeks_Used  \\\n",
       "0                           0                  0                0.0   \n",
       "1                           0                  0                0.0   \n",
       "2                           0                  0                0.0   \n",
       "3                           0                  0                0.0   \n",
       "4                           0                  0                0.0   \n",
       "...                       ...                ...                ...   \n",
       "88853                       1                 10               12.0   \n",
       "88854                       1                 10               20.0   \n",
       "88855                       1                 15               40.0   \n",
       "88856                       1                 10               25.0   \n",
       "88857                       1                 20               37.0   \n",
       "\n",
       "       Number_Weeks_Quit  Season  Crop_Damage  total_week   ei_nd      ei_td  \\\n",
       "0                      0       1            0         0.0    0.00   0.000000   \n",
       "1                      0       2            1         0.0    0.00   0.000000   \n",
       "2                      0       2            1         0.0    0.00   0.000000   \n",
       "3                      0       2            1         0.0    0.00   0.000000   \n",
       "4                      0       2            1         0.0    0.00   0.000000   \n",
       "...                  ...     ...          ...         ...     ...        ...   \n",
       "88853                 44       3            0        56.0  333.70  27.808333   \n",
       "88854                 38       1            0        58.0  351.60  17.580000   \n",
       "88855                  8       2            0        48.0  234.40   5.860000   \n",
       "88856                 18       3            0        43.0  370.20  14.808000   \n",
       "88857                  7       3            0        44.0  194.75   5.263514   \n",
       "\n",
       "          nu_nq       ei_nq       ei_nu    c_nw_me     pe_nwq  \n",
       "0      0.000000    0.000000    0.000000  26.424473   0.000000  \n",
       "1      0.000000    0.000000    0.000000  26.424473   0.000000  \n",
       "2      0.000000    0.000000    0.000000  26.424473   0.000000  \n",
       "3      0.000000    0.000000    0.000000  26.424473   0.000000  \n",
       "4      0.000000    0.000000    0.000000  26.424473   0.000000  \n",
       "...         ...         ...         ...        ...        ...  \n",
       "88853  0.272727   75.840909  278.083333  26.424473  13.375614  \n",
       "88854  0.526316   92.526316  175.800000  26.424473  13.375614  \n",
       "88855  5.000000  439.500000   87.900000  26.424473  13.375614  \n",
       "88856  1.388889  205.666667  148.080000  26.424473  13.375614  \n",
       "88857  5.285714  556.428571  105.270270  26.424473  13.375614  \n",
       "\n",
       "[88858 rows x 18 columns]"
      ]
     },
     "execution_count": 132,
     "metadata": {},
     "output_type": "execute_result"
    }
   ],
   "source": [
    "dataset"
   ]
  },
  {
   "cell_type": "code",
   "execution_count": 133,
   "metadata": {},
   "outputs": [
    {
     "data": {
      "text/plain": [
       "0         188\n",
       "1         209\n",
       "2         257\n",
       "3         257\n",
       "4         342\n",
       "         ... \n",
       "88853    3337\n",
       "88854    3516\n",
       "88855    3516\n",
       "88856    3702\n",
       "88857    3895\n",
       "Name: Estimated_Insects_Count, Length: 88858, dtype: int64"
      ]
     },
     "execution_count": 133,
     "metadata": {},
     "output_type": "execute_result"
    }
   ],
   "source": [
    "dataset[\"Estimated_Insects_Count\"]"
   ]
  },
  {
   "cell_type": "code",
   "execution_count": null,
   "metadata": {},
   "outputs": [],
   "source": []
  },
  {
   "cell_type": "markdown",
   "metadata": {},
   "source": [
    "# Split Dependent and Independent Varibles"
   ]
  },
  {
   "cell_type": "code",
   "execution_count": 134,
   "metadata": {},
   "outputs": [],
   "source": [
    "x=dataset.drop([\"ID\",\"Crop_Damage\"],axis=1)"
   ]
  },
  {
   "cell_type": "code",
   "execution_count": 135,
   "metadata": {},
   "outputs": [],
   "source": [
    "y=dataset[\"Crop_Damage\"]"
   ]
  },
  {
   "cell_type": "code",
   "execution_count": 136,
   "metadata": {},
   "outputs": [
    {
     "data": {
      "text/html": [
       "<div>\n",
       "<style scoped>\n",
       "    .dataframe tbody tr th:only-of-type {\n",
       "        vertical-align: middle;\n",
       "    }\n",
       "\n",
       "    .dataframe tbody tr th {\n",
       "        vertical-align: top;\n",
       "    }\n",
       "\n",
       "    .dataframe thead th {\n",
       "        text-align: right;\n",
       "    }\n",
       "</style>\n",
       "<table border=\"1\" class=\"dataframe\">\n",
       "  <thead>\n",
       "    <tr style=\"text-align: right;\">\n",
       "      <th></th>\n",
       "      <th>Estimated_Insects_Count</th>\n",
       "      <th>Crop_Type</th>\n",
       "      <th>Soil_Type</th>\n",
       "      <th>Pesticide_Use_Category</th>\n",
       "      <th>Number_Doses_Week</th>\n",
       "      <th>Number_Weeks_Used</th>\n",
       "      <th>Number_Weeks_Quit</th>\n",
       "      <th>Season</th>\n",
       "      <th>total_week</th>\n",
       "      <th>ei_nd</th>\n",
       "      <th>ei_td</th>\n",
       "      <th>nu_nq</th>\n",
       "      <th>ei_nq</th>\n",
       "      <th>ei_nu</th>\n",
       "      <th>c_nw_me</th>\n",
       "      <th>pe_nwq</th>\n",
       "    </tr>\n",
       "  </thead>\n",
       "  <tbody>\n",
       "    <tr>\n",
       "      <td>0</td>\n",
       "      <td>188</td>\n",
       "      <td>1</td>\n",
       "      <td>0</td>\n",
       "      <td>0</td>\n",
       "      <td>0</td>\n",
       "      <td>0.0</td>\n",
       "      <td>0</td>\n",
       "      <td>1</td>\n",
       "      <td>0.0</td>\n",
       "      <td>0.00</td>\n",
       "      <td>0.000000</td>\n",
       "      <td>0.000000</td>\n",
       "      <td>0.000000</td>\n",
       "      <td>0.000000</td>\n",
       "      <td>26.424473</td>\n",
       "      <td>0.000000</td>\n",
       "    </tr>\n",
       "    <tr>\n",
       "      <td>1</td>\n",
       "      <td>209</td>\n",
       "      <td>1</td>\n",
       "      <td>0</td>\n",
       "      <td>0</td>\n",
       "      <td>0</td>\n",
       "      <td>0.0</td>\n",
       "      <td>0</td>\n",
       "      <td>2</td>\n",
       "      <td>0.0</td>\n",
       "      <td>0.00</td>\n",
       "      <td>0.000000</td>\n",
       "      <td>0.000000</td>\n",
       "      <td>0.000000</td>\n",
       "      <td>0.000000</td>\n",
       "      <td>26.424473</td>\n",
       "      <td>0.000000</td>\n",
       "    </tr>\n",
       "    <tr>\n",
       "      <td>2</td>\n",
       "      <td>257</td>\n",
       "      <td>1</td>\n",
       "      <td>0</td>\n",
       "      <td>0</td>\n",
       "      <td>0</td>\n",
       "      <td>0.0</td>\n",
       "      <td>0</td>\n",
       "      <td>2</td>\n",
       "      <td>0.0</td>\n",
       "      <td>0.00</td>\n",
       "      <td>0.000000</td>\n",
       "      <td>0.000000</td>\n",
       "      <td>0.000000</td>\n",
       "      <td>0.000000</td>\n",
       "      <td>26.424473</td>\n",
       "      <td>0.000000</td>\n",
       "    </tr>\n",
       "    <tr>\n",
       "      <td>3</td>\n",
       "      <td>257</td>\n",
       "      <td>1</td>\n",
       "      <td>1</td>\n",
       "      <td>0</td>\n",
       "      <td>0</td>\n",
       "      <td>0.0</td>\n",
       "      <td>0</td>\n",
       "      <td>2</td>\n",
       "      <td>0.0</td>\n",
       "      <td>0.00</td>\n",
       "      <td>0.000000</td>\n",
       "      <td>0.000000</td>\n",
       "      <td>0.000000</td>\n",
       "      <td>0.000000</td>\n",
       "      <td>26.424473</td>\n",
       "      <td>0.000000</td>\n",
       "    </tr>\n",
       "    <tr>\n",
       "      <td>4</td>\n",
       "      <td>342</td>\n",
       "      <td>1</td>\n",
       "      <td>0</td>\n",
       "      <td>0</td>\n",
       "      <td>0</td>\n",
       "      <td>0.0</td>\n",
       "      <td>0</td>\n",
       "      <td>2</td>\n",
       "      <td>0.0</td>\n",
       "      <td>0.00</td>\n",
       "      <td>0.000000</td>\n",
       "      <td>0.000000</td>\n",
       "      <td>0.000000</td>\n",
       "      <td>0.000000</td>\n",
       "      <td>26.424473</td>\n",
       "      <td>0.000000</td>\n",
       "    </tr>\n",
       "    <tr>\n",
       "      <td>...</td>\n",
       "      <td>...</td>\n",
       "      <td>...</td>\n",
       "      <td>...</td>\n",
       "      <td>...</td>\n",
       "      <td>...</td>\n",
       "      <td>...</td>\n",
       "      <td>...</td>\n",
       "      <td>...</td>\n",
       "      <td>...</td>\n",
       "      <td>...</td>\n",
       "      <td>...</td>\n",
       "      <td>...</td>\n",
       "      <td>...</td>\n",
       "      <td>...</td>\n",
       "      <td>...</td>\n",
       "      <td>...</td>\n",
       "    </tr>\n",
       "    <tr>\n",
       "      <td>88853</td>\n",
       "      <td>3337</td>\n",
       "      <td>1</td>\n",
       "      <td>0</td>\n",
       "      <td>1</td>\n",
       "      <td>10</td>\n",
       "      <td>12.0</td>\n",
       "      <td>44</td>\n",
       "      <td>3</td>\n",
       "      <td>56.0</td>\n",
       "      <td>333.70</td>\n",
       "      <td>27.808333</td>\n",
       "      <td>0.272727</td>\n",
       "      <td>75.840909</td>\n",
       "      <td>278.083333</td>\n",
       "      <td>26.424473</td>\n",
       "      <td>13.375614</td>\n",
       "    </tr>\n",
       "    <tr>\n",
       "      <td>88854</td>\n",
       "      <td>3516</td>\n",
       "      <td>1</td>\n",
       "      <td>0</td>\n",
       "      <td>1</td>\n",
       "      <td>10</td>\n",
       "      <td>20.0</td>\n",
       "      <td>38</td>\n",
       "      <td>1</td>\n",
       "      <td>58.0</td>\n",
       "      <td>351.60</td>\n",
       "      <td>17.580000</td>\n",
       "      <td>0.526316</td>\n",
       "      <td>92.526316</td>\n",
       "      <td>175.800000</td>\n",
       "      <td>26.424473</td>\n",
       "      <td>13.375614</td>\n",
       "    </tr>\n",
       "    <tr>\n",
       "      <td>88855</td>\n",
       "      <td>3516</td>\n",
       "      <td>1</td>\n",
       "      <td>0</td>\n",
       "      <td>1</td>\n",
       "      <td>15</td>\n",
       "      <td>40.0</td>\n",
       "      <td>8</td>\n",
       "      <td>2</td>\n",
       "      <td>48.0</td>\n",
       "      <td>234.40</td>\n",
       "      <td>5.860000</td>\n",
       "      <td>5.000000</td>\n",
       "      <td>439.500000</td>\n",
       "      <td>87.900000</td>\n",
       "      <td>26.424473</td>\n",
       "      <td>13.375614</td>\n",
       "    </tr>\n",
       "    <tr>\n",
       "      <td>88856</td>\n",
       "      <td>3702</td>\n",
       "      <td>1</td>\n",
       "      <td>0</td>\n",
       "      <td>1</td>\n",
       "      <td>10</td>\n",
       "      <td>25.0</td>\n",
       "      <td>18</td>\n",
       "      <td>3</td>\n",
       "      <td>43.0</td>\n",
       "      <td>370.20</td>\n",
       "      <td>14.808000</td>\n",
       "      <td>1.388889</td>\n",
       "      <td>205.666667</td>\n",
       "      <td>148.080000</td>\n",
       "      <td>26.424473</td>\n",
       "      <td>13.375614</td>\n",
       "    </tr>\n",
       "    <tr>\n",
       "      <td>88857</td>\n",
       "      <td>3895</td>\n",
       "      <td>1</td>\n",
       "      <td>0</td>\n",
       "      <td>1</td>\n",
       "      <td>20</td>\n",
       "      <td>37.0</td>\n",
       "      <td>7</td>\n",
       "      <td>3</td>\n",
       "      <td>44.0</td>\n",
       "      <td>194.75</td>\n",
       "      <td>5.263514</td>\n",
       "      <td>5.285714</td>\n",
       "      <td>556.428571</td>\n",
       "      <td>105.270270</td>\n",
       "      <td>26.424473</td>\n",
       "      <td>13.375614</td>\n",
       "    </tr>\n",
       "  </tbody>\n",
       "</table>\n",
       "<p>88858 rows × 16 columns</p>\n",
       "</div>"
      ],
      "text/plain": [
       "       Estimated_Insects_Count  Crop_Type  Soil_Type  Pesticide_Use_Category  \\\n",
       "0                          188          1          0                       0   \n",
       "1                          209          1          0                       0   \n",
       "2                          257          1          0                       0   \n",
       "3                          257          1          1                       0   \n",
       "4                          342          1          0                       0   \n",
       "...                        ...        ...        ...                     ...   \n",
       "88853                     3337          1          0                       1   \n",
       "88854                     3516          1          0                       1   \n",
       "88855                     3516          1          0                       1   \n",
       "88856                     3702          1          0                       1   \n",
       "88857                     3895          1          0                       1   \n",
       "\n",
       "       Number_Doses_Week  Number_Weeks_Used  Number_Weeks_Quit  Season  \\\n",
       "0                      0                0.0                  0       1   \n",
       "1                      0                0.0                  0       2   \n",
       "2                      0                0.0                  0       2   \n",
       "3                      0                0.0                  0       2   \n",
       "4                      0                0.0                  0       2   \n",
       "...                  ...                ...                ...     ...   \n",
       "88853                 10               12.0                 44       3   \n",
       "88854                 10               20.0                 38       1   \n",
       "88855                 15               40.0                  8       2   \n",
       "88856                 10               25.0                 18       3   \n",
       "88857                 20               37.0                  7       3   \n",
       "\n",
       "       total_week   ei_nd      ei_td     nu_nq       ei_nq       ei_nu  \\\n",
       "0             0.0    0.00   0.000000  0.000000    0.000000    0.000000   \n",
       "1             0.0    0.00   0.000000  0.000000    0.000000    0.000000   \n",
       "2             0.0    0.00   0.000000  0.000000    0.000000    0.000000   \n",
       "3             0.0    0.00   0.000000  0.000000    0.000000    0.000000   \n",
       "4             0.0    0.00   0.000000  0.000000    0.000000    0.000000   \n",
       "...           ...     ...        ...       ...         ...         ...   \n",
       "88853        56.0  333.70  27.808333  0.272727   75.840909  278.083333   \n",
       "88854        58.0  351.60  17.580000  0.526316   92.526316  175.800000   \n",
       "88855        48.0  234.40   5.860000  5.000000  439.500000   87.900000   \n",
       "88856        43.0  370.20  14.808000  1.388889  205.666667  148.080000   \n",
       "88857        44.0  194.75   5.263514  5.285714  556.428571  105.270270   \n",
       "\n",
       "         c_nw_me     pe_nwq  \n",
       "0      26.424473   0.000000  \n",
       "1      26.424473   0.000000  \n",
       "2      26.424473   0.000000  \n",
       "3      26.424473   0.000000  \n",
       "4      26.424473   0.000000  \n",
       "...          ...        ...  \n",
       "88853  26.424473  13.375614  \n",
       "88854  26.424473  13.375614  \n",
       "88855  26.424473  13.375614  \n",
       "88856  26.424473  13.375614  \n",
       "88857  26.424473  13.375614  \n",
       "\n",
       "[88858 rows x 16 columns]"
      ]
     },
     "execution_count": 136,
     "metadata": {},
     "output_type": "execute_result"
    }
   ],
   "source": [
    "x"
   ]
  },
  {
   "cell_type": "code",
   "execution_count": 137,
   "metadata": {},
   "outputs": [],
   "source": [
    "from sklearn.model_selection import train_test_split\n",
    "X_train, X_test, y_train, y_test = train_test_split(x, y, test_size = 0.2, random_state = 0)\n"
   ]
  },
  {
   "cell_type": "markdown",
   "metadata": {},
   "source": [
    "# Logistic Regression"
   ]
  },
  {
   "cell_type": "code",
   "execution_count": 1177,
   "metadata": {},
   "outputs": [
    {
     "name": "stderr",
     "output_type": "stream",
     "text": [
      "C:\\ProgramData\\Anaconda3\\lib\\site-packages\\sklearn\\linear_model\\_logistic.py:764: ConvergenceWarning: lbfgs failed to converge (status=1):\n",
      "STOP: TOTAL NO. of ITERATIONS REACHED LIMIT.\n",
      "\n",
      "Increase the number of iterations (max_iter) or scale the data as shown in:\n",
      "    https://scikit-learn.org/stable/modules/preprocessing.html\n",
      "Please also refer to the documentation for alternative solver options:\n",
      "    https://scikit-learn.org/stable/modules/linear_model.html#logistic-regression\n",
      "  extra_warning_msg=_LOGISTIC_SOLVER_CONVERGENCE_MSG)\n"
     ]
    },
    {
     "data": {
      "text/plain": [
       "LogisticRegression()"
      ]
     },
     "execution_count": 1177,
     "metadata": {},
     "output_type": "execute_result"
    }
   ],
   "source": [
    "\n",
    "# Fitting Logistic Regression to the Training set\n",
    "from sklearn.linear_model import LogisticRegression\n",
    "classifier = LogisticRegression()\n",
    "classifier.fit(X_train, y_train)"
   ]
  },
  {
   "cell_type": "code",
   "execution_count": 205,
   "metadata": {},
   "outputs": [],
   "source": [
    "# Predicting the Test set results\n",
    "y_pred = classifier.predict(X_test)"
   ]
  },
  {
   "cell_type": "code",
   "execution_count": 212,
   "metadata": {},
   "outputs": [],
   "source": [
    "from sklearn.metrics import accuracy_score\n",
    "#accuracy_score(y_test,y_pred)\n"
   ]
  },
  {
   "cell_type": "code",
   "execution_count": 207,
   "metadata": {},
   "outputs": [],
   "source": [
    "y_pred_train=classifier.predict(X_train)"
   ]
  },
  {
   "cell_type": "code",
   "execution_count": 458,
   "metadata": {},
   "outputs": [],
   "source": [
    "# # Feature Scaling\n",
    "# from sklearn.preprocessing import StandardScaler\n",
    "# sc = StandardScaler()\n",
    "# X_train = sc.fit_transform(X_train)\n",
    "# X_test = sc.transform(X_test)"
   ]
  },
  {
   "cell_type": "code",
   "execution_count": 208,
   "metadata": {},
   "outputs": [
    {
     "data": {
      "text/plain": [
       "0.8332007862791291"
      ]
     },
     "execution_count": 208,
     "metadata": {},
     "output_type": "execute_result"
    }
   ],
   "source": [
    "accuracy_score(y_train,y_pred_train)\n"
   ]
  },
  {
   "cell_type": "code",
   "execution_count": 209,
   "metadata": {},
   "outputs": [
    {
     "data": {
      "text/plain": [
       "KNeighborsClassifier()"
      ]
     },
     "execution_count": 209,
     "metadata": {},
     "output_type": "execute_result"
    }
   ],
   "source": [
    "from sklearn.neighbors import KNeighborsClassifier\n",
    "classifier_knn = KNeighborsClassifier(n_neighbors = 5, metric = 'minkowski', p = 2)\n",
    "classifier_knn.fit(X_train, y_train)"
   ]
  },
  {
   "cell_type": "code",
   "execution_count": 210,
   "metadata": {},
   "outputs": [],
   "source": [
    "y_pred_knn = classifier_knn.predict(X_test)"
   ]
  },
  {
   "cell_type": "code",
   "execution_count": 211,
   "metadata": {},
   "outputs": [
    {
     "data": {
      "text/plain": [
       "0.8300247580463651"
      ]
     },
     "execution_count": 211,
     "metadata": {},
     "output_type": "execute_result"
    }
   ],
   "source": [
    "from sklearn.metrics import accuracy_score\n",
    "accuracy_score(y_test,y_pred_knn)"
   ]
  },
  {
   "cell_type": "code",
   "execution_count": 212,
   "metadata": {},
   "outputs": [
    {
     "data": {
      "text/plain": [
       "DecisionTreeClassifier(criterion='entropy', random_state=0)"
      ]
     },
     "execution_count": 212,
     "metadata": {},
     "output_type": "execute_result"
    }
   ],
   "source": [
    "from sklearn.tree import DecisionTreeClassifier\n",
    "classifier_dt = DecisionTreeClassifier(criterion = 'entropy', random_state = 0)\n",
    "classifier_dt.fit(X_train, y_train)"
   ]
  },
  {
   "cell_type": "code",
   "execution_count": 213,
   "metadata": {},
   "outputs": [],
   "source": [
    "y_pred_dt = classifier_dt.predict(X_test)"
   ]
  },
  {
   "cell_type": "code",
   "execution_count": 214,
   "metadata": {},
   "outputs": [
    {
     "data": {
      "text/plain": [
       "0.7538149898717083"
      ]
     },
     "execution_count": 214,
     "metadata": {},
     "output_type": "execute_result"
    }
   ],
   "source": [
    "from sklearn.metrics import accuracy_score\n",
    "accuracy_score(y_test,y_pred_dt)"
   ]
  },
  {
   "cell_type": "code",
   "execution_count": 215,
   "metadata": {},
   "outputs": [],
   "source": [
    "from sklearn.ensemble import RandomForestClassifier\n"
   ]
  },
  {
   "cell_type": "code",
   "execution_count": 226,
   "metadata": {},
   "outputs": [],
   "source": [
    "rf=RandomForestClassifier(n_estimators=1000)"
   ]
  },
  {
   "cell_type": "code",
   "execution_count": 230,
   "metadata": {},
   "outputs": [
    {
     "data": {
      "text/plain": [
       "RandomForestClassifier(n_estimators=1000)"
      ]
     },
     "execution_count": 230,
     "metadata": {},
     "output_type": "execute_result"
    }
   ],
   "source": [
    "rf.fit(X_train, y_train)"
   ]
  },
  {
   "cell_type": "code",
   "execution_count": 231,
   "metadata": {},
   "outputs": [],
   "source": [
    "y_pred_rf = rf.predict(X_test)"
   ]
  },
  {
   "cell_type": "code",
   "execution_count": 232,
   "metadata": {},
   "outputs": [
    {
     "data": {
      "text/plain": [
       "0.8248030609948234"
      ]
     },
     "execution_count": 232,
     "metadata": {},
     "output_type": "execute_result"
    }
   ],
   "source": [
    "accuracy_score(y_test,y_pred_rf)"
   ]
  },
  {
   "cell_type": "markdown",
   "metadata": {},
   "source": [
    "# XGBOOST"
   ]
  },
  {
   "cell_type": "code",
   "execution_count": 310,
   "metadata": {},
   "outputs": [],
   "source": [
    "from xgboost import XGBClassifier"
   ]
  },
  {
   "cell_type": "code",
   "execution_count": 311,
   "metadata": {},
   "outputs": [],
   "source": [
    "xb=XGBClassifier(n_estimators=200)"
   ]
  },
  {
   "cell_type": "code",
   "execution_count": 313,
   "metadata": {},
   "outputs": [
    {
     "data": {
      "text/plain": [
       "XGBClassifier(base_score=0.5, booster='gbtree', colsample_bylevel=1,\n",
       "              colsample_bynode=1, colsample_bytree=1, gamma=0, gpu_id=-1,\n",
       "              importance_type='gain', interaction_constraints='',\n",
       "              learning_rate=0.300000012, max_delta_step=0, max_depth=6,\n",
       "              min_child_weight=1, missing=nan, monotone_constraints='()',\n",
       "              n_estimators=200, n_jobs=0, num_parallel_tree=1,\n",
       "              objective='multi:softprob', random_state=0, reg_alpha=0,\n",
       "              reg_lambda=1, scale_pos_weight=None, subsample=1,\n",
       "              tree_method='exact', validate_parameters=1, verbosity=None)"
      ]
     },
     "execution_count": 313,
     "metadata": {},
     "output_type": "execute_result"
    }
   ],
   "source": [
    "xb.fit(X_train, y_train)"
   ]
  },
  {
   "cell_type": "code",
   "execution_count": 314,
   "metadata": {},
   "outputs": [
    {
     "data": {
      "text/plain": [
       "0.846275039387801"
      ]
     },
     "execution_count": 314,
     "metadata": {},
     "output_type": "execute_result"
    }
   ],
   "source": [
    "xb.score(X_test,y_test)"
   ]
  },
  {
   "cell_type": "code",
   "execution_count": 639,
   "metadata": {},
   "outputs": [
    {
     "data": {
      "text/plain": [
       "0.8322642358766599"
      ]
     },
     "execution_count": 639,
     "metadata": {},
     "output_type": "execute_result"
    }
   ],
   "source": [
    "accuracy_score(y_test,y_pred_xb)"
   ]
  },
  {
   "cell_type": "markdown",
   "metadata": {},
   "source": [
    "# Light GBM"
   ]
  },
  {
   "cell_type": "code",
   "execution_count": 181,
   "metadata": {},
   "outputs": [],
   "source": [
    "from lightgbm import LGBMClassifier"
   ]
  },
  {
   "cell_type": "code",
   "execution_count": 182,
   "metadata": {},
   "outputs": [],
   "source": [
    "\n",
    "# {'colsample_bytree': 0.8037344835885095,\n",
    "#  'learning_rate': 0.2,\n",
    "#  'max_depth': -1,\n",
    "#  'min_child_samples': 301,\n",
    "#  'min_child_weight': 1e-05,\n",
    "#  'n_estimators': 400,\n",
    "#  'num_leaves': 21,\n",
    "#  'reg_alpha': 2,\n",
    "#  'reg_lambda': 50,\n",
    "#  'subsample': 0.5224105124736573}\n",
    "lgbm=LGBMClassifier(\n",
    " colsample_bytree= 0.6641990161243088,\n",
    " learning_rate= 0.2,\n",
    "max_depth= 7,\n",
    "min_child_samples= 187,\n",
    " min_child_weight= 0.01,\n",
    " n_estimators= 400,\n",
    " num_leaves= 43,\n",
    " reg_alpha=10,\n",
    " reg_lambda= 50,\n",
    " subsample= 0.9816277782742326\n",
    " )"
   ]
  },
  {
   "cell_type": "code",
   "execution_count": 183,
   "metadata": {},
   "outputs": [
    {
     "data": {
      "text/plain": [
       "LGBMClassifier(colsample_bytree=0.6641990161243088, learning_rate=0.2,\n",
       "               max_depth=7, min_child_samples=187, min_child_weight=0.01,\n",
       "               n_estimators=400, num_leaves=43, reg_alpha=10, reg_lambda=50,\n",
       "               subsample=0.9816277782742326)"
      ]
     },
     "execution_count": 183,
     "metadata": {},
     "output_type": "execute_result"
    }
   ],
   "source": [
    "lgbm.fit(X_train, y_train)"
   ]
  },
  {
   "cell_type": "code",
   "execution_count": 184,
   "metadata": {},
   "outputs": [
    {
     "data": {
      "text/plain": [
       "0.8481318928651812"
      ]
     },
     "execution_count": 184,
     "metadata": {},
     "output_type": "execute_result"
    }
   ],
   "source": [
    "lgbm.score(X_test,y_test)"
   ]
  },
  {
   "cell_type": "code",
   "execution_count": 226,
   "metadata": {},
   "outputs": [
    {
     "data": {
      "text/plain": [
       "0.856736910221422"
      ]
     },
     "execution_count": 226,
     "metadata": {},
     "output_type": "execute_result"
    }
   ],
   "source": [
    "lgbm.score(X_train,y_train)"
   ]
  },
  {
   "cell_type": "code",
   "execution_count": 227,
   "metadata": {},
   "outputs": [
    {
     "data": {
      "text/plain": [
       "Index(['Estimated_Insects_Count', 'Crop_Type', 'Soil_Type',\n",
       "       'Pesticide_Use_Category', 'Number_Doses_Week', 'Number_Weeks_Used',\n",
       "       'Number_Weeks_Quit', 'Season', 'total_week', 'ei_nd', 'ei_td', 'nu_nq',\n",
       "       'ei_nq', 'ei_nu', 'c_nw_me', 'pe_nwq'],\n",
       "      dtype='object')"
      ]
     },
     "execution_count": 227,
     "metadata": {},
     "output_type": "execute_result"
    }
   ],
   "source": [
    "x.columns"
   ]
  },
  {
   "cell_type": "code",
   "execution_count": 228,
   "metadata": {},
   "outputs": [
    {
     "data": {
      "text/plain": [
       "array([3339,  203,  120,  171, 1814, 3495, 1668,  300, 3803, 4703, 5348,\n",
       "       3107, 3270, 5362,   48,  111])"
      ]
     },
     "execution_count": 228,
     "metadata": {},
     "output_type": "execute_result"
    }
   ],
   "source": [
    "lgbm.feature_importances_"
   ]
  },
  {
   "cell_type": "code",
   "execution_count": 229,
   "metadata": {},
   "outputs": [
    {
     "data": {
      "text/plain": [
       "<BarContainer object of 16 artists>"
      ]
     },
     "execution_count": 229,
     "metadata": {},
     "output_type": "execute_result"
    },
    {
     "data": {
      "image/png": "[encoded data removed]",
      "text/plain": [
       "<Figure size 432x288 with 1 Axes>"
      ]
     },
     "metadata": {
      "needs_background": "light"
     },
     "output_type": "display_data"
    }
   ],
   "source": [
    "plt.barh(x.columns,lgbm.feature_importances_)"
   ]
  },
  {
   "cell_type": "markdown",
   "metadata": {},
   "source": [
    "# Hyperparameter Tunning"
   ]
  },
  {
   "cell_type": "code",
   "execution_count": 330,
   "metadata": {},
   "outputs": [],
   "source": [
    "from sklearn.model_selection import RandomizedSearchCV"
   ]
  },
  {
   "cell_type": "code",
   "execution_count": 331,
   "metadata": {},
   "outputs": [],
   "source": [
    "clf = LGBMClassifier(silent=True, n_jobs=4)"
   ]
  },
  {
   "cell_type": "code",
   "execution_count": 332,
   "metadata": {},
   "outputs": [],
   "source": [
    "from scipy.stats import randint as sp_randint\n",
    "from scipy.stats import uniform as sp_uniform\n",
    "fit_params = {\"early_stopping_rounds\" : 50,\n",
    "             \"eval_metric\" : 'multiclass', \n",
    "             \"eval_set\" : [(X_test,y_test)],\n",
    "             'eval_names': ['valid'],\n",
    "             'verbose': 0}\n",
    "\n",
    "param_test = {'learning_rate' : [0.01, 0.02, 0.03, 0.04, 0.05, 0.08, 0.1, 0.2, 0.3, 0.4],\n",
    "              'n_estimators' : [100, 200, 300, 400, 500],\n",
    "              'num_leaves': sp_randint(6, 50), \n",
    "              'min_child_samples': sp_randint(100, 500), \n",
    "              'min_child_weight': [1e-5, 1e-3, 1e-2, 1e-1, 1, 1e1, 1e2, 1e3, 1e4],\n",
    "              'subsample': sp_uniform(loc=0.2, scale=0.8), \n",
    "              'max_depth': [-1, 1, 2, 3, 4, 5, 6, 7],\n",
    "              'colsample_bytree': sp_uniform(loc=0.4, scale=0.6),\n",
    "              'reg_alpha': [0, 1e-1, 1, 2, 5, 7, 10, 50, 100],\n",
    "              'reg_lambda': [0, 1e-1, 1, 5, 10, 20, 50, 100]}"
   ]
  },
  {
   "cell_type": "code",
   "execution_count": 333,
   "metadata": {},
   "outputs": [],
   "source": [
    "gs = RandomizedSearchCV(\n",
    "    estimator=clf, param_distributions=param_test, \n",
    "    n_iter=300,\n",
    "    scoring='accuracy',\n",
    "    cv=3,\n",
    "    refit=True,n_jobs=10,\n",
    "    verbose=10)"
   ]
  },
  {
   "cell_type": "code",
   "execution_count": 334,
   "metadata": {},
   "outputs": [
    {
     "name": "stdout",
     "output_type": "stream",
     "text": [
      "Fitting 3 folds for each of 300 candidates, totalling 900 fits\n"
     ]
    },
    {
     "name": "stderr",
     "output_type": "stream",
     "text": [
      "[Parallel(n_jobs=10)]: Using backend LokyBackend with 10 concurrent workers.\n",
      "[Parallel(n_jobs=10)]: Done   5 tasks      | elapsed:   12.4s\n",
      "[Parallel(n_jobs=10)]: Done  12 tasks      | elapsed:   18.9s\n",
      "[Parallel(n_jobs=10)]: Done  21 tasks      | elapsed:   33.7s\n",
      "[Parallel(n_jobs=10)]: Done  30 tasks      | elapsed:   47.6s\n",
      "[Parallel(n_jobs=10)]: Done  41 tasks      | elapsed:   56.7s\n",
      "[Parallel(n_jobs=10)]: Done  52 tasks      | elapsed:  1.0min\n",
      "[Parallel(n_jobs=10)]: Done  65 tasks      | elapsed:  1.3min\n",
      "[Parallel(n_jobs=10)]: Done  78 tasks      | elapsed:  1.5min\n",
      "[Parallel(n_jobs=10)]: Done  93 tasks      | elapsed:  2.0min\n",
      "[Parallel(n_jobs=10)]: Done 108 tasks      | elapsed:  2.3min\n",
      "[Parallel(n_jobs=10)]: Done 125 tasks      | elapsed:  2.6min\n",
      "[Parallel(n_jobs=10)]: Done 142 tasks      | elapsed:  3.2min\n",
      "[Parallel(n_jobs=10)]: Done 161 tasks      | elapsed:  3.5min\n",
      "[Parallel(n_jobs=10)]: Done 180 tasks      | elapsed:  4.0min\n",
      "[Parallel(n_jobs=10)]: Done 201 tasks      | elapsed:  4.6min\n",
      "[Parallel(n_jobs=10)]: Done 222 tasks      | elapsed:  4.9min\n",
      "[Parallel(n_jobs=10)]: Done 245 tasks      | elapsed:  5.3min\n",
      "[Parallel(n_jobs=10)]: Done 268 tasks      | elapsed:  5.8min\n",
      "[Parallel(n_jobs=10)]: Done 293 tasks      | elapsed:  6.4min\n",
      "[Parallel(n_jobs=10)]: Done 318 tasks      | elapsed:  7.1min\n",
      "[Parallel(n_jobs=10)]: Done 345 tasks      | elapsed:  7.7min\n",
      "[Parallel(n_jobs=10)]: Done 372 tasks      | elapsed:  8.1min\n",
      "[Parallel(n_jobs=10)]: Done 401 tasks      | elapsed:  8.7min\n",
      "[Parallel(n_jobs=10)]: Done 430 tasks      | elapsed:  9.2min\n",
      "[Parallel(n_jobs=10)]: Done 461 tasks      | elapsed: 10.0min\n",
      "[Parallel(n_jobs=10)]: Done 492 tasks      | elapsed: 10.6min\n",
      "[Parallel(n_jobs=10)]: Done 525 tasks      | elapsed: 11.2min\n",
      "[Parallel(n_jobs=10)]: Done 558 tasks      | elapsed: 11.9min\n",
      "[Parallel(n_jobs=10)]: Done 593 tasks      | elapsed: 12.6min\n",
      "[Parallel(n_jobs=10)]: Done 628 tasks      | elapsed: 13.3min\n",
      "[Parallel(n_jobs=10)]: Done 665 tasks      | elapsed: 14.0min\n",
      "[Parallel(n_jobs=10)]: Done 702 tasks      | elapsed: 14.9min\n",
      "[Parallel(n_jobs=10)]: Done 741 tasks      | elapsed: 15.5min\n",
      "[Parallel(n_jobs=10)]: Done 780 tasks      | elapsed: 16.4min\n",
      "[Parallel(n_jobs=10)]: Done 821 tasks      | elapsed: 17.0min\n",
      "[Parallel(n_jobs=10)]: Done 862 tasks      | elapsed: 17.7min\n",
      "[Parallel(n_jobs=10)]: Done 900 out of 900 | elapsed: 18.5min finished\n"
     ]
    },
    {
     "data": {
      "text/plain": [
       "RandomizedSearchCV(cv=3, estimator=LGBMClassifier(n_jobs=4), n_iter=300,\n",
       "                   n_jobs=10,\n",
       "                   param_distributions={'colsample_bytree': <scipy.stats._distn_infrastructure.rv_frozen object at 0x0000020500147BC8>,\n",
       "                                        'learning_rate': [0.01, 0.02, 0.03,\n",
       "                                                          0.04, 0.05, 0.08, 0.1,\n",
       "                                                          0.2, 0.3, 0.4],\n",
       "                                        'max_depth': [-1, 1, 2, 3, 4, 5, 6, 7],\n",
       "                                        'min_child_samples': <scipy.stats._distn_infrastructure.rv_froze...\n",
       "                                        'min_child_weight': [1e-05, 0.001, 0.01,\n",
       "                                                             0.1, 1, 10.0,\n",
       "                                                             100.0, 1000.0,\n",
       "                                                             10000.0],\n",
       "                                        'n_estimators': [100, 200, 300, 400,\n",
       "                                                         500],\n",
       "                                        'num_leaves': <scipy.stats._distn_infrastructure.rv_frozen object at 0x00000205002C00C8>,\n",
       "                                        'reg_alpha': [0, 0.1, 1, 2, 5, 7, 10,\n",
       "                                                      50, 100],\n",
       "                                        'reg_lambda': [0, 0.1, 1, 5, 10, 20, 50,\n",
       "                                                       100],\n",
       "                                        'subsample': <scipy.stats._distn_infrastructure.rv_frozen object at 0x0000020500147808>},\n",
       "                   scoring='accuracy', verbose=10)"
      ]
     },
     "execution_count": 334,
     "metadata": {},
     "output_type": "execute_result"
    }
   ],
   "source": [
    "gs.fit(X_train, y_train,**fit_params)"
   ]
  },
  {
   "cell_type": "code",
   "execution_count": 405,
   "metadata": {},
   "outputs": [
    {
     "data": {
      "text/plain": [
       "0.8492248897989336"
      ]
     },
     "execution_count": 405,
     "metadata": {},
     "output_type": "execute_result"
    }
   ],
   "source": [
    "gs.best_score_"
   ]
  },
  {
   "cell_type": "code",
   "execution_count": 406,
   "metadata": {},
   "outputs": [
    {
     "data": {
      "text/plain": [
       "{'colsample_bytree': 0.6641990161243088,\n",
       " 'learning_rate': 0.2,\n",
       " 'max_depth': 7,\n",
       " 'min_child_samples': 187,\n",
       " 'min_child_weight': 0.01,\n",
       " 'n_estimators': 400,\n",
       " 'num_leaves': 43,\n",
       " 'reg_alpha': 10,\n",
       " 'reg_lambda': 50,\n",
       " 'subsample': 0.9816277782742326}"
      ]
     },
     "execution_count": 406,
     "metadata": {},
     "output_type": "execute_result"
    }
   ],
   "source": [
    "gs.best_params_"
   ]
  },
  {
   "cell_type": "code",
   "execution_count": 377,
   "metadata": {},
   "outputs": [
    {
     "data": {
      "text/plain": [
       "0.8497074049065947"
      ]
     },
     "execution_count": 377,
     "metadata": {},
     "output_type": "execute_result"
    }
   ],
   "source": [
    "gs.score(X_test,y_test)"
   ]
  },
  {
   "cell_type": "code",
   "execution_count": 378,
   "metadata": {},
   "outputs": [
    {
     "data": {
      "text/html": [
       "<div>\n",
       "<style scoped>\n",
       "    .dataframe tbody tr th:only-of-type {\n",
       "        vertical-align: middle;\n",
       "    }\n",
       "\n",
       "    .dataframe tbody tr th {\n",
       "        vertical-align: top;\n",
       "    }\n",
       "\n",
       "    .dataframe thead th {\n",
       "        text-align: right;\n",
       "    }\n",
       "</style>\n",
       "<table border=\"1\" class=\"dataframe\">\n",
       "  <thead>\n",
       "    <tr style=\"text-align: right;\">\n",
       "      <th></th>\n",
       "      <th>Estimated_Insects_Count</th>\n",
       "      <th>Crop_Type</th>\n",
       "      <th>Soil_Type</th>\n",
       "      <th>Pesticide_Use_Category</th>\n",
       "      <th>Number_Doses_Week</th>\n",
       "      <th>Number_Weeks_Used</th>\n",
       "      <th>Number_Weeks_Quit</th>\n",
       "      <th>Season</th>\n",
       "      <th>total_week</th>\n",
       "      <th>ei_nd</th>\n",
       "      <th>ei_td</th>\n",
       "      <th>nu_nq</th>\n",
       "      <th>ei_nq</th>\n",
       "      <th>ei_nu</th>\n",
       "      <th>c_nw_me</th>\n",
       "      <th>pe_nwq</th>\n",
       "    </tr>\n",
       "  </thead>\n",
       "  <tbody>\n",
       "    <tr>\n",
       "      <td>43097</td>\n",
       "      <td>790</td>\n",
       "      <td>1</td>\n",
       "      <td>0</td>\n",
       "      <td>1</td>\n",
       "      <td>35</td>\n",
       "      <td>15.0</td>\n",
       "      <td>13</td>\n",
       "      <td>2</td>\n",
       "      <td>28.0</td>\n",
       "      <td>22.571429</td>\n",
       "      <td>1.504762</td>\n",
       "      <td>1.153846</td>\n",
       "      <td>60.769231</td>\n",
       "      <td>52.666667</td>\n",
       "      <td>26.424473</td>\n",
       "      <td>13.375614</td>\n",
       "    </tr>\n",
       "    <tr>\n",
       "      <td>62169</td>\n",
       "      <td>1898</td>\n",
       "      <td>0</td>\n",
       "      <td>0</td>\n",
       "      <td>1</td>\n",
       "      <td>20</td>\n",
       "      <td>42.0</td>\n",
       "      <td>9</td>\n",
       "      <td>1</td>\n",
       "      <td>51.0</td>\n",
       "      <td>94.900000</td>\n",
       "      <td>2.259524</td>\n",
       "      <td>4.666667</td>\n",
       "      <td>210.888889</td>\n",
       "      <td>45.190476</td>\n",
       "      <td>28.197739</td>\n",
       "      <td>13.375614</td>\n",
       "    </tr>\n",
       "    <tr>\n",
       "      <td>13255</td>\n",
       "      <td>732</td>\n",
       "      <td>1</td>\n",
       "      <td>0</td>\n",
       "      <td>2</td>\n",
       "      <td>40</td>\n",
       "      <td>34.0</td>\n",
       "      <td>0</td>\n",
       "      <td>2</td>\n",
       "      <td>34.0</td>\n",
       "      <td>18.300000</td>\n",
       "      <td>0.538235</td>\n",
       "      <td>0.000000</td>\n",
       "      <td>0.000000</td>\n",
       "      <td>21.529412</td>\n",
       "      <td>26.424473</td>\n",
       "      <td>0.000000</td>\n",
       "    </tr>\n",
       "    <tr>\n",
       "      <td>50178</td>\n",
       "      <td>1297</td>\n",
       "      <td>0</td>\n",
       "      <td>1</td>\n",
       "      <td>1</td>\n",
       "      <td>40</td>\n",
       "      <td>27.0</td>\n",
       "      <td>12</td>\n",
       "      <td>3</td>\n",
       "      <td>39.0</td>\n",
       "      <td>32.425000</td>\n",
       "      <td>1.200926</td>\n",
       "      <td>2.250000</td>\n",
       "      <td>108.083333</td>\n",
       "      <td>48.037037</td>\n",
       "      <td>28.197739</td>\n",
       "      <td>13.375614</td>\n",
       "    </tr>\n",
       "    <tr>\n",
       "      <td>2999</td>\n",
       "      <td>489</td>\n",
       "      <td>1</td>\n",
       "      <td>0</td>\n",
       "      <td>2</td>\n",
       "      <td>60</td>\n",
       "      <td>23.0</td>\n",
       "      <td>0</td>\n",
       "      <td>3</td>\n",
       "      <td>23.0</td>\n",
       "      <td>8.150000</td>\n",
       "      <td>0.354348</td>\n",
       "      <td>0.000000</td>\n",
       "      <td>0.000000</td>\n",
       "      <td>21.260870</td>\n",
       "      <td>26.424473</td>\n",
       "      <td>0.000000</td>\n",
       "    </tr>\n",
       "    <tr>\n",
       "      <td>...</td>\n",
       "      <td>...</td>\n",
       "      <td>...</td>\n",
       "      <td>...</td>\n",
       "      <td>...</td>\n",
       "      <td>...</td>\n",
       "      <td>...</td>\n",
       "      <td>...</td>\n",
       "      <td>...</td>\n",
       "      <td>...</td>\n",
       "      <td>...</td>\n",
       "      <td>...</td>\n",
       "      <td>...</td>\n",
       "      <td>...</td>\n",
       "      <td>...</td>\n",
       "      <td>...</td>\n",
       "      <td>...</td>\n",
       "    </tr>\n",
       "    <tr>\n",
       "      <td>21243</td>\n",
       "      <td>1212</td>\n",
       "      <td>0</td>\n",
       "      <td>0</td>\n",
       "      <td>1</td>\n",
       "      <td>40</td>\n",
       "      <td>37.0</td>\n",
       "      <td>6</td>\n",
       "      <td>1</td>\n",
       "      <td>43.0</td>\n",
       "      <td>30.300000</td>\n",
       "      <td>0.818919</td>\n",
       "      <td>6.166667</td>\n",
       "      <td>202.000000</td>\n",
       "      <td>32.756757</td>\n",
       "      <td>28.197739</td>\n",
       "      <td>13.375614</td>\n",
       "    </tr>\n",
       "    <tr>\n",
       "      <td>45891</td>\n",
       "      <td>789</td>\n",
       "      <td>1</td>\n",
       "      <td>0</td>\n",
       "      <td>0</td>\n",
       "      <td>0</td>\n",
       "      <td>0.0</td>\n",
       "      <td>0</td>\n",
       "      <td>1</td>\n",
       "      <td>0.0</td>\n",
       "      <td>0.000000</td>\n",
       "      <td>0.000000</td>\n",
       "      <td>0.000000</td>\n",
       "      <td>0.000000</td>\n",
       "      <td>0.000000</td>\n",
       "      <td>26.424473</td>\n",
       "      <td>0.000000</td>\n",
       "    </tr>\n",
       "    <tr>\n",
       "      <td>42613</td>\n",
       "      <td>1385</td>\n",
       "      <td>0</td>\n",
       "      <td>1</td>\n",
       "      <td>1</td>\n",
       "      <td>20</td>\n",
       "      <td>27.0</td>\n",
       "      <td>24</td>\n",
       "      <td>1</td>\n",
       "      <td>51.0</td>\n",
       "      <td>69.250000</td>\n",
       "      <td>2.564815</td>\n",
       "      <td>1.125000</td>\n",
       "      <td>57.708333</td>\n",
       "      <td>51.296296</td>\n",
       "      <td>28.197739</td>\n",
       "      <td>13.375614</td>\n",
       "    </tr>\n",
       "    <tr>\n",
       "      <td>43567</td>\n",
       "      <td>1212</td>\n",
       "      <td>0</td>\n",
       "      <td>0</td>\n",
       "      <td>2</td>\n",
       "      <td>10</td>\n",
       "      <td>0.0</td>\n",
       "      <td>0</td>\n",
       "      <td>2</td>\n",
       "      <td>0.0</td>\n",
       "      <td>121.200000</td>\n",
       "      <td>0.000000</td>\n",
       "      <td>0.000000</td>\n",
       "      <td>0.000000</td>\n",
       "      <td>0.000000</td>\n",
       "      <td>28.197739</td>\n",
       "      <td>0.000000</td>\n",
       "    </tr>\n",
       "    <tr>\n",
       "      <td>68268</td>\n",
       "      <td>231</td>\n",
       "      <td>1</td>\n",
       "      <td>0</td>\n",
       "      <td>1</td>\n",
       "      <td>60</td>\n",
       "      <td>26.0</td>\n",
       "      <td>3</td>\n",
       "      <td>1</td>\n",
       "      <td>29.0</td>\n",
       "      <td>3.850000</td>\n",
       "      <td>0.148077</td>\n",
       "      <td>8.666667</td>\n",
       "      <td>77.000000</td>\n",
       "      <td>8.884615</td>\n",
       "      <td>26.424473</td>\n",
       "      <td>13.375614</td>\n",
       "    </tr>\n",
       "  </tbody>\n",
       "</table>\n",
       "<p>71086 rows × 16 columns</p>\n",
       "</div>"
      ],
      "text/plain": [
       "       Estimated_Insects_Count  Crop_Type  Soil_Type  Pesticide_Use_Category  \\\n",
       "43097                      790          1          0                       1   \n",
       "62169                     1898          0          0                       1   \n",
       "13255                      732          1          0                       2   \n",
       "50178                     1297          0          1                       1   \n",
       "2999                       489          1          0                       2   \n",
       "...                        ...        ...        ...                     ...   \n",
       "21243                     1212          0          0                       1   \n",
       "45891                      789          1          0                       0   \n",
       "42613                     1385          0          1                       1   \n",
       "43567                     1212          0          0                       2   \n",
       "68268                      231          1          0                       1   \n",
       "\n",
       "       Number_Doses_Week  Number_Weeks_Used  Number_Weeks_Quit  Season  \\\n",
       "43097                 35               15.0                 13       2   \n",
       "62169                 20               42.0                  9       1   \n",
       "13255                 40               34.0                  0       2   \n",
       "50178                 40               27.0                 12       3   \n",
       "2999                  60               23.0                  0       3   \n",
       "...                  ...                ...                ...     ...   \n",
       "21243                 40               37.0                  6       1   \n",
       "45891                  0                0.0                  0       1   \n",
       "42613                 20               27.0                 24       1   \n",
       "43567                 10                0.0                  0       2   \n",
       "68268                 60               26.0                  3       1   \n",
       "\n",
       "       total_week       ei_nd     ei_td     nu_nq       ei_nq      ei_nu  \\\n",
       "43097        28.0   22.571429  1.504762  1.153846   60.769231  52.666667   \n",
       "62169        51.0   94.900000  2.259524  4.666667  210.888889  45.190476   \n",
       "13255        34.0   18.300000  0.538235  0.000000    0.000000  21.529412   \n",
       "50178        39.0   32.425000  1.200926  2.250000  108.083333  48.037037   \n",
       "2999         23.0    8.150000  0.354348  0.000000    0.000000  21.260870   \n",
       "...           ...         ...       ...       ...         ...        ...   \n",
       "21243        43.0   30.300000  0.818919  6.166667  202.000000  32.756757   \n",
       "45891         0.0    0.000000  0.000000  0.000000    0.000000   0.000000   \n",
       "42613        51.0   69.250000  2.564815  1.125000   57.708333  51.296296   \n",
       "43567         0.0  121.200000  0.000000  0.000000    0.000000   0.000000   \n",
       "68268        29.0    3.850000  0.148077  8.666667   77.000000   8.884615   \n",
       "\n",
       "         c_nw_me     pe_nwq  \n",
       "43097  26.424473  13.375614  \n",
       "62169  28.197739  13.375614  \n",
       "13255  26.424473   0.000000  \n",
       "50178  28.197739  13.375614  \n",
       "2999   26.424473   0.000000  \n",
       "...          ...        ...  \n",
       "21243  28.197739  13.375614  \n",
       "45891  26.424473   0.000000  \n",
       "42613  28.197739  13.375614  \n",
       "43567  28.197739   0.000000  \n",
       "68268  26.424473  13.375614  \n",
       "\n",
       "[71086 rows x 16 columns]"
      ]
     },
     "execution_count": 378,
     "metadata": {},
     "output_type": "execute_result"
    }
   ],
   "source": [
    "X_train"
   ]
  },
  {
   "cell_type": "markdown",
   "metadata": {},
   "source": [
    "# Averaging"
   ]
  },
  {
   "cell_type": "code",
   "execution_count": 380,
   "metadata": {},
   "outputs": [],
   "source": [
    "lgbm_tunned=LGBMClassifier(colsample_bytree= 0.9049825045270766,\n",
    " learning_rate= 0.2,\n",
    " max_depth= 7,\n",
    " min_child_samples= 327,\n",
    " min_child_weight= 0.1,\n",
    " n_estimators= 400,\n",
    " num_leaves= 14,\n",
    "random_state=1,\n",
    " reg_alpha= 5,\n",
    " reg_lambda= 10,\n",
    " subsample= 0.5453856745134651)"
   ]
  },
  {
   "cell_type": "code",
   "execution_count": 381,
   "metadata": {},
   "outputs": [
    {
     "data": {
      "text/plain": [
       "LGBMClassifier(colsample_bytree=0.9049825045270766, learning_rate=0.2,\n",
       "               max_depth=7, min_child_samples=327, min_child_weight=0.1,\n",
       "               n_estimators=400, num_leaves=14, random_state=1, reg_alpha=5,\n",
       "               reg_lambda=10, subsample=0.5453856745134651)"
      ]
     },
     "execution_count": 381,
     "metadata": {},
     "output_type": "execute_result"
    }
   ],
   "source": [
    "lgbm_tunned.fit(x,y)"
   ]
  },
  {
   "cell_type": "code",
   "execution_count": 382,
   "metadata": {},
   "outputs": [],
   "source": [
    "pred=lgbm_tunned.predict_proba(data_test)"
   ]
  },
  {
   "cell_type": "code",
   "execution_count": 383,
   "metadata": {},
   "outputs": [
    {
     "name": "stdout",
     "output_type": "stream",
     "text": [
      "3\n",
      "10\n",
      "15\n",
      "20\n",
      "33\n",
      "333\n",
      "1997\n",
      "2020\n",
      "2021\n"
     ]
    }
   ],
   "source": [
    "for seed_val in [3,10,15,20,33,333,1997,2020,2021]:\n",
    "    print (seed_val)\n",
    "    m=LGBMClassifier(colsample_bytree= 0.9049825045270766,\n",
    " learning_rate= 0.2,\n",
    " max_depth= 7,\n",
    " min_child_samples= 327,\n",
    " min_child_weight= 0.1,\n",
    " n_estimators= 300,\n",
    " num_leaves= 14,\n",
    "random_state=seed_val,\n",
    " reg_alpha= 5,\n",
    " reg_lambda= 10,\n",
    " subsample= 0.5453856745134651)\n",
    "    m.fit(x,y)\n",
    "    predict=m.predict_proba(data_test)\n",
    "    pred += predict"
   ]
  },
  {
   "cell_type": "code",
   "execution_count": 384,
   "metadata": {},
   "outputs": [],
   "source": [
    "np.set_printoptions(precision=3,suppress=True)"
   ]
  },
  {
   "cell_type": "code",
   "execution_count": 385,
   "metadata": {},
   "outputs": [],
   "source": [
    "pred=pred/10"
   ]
  },
  {
   "cell_type": "code",
   "execution_count": 386,
   "metadata": {},
   "outputs": [
    {
     "data": {
      "text/plain": [
       "array([[0.265, 0.734, 0.001],\n",
       "       [0.178, 0.821, 0.001],\n",
       "       [0.134, 0.864, 0.002],\n",
       "       ...,\n",
       "       [0.86 , 0.136, 0.004],\n",
       "       [0.807, 0.186, 0.007],\n",
       "       [0.825, 0.166, 0.009]])"
      ]
     },
     "execution_count": 386,
     "metadata": {},
     "output_type": "execute_result"
    }
   ],
   "source": [
    "pred"
   ]
  },
  {
   "cell_type": "code",
   "execution_count": 387,
   "metadata": {},
   "outputs": [],
   "source": [
    "prediction_avg=np.argmax(pred,axis = 1)"
   ]
  },
  {
   "cell_type": "code",
   "execution_count": 388,
   "metadata": {},
   "outputs": [],
   "source": [
    "prediction_avg=pd.Series(prediction_avg)"
   ]
  },
  {
   "cell_type": "code",
   "execution_count": 389,
   "metadata": {},
   "outputs": [
    {
     "data": {
      "text/plain": [
       "0    56061\n",
       "1     3247\n",
       "2        2\n",
       "dtype: int64"
      ]
     },
     "execution_count": 389,
     "metadata": {},
     "output_type": "execute_result"
    }
   ],
   "source": [
    "prediction_avg.value_counts()"
   ]
  },
  {
   "cell_type": "markdown",
   "metadata": {},
   "source": [
    "# Test Data"
   ]
  },
  {
   "cell_type": "code",
   "execution_count": 339,
   "metadata": {},
   "outputs": [],
   "source": [
    "dataset_test=pd.read_csv(\"test_pFkWwen.csv\")"
   ]
  },
  {
   "cell_type": "code",
   "execution_count": 340,
   "metadata": {},
   "outputs": [
    {
     "data": {
      "text/html": [
       "<div>\n",
       "<style scoped>\n",
       "    .dataframe tbody tr th:only-of-type {\n",
       "        vertical-align: middle;\n",
       "    }\n",
       "\n",
       "    .dataframe tbody tr th {\n",
       "        vertical-align: top;\n",
       "    }\n",
       "\n",
       "    .dataframe thead th {\n",
       "        text-align: right;\n",
       "    }\n",
       "</style>\n",
       "<table border=\"1\" class=\"dataframe\">\n",
       "  <thead>\n",
       "    <tr style=\"text-align: right;\">\n",
       "      <th></th>\n",
       "      <th>ID</th>\n",
       "      <th>Estimated_Insects_Count</th>\n",
       "      <th>Crop_Type</th>\n",
       "      <th>Soil_Type</th>\n",
       "      <th>Pesticide_Use_Category</th>\n",
       "      <th>Number_Doses_Week</th>\n",
       "      <th>Number_Weeks_Used</th>\n",
       "      <th>Number_Weeks_Quit</th>\n",
       "      <th>Season</th>\n",
       "    </tr>\n",
       "  </thead>\n",
       "  <tbody>\n",
       "    <tr>\n",
       "      <td>0</td>\n",
       "      <td>F00000002</td>\n",
       "      <td>188</td>\n",
       "      <td>1</td>\n",
       "      <td>1</td>\n",
       "      <td>1</td>\n",
       "      <td>0</td>\n",
       "      <td>NaN</td>\n",
       "      <td>0</td>\n",
       "      <td>2</td>\n",
       "    </tr>\n",
       "    <tr>\n",
       "      <td>1</td>\n",
       "      <td>F00000007</td>\n",
       "      <td>410</td>\n",
       "      <td>1</td>\n",
       "      <td>1</td>\n",
       "      <td>1</td>\n",
       "      <td>0</td>\n",
       "      <td>0.0</td>\n",
       "      <td>0</td>\n",
       "      <td>2</td>\n",
       "    </tr>\n",
       "    <tr>\n",
       "      <td>2</td>\n",
       "      <td>F00000011</td>\n",
       "      <td>626</td>\n",
       "      <td>1</td>\n",
       "      <td>0</td>\n",
       "      <td>1</td>\n",
       "      <td>0</td>\n",
       "      <td>0.0</td>\n",
       "      <td>0</td>\n",
       "      <td>2</td>\n",
       "    </tr>\n",
       "    <tr>\n",
       "      <td>3</td>\n",
       "      <td>F00000013</td>\n",
       "      <td>731</td>\n",
       "      <td>1</td>\n",
       "      <td>0</td>\n",
       "      <td>1</td>\n",
       "      <td>0</td>\n",
       "      <td>0.0</td>\n",
       "      <td>0</td>\n",
       "      <td>2</td>\n",
       "    </tr>\n",
       "    <tr>\n",
       "      <td>4</td>\n",
       "      <td>F00000014</td>\n",
       "      <td>789</td>\n",
       "      <td>0</td>\n",
       "      <td>0</td>\n",
       "      <td>1</td>\n",
       "      <td>0</td>\n",
       "      <td>0.0</td>\n",
       "      <td>0</td>\n",
       "      <td>1</td>\n",
       "    </tr>\n",
       "    <tr>\n",
       "      <td>...</td>\n",
       "      <td>...</td>\n",
       "      <td>...</td>\n",
       "      <td>...</td>\n",
       "      <td>...</td>\n",
       "      <td>...</td>\n",
       "      <td>...</td>\n",
       "      <td>...</td>\n",
       "      <td>...</td>\n",
       "      <td>...</td>\n",
       "    </tr>\n",
       "    <tr>\n",
       "      <td>59305</td>\n",
       "      <td>F00155937</td>\n",
       "      <td>3337</td>\n",
       "      <td>1</td>\n",
       "      <td>0</td>\n",
       "      <td>2</td>\n",
       "      <td>20</td>\n",
       "      <td>34.0</td>\n",
       "      <td>12</td>\n",
       "      <td>1</td>\n",
       "    </tr>\n",
       "    <tr>\n",
       "      <td>59306</td>\n",
       "      <td>F00155940</td>\n",
       "      <td>3516</td>\n",
       "      <td>1</td>\n",
       "      <td>0</td>\n",
       "      <td>2</td>\n",
       "      <td>20</td>\n",
       "      <td>32.0</td>\n",
       "      <td>10</td>\n",
       "      <td>2</td>\n",
       "    </tr>\n",
       "    <tr>\n",
       "      <td>59307</td>\n",
       "      <td>F00155941</td>\n",
       "      <td>3702</td>\n",
       "      <td>1</td>\n",
       "      <td>0</td>\n",
       "      <td>2</td>\n",
       "      <td>10</td>\n",
       "      <td>NaN</td>\n",
       "      <td>48</td>\n",
       "      <td>1</td>\n",
       "    </tr>\n",
       "    <tr>\n",
       "      <td>59308</td>\n",
       "      <td>F00155943</td>\n",
       "      <td>3702</td>\n",
       "      <td>1</td>\n",
       "      <td>0</td>\n",
       "      <td>2</td>\n",
       "      <td>10</td>\n",
       "      <td>28.0</td>\n",
       "      <td>17</td>\n",
       "      <td>2</td>\n",
       "    </tr>\n",
       "    <tr>\n",
       "      <td>59309</td>\n",
       "      <td>F00155944</td>\n",
       "      <td>3895</td>\n",
       "      <td>1</td>\n",
       "      <td>0</td>\n",
       "      <td>2</td>\n",
       "      <td>5</td>\n",
       "      <td>52.0</td>\n",
       "      <td>7</td>\n",
       "      <td>1</td>\n",
       "    </tr>\n",
       "  </tbody>\n",
       "</table>\n",
       "<p>59310 rows × 9 columns</p>\n",
       "</div>"
      ],
      "text/plain": [
       "              ID  Estimated_Insects_Count  Crop_Type  Soil_Type  \\\n",
       "0      F00000002                      188          1          1   \n",
       "1      F00000007                      410          1          1   \n",
       "2      F00000011                      626          1          0   \n",
       "3      F00000013                      731          1          0   \n",
       "4      F00000014                      789          0          0   \n",
       "...          ...                      ...        ...        ...   \n",
       "59305  F00155937                     3337          1          0   \n",
       "59306  F00155940                     3516          1          0   \n",
       "59307  F00155941                     3702          1          0   \n",
       "59308  F00155943                     3702          1          0   \n",
       "59309  F00155944                     3895          1          0   \n",
       "\n",
       "       Pesticide_Use_Category  Number_Doses_Week  Number_Weeks_Used  \\\n",
       "0                           1                  0                NaN   \n",
       "1                           1                  0                0.0   \n",
       "2                           1                  0                0.0   \n",
       "3                           1                  0                0.0   \n",
       "4                           1                  0                0.0   \n",
       "...                       ...                ...                ...   \n",
       "59305                       2                 20               34.0   \n",
       "59306                       2                 20               32.0   \n",
       "59307                       2                 10                NaN   \n",
       "59308                       2                 10               28.0   \n",
       "59309                       2                  5               52.0   \n",
       "\n",
       "       Number_Weeks_Quit  Season  \n",
       "0                      0       2  \n",
       "1                      0       2  \n",
       "2                      0       2  \n",
       "3                      0       2  \n",
       "4                      0       1  \n",
       "...                  ...     ...  \n",
       "59305                 12       1  \n",
       "59306                 10       2  \n",
       "59307                 48       1  \n",
       "59308                 17       2  \n",
       "59309                  7       1  \n",
       "\n",
       "[59310 rows x 9 columns]"
      ]
     },
     "execution_count": 340,
     "metadata": {},
     "output_type": "execute_result"
    }
   ],
   "source": [
    "dataset_test"
   ]
  },
  {
   "cell_type": "code",
   "execution_count": 341,
   "metadata": {},
   "outputs": [
    {
     "data": {
      "text/plain": [
       "ID                         False\n",
       "Estimated_Insects_Count    False\n",
       "Crop_Type                  False\n",
       "Soil_Type                  False\n",
       "Pesticide_Use_Category     False\n",
       "Number_Doses_Week          False\n",
       "Number_Weeks_Used           True\n",
       "Number_Weeks_Quit          False\n",
       "Season                     False\n",
       "dtype: bool"
      ]
     },
     "execution_count": 341,
     "metadata": {},
     "output_type": "execute_result"
    }
   ],
   "source": [
    "dataset_test.isnull().any()"
   ]
  },
  {
   "cell_type": "code",
   "execution_count": 342,
   "metadata": {},
   "outputs": [
    {
     "data": {
      "text/plain": [
       "ID                            0\n",
       "Estimated_Insects_Count       0\n",
       "Crop_Type                     0\n",
       "Soil_Type                     0\n",
       "Pesticide_Use_Category        0\n",
       "Number_Doses_Week             0\n",
       "Number_Weeks_Used          5893\n",
       "Number_Weeks_Quit             0\n",
       "Season                        0\n",
       "dtype: int64"
      ]
     },
     "execution_count": 342,
     "metadata": {},
     "output_type": "execute_result"
    }
   ],
   "source": [
    "dataset_test.isnull().sum()"
   ]
  },
  {
   "cell_type": "code",
   "execution_count": 343,
   "metadata": {},
   "outputs": [
    {
     "data": {
      "text/plain": [
       "array([0], dtype=int64)"
      ]
     },
     "execution_count": 343,
     "metadata": {},
     "output_type": "execute_result"
    }
   ],
   "source": [
    "dataset_test[dataset_test[\"Pesticide_Use_Category\"]==1][\"Number_Weeks_Quit\"].unique()"
   ]
  },
  {
   "cell_type": "code",
   "execution_count": 344,
   "metadata": {},
   "outputs": [
    {
     "data": {
      "text/plain": [
       "0        NaN\n",
       "1        0.0\n",
       "2        0.0\n",
       "3        0.0\n",
       "4        0.0\n",
       "        ... \n",
       "57606    NaN\n",
       "57607    0.0\n",
       "57608    0.0\n",
       "57609    0.0\n",
       "57610    0.0\n",
       "Name: Number_Weeks_Used, Length: 571, dtype: float64"
      ]
     },
     "execution_count": 344,
     "metadata": {},
     "output_type": "execute_result"
    }
   ],
   "source": [
    "dataset_test[dataset_test[\"Pesticide_Use_Category\"]==1][\"Number_Weeks_Used\"]"
   ]
  },
  {
   "cell_type": "code",
   "execution_count": 345,
   "metadata": {},
   "outputs": [],
   "source": [
    "na_index_test=dataset_test.loc[dataset_test[\"Number_Weeks_Used\"].isnull() & dataset_test[\"Pesticide_Use_Category\"]==1 ][\"Number_Weeks_Used\"].index"
   ]
  },
  {
   "cell_type": "code",
   "execution_count": 346,
   "metadata": {},
   "outputs": [],
   "source": [
    "dataset_test.loc[na_index_test,\"Number_Weeks_Used\"]=[[0]]"
   ]
  },
  {
   "cell_type": "code",
   "execution_count": 347,
   "metadata": {},
   "outputs": [
    {
     "data": {
      "text/plain": [
       "ID                            0\n",
       "Estimated_Insects_Count       0\n",
       "Crop_Type                     0\n",
       "Soil_Type                     0\n",
       "Pesticide_Use_Category        0\n",
       "Number_Doses_Week             0\n",
       "Number_Weeks_Used          4272\n",
       "Number_Weeks_Quit             0\n",
       "Season                        0\n",
       "dtype: int64"
      ]
     },
     "execution_count": 347,
     "metadata": {},
     "output_type": "execute_result"
    }
   ],
   "source": [
    "dataset_test.isnull().sum()"
   ]
  },
  {
   "cell_type": "code",
   "execution_count": 348,
   "metadata": {},
   "outputs": [
    {
     "data": {
      "text/plain": [
       "count    55038.000000\n",
       "mean        27.859661\n",
       "std         13.164202\n",
       "min          0.000000\n",
       "25%         19.000000\n",
       "50%         27.000000\n",
       "75%         37.000000\n",
       "max         67.000000\n",
       "Name: Number_Weeks_Used, dtype: float64"
      ]
     },
     "execution_count": 348,
     "metadata": {},
     "output_type": "execute_result"
    }
   ],
   "source": [
    "dataset_test.describe()[\"Number_Weeks_Used\"]"
   ]
  },
  {
   "cell_type": "code",
   "execution_count": 349,
   "metadata": {},
   "outputs": [
    {
     "data": {
      "text/plain": [
       "array([18., 21., nan, 14., 20., 23., 28., 16., 22., 13., 15., 27., 17.,\n",
       "       10., 25., 19., 24., 26., 34.,  5., 31., 12., 37., 36., 32., 30.,\n",
       "       35., 43., 33., 40., 29., 38., 42., 44.,  9., 41., 47., 39., 45.,\n",
       "       46., 50., 49., 51., 55., 48., 53., 52., 54.,  8., 11.,  7.,  6.,\n",
       "       57., 56., 59., 58., 65., 60., 62., 64., 61., 63.])"
      ]
     },
     "execution_count": 349,
     "metadata": {},
     "output_type": "execute_result"
    }
   ],
   "source": [
    "dataset_test[dataset_test[\"Pesticide_Use_Category\"]==2][\"Number_Weeks_Used\"].unique()"
   ]
  },
  {
   "cell_type": "code",
   "execution_count": 350,
   "metadata": {},
   "outputs": [
    {
     "data": {
      "text/plain": [
       "array([20., 19., 10., 14., 22., 13., 26., 17., 15., 25., 18., 29., 23.,\n",
       "       27.,  0., 34., 16., 35., 28., 21., 12., 31., 33., 24., 36., 38.,\n",
       "       30., 32.,  6., 41.,  7., 37., 40., 39., 45., 47., 42., 43., 44.,\n",
       "       50., 52., 48., 46., 49., 56., 57., 54., 51., 53., 58., 59., 64.,\n",
       "       62.,  5.,  9., 55., 61., 60., 65., 67., 11.,  8., 66., 63.])"
      ]
     },
     "execution_count": 350,
     "metadata": {},
     "output_type": "execute_result"
    }
   ],
   "source": [
    "dataset_test[dataset_test[\"Pesticide_Use_Category\"]==3][\"Number_Weeks_Used\"].unique()"
   ]
  },
  {
   "cell_type": "code",
   "execution_count": 351,
   "metadata": {},
   "outputs": [
    {
     "data": {
      "text/plain": [
       "Pesticide_Use_Category\n",
       "1     0.000000\n",
       "2    26.711707\n",
       "3    31.558364\n",
       "Name: Number_Weeks_Used, dtype: float64"
      ]
     },
     "execution_count": 351,
     "metadata": {},
     "output_type": "execute_result"
    }
   ],
   "source": [
    "dataset_test.groupby(\"Pesticide_Use_Category\")[\"Number_Weeks_Used\"].mean()"
   ]
  },
  {
   "cell_type": "code",
   "execution_count": 352,
   "metadata": {},
   "outputs": [],
   "source": [
    "dataset_test.fillna(dataset.median(),inplace=True)"
   ]
  },
  {
   "cell_type": "code",
   "execution_count": 353,
   "metadata": {},
   "outputs": [
    {
     "data": {
      "text/plain": [
       "ID                         0\n",
       "Estimated_Insects_Count    0\n",
       "Crop_Type                  0\n",
       "Soil_Type                  0\n",
       "Pesticide_Use_Category     0\n",
       "Number_Doses_Week          0\n",
       "Number_Weeks_Used          0\n",
       "Number_Weeks_Quit          0\n",
       "Season                     0\n",
       "dtype: int64"
      ]
     },
     "execution_count": 353,
     "metadata": {},
     "output_type": "execute_result"
    }
   ],
   "source": [
    "dataset_test.isnull().sum()"
   ]
  },
  {
   "cell_type": "code",
   "execution_count": 354,
   "metadata": {},
   "outputs": [
    {
     "data": {
      "text/html": [
       "<div>\n",
       "<style scoped>\n",
       "    .dataframe tbody tr th:only-of-type {\n",
       "        vertical-align: middle;\n",
       "    }\n",
       "\n",
       "    .dataframe tbody tr th {\n",
       "        vertical-align: top;\n",
       "    }\n",
       "\n",
       "    .dataframe thead th {\n",
       "        text-align: right;\n",
       "    }\n",
       "</style>\n",
       "<table border=\"1\" class=\"dataframe\">\n",
       "  <thead>\n",
       "    <tr style=\"text-align: right;\">\n",
       "      <th></th>\n",
       "      <th>ID</th>\n",
       "      <th>Estimated_Insects_Count</th>\n",
       "      <th>Crop_Type</th>\n",
       "      <th>Soil_Type</th>\n",
       "      <th>Pesticide_Use_Category</th>\n",
       "      <th>Number_Doses_Week</th>\n",
       "      <th>Number_Weeks_Used</th>\n",
       "      <th>Number_Weeks_Quit</th>\n",
       "      <th>Season</th>\n",
       "    </tr>\n",
       "  </thead>\n",
       "  <tbody>\n",
       "    <tr>\n",
       "      <td>0</td>\n",
       "      <td>F00000002</td>\n",
       "      <td>188</td>\n",
       "      <td>1</td>\n",
       "      <td>1</td>\n",
       "      <td>1</td>\n",
       "      <td>0</td>\n",
       "      <td>0.0</td>\n",
       "      <td>0</td>\n",
       "      <td>2</td>\n",
       "    </tr>\n",
       "    <tr>\n",
       "      <td>1</td>\n",
       "      <td>F00000007</td>\n",
       "      <td>410</td>\n",
       "      <td>1</td>\n",
       "      <td>1</td>\n",
       "      <td>1</td>\n",
       "      <td>0</td>\n",
       "      <td>0.0</td>\n",
       "      <td>0</td>\n",
       "      <td>2</td>\n",
       "    </tr>\n",
       "    <tr>\n",
       "      <td>2</td>\n",
       "      <td>F00000011</td>\n",
       "      <td>626</td>\n",
       "      <td>1</td>\n",
       "      <td>0</td>\n",
       "      <td>1</td>\n",
       "      <td>0</td>\n",
       "      <td>0.0</td>\n",
       "      <td>0</td>\n",
       "      <td>2</td>\n",
       "    </tr>\n",
       "    <tr>\n",
       "      <td>3</td>\n",
       "      <td>F00000013</td>\n",
       "      <td>731</td>\n",
       "      <td>1</td>\n",
       "      <td>0</td>\n",
       "      <td>1</td>\n",
       "      <td>0</td>\n",
       "      <td>0.0</td>\n",
       "      <td>0</td>\n",
       "      <td>2</td>\n",
       "    </tr>\n",
       "    <tr>\n",
       "      <td>4</td>\n",
       "      <td>F00000014</td>\n",
       "      <td>789</td>\n",
       "      <td>0</td>\n",
       "      <td>0</td>\n",
       "      <td>1</td>\n",
       "      <td>0</td>\n",
       "      <td>0.0</td>\n",
       "      <td>0</td>\n",
       "      <td>1</td>\n",
       "    </tr>\n",
       "    <tr>\n",
       "      <td>...</td>\n",
       "      <td>...</td>\n",
       "      <td>...</td>\n",
       "      <td>...</td>\n",
       "      <td>...</td>\n",
       "      <td>...</td>\n",
       "      <td>...</td>\n",
       "      <td>...</td>\n",
       "      <td>...</td>\n",
       "      <td>...</td>\n",
       "    </tr>\n",
       "    <tr>\n",
       "      <td>59305</td>\n",
       "      <td>F00155937</td>\n",
       "      <td>3337</td>\n",
       "      <td>1</td>\n",
       "      <td>0</td>\n",
       "      <td>2</td>\n",
       "      <td>20</td>\n",
       "      <td>34.0</td>\n",
       "      <td>12</td>\n",
       "      <td>1</td>\n",
       "    </tr>\n",
       "    <tr>\n",
       "      <td>59306</td>\n",
       "      <td>F00155940</td>\n",
       "      <td>3516</td>\n",
       "      <td>1</td>\n",
       "      <td>0</td>\n",
       "      <td>2</td>\n",
       "      <td>20</td>\n",
       "      <td>32.0</td>\n",
       "      <td>10</td>\n",
       "      <td>2</td>\n",
       "    </tr>\n",
       "    <tr>\n",
       "      <td>59307</td>\n",
       "      <td>F00155941</td>\n",
       "      <td>3702</td>\n",
       "      <td>1</td>\n",
       "      <td>0</td>\n",
       "      <td>2</td>\n",
       "      <td>10</td>\n",
       "      <td>27.0</td>\n",
       "      <td>48</td>\n",
       "      <td>1</td>\n",
       "    </tr>\n",
       "    <tr>\n",
       "      <td>59308</td>\n",
       "      <td>F00155943</td>\n",
       "      <td>3702</td>\n",
       "      <td>1</td>\n",
       "      <td>0</td>\n",
       "      <td>2</td>\n",
       "      <td>10</td>\n",
       "      <td>28.0</td>\n",
       "      <td>17</td>\n",
       "      <td>2</td>\n",
       "    </tr>\n",
       "    <tr>\n",
       "      <td>59309</td>\n",
       "      <td>F00155944</td>\n",
       "      <td>3895</td>\n",
       "      <td>1</td>\n",
       "      <td>0</td>\n",
       "      <td>2</td>\n",
       "      <td>5</td>\n",
       "      <td>52.0</td>\n",
       "      <td>7</td>\n",
       "      <td>1</td>\n",
       "    </tr>\n",
       "  </tbody>\n",
       "</table>\n",
       "<p>59310 rows × 9 columns</p>\n",
       "</div>"
      ],
      "text/plain": [
       "              ID  Estimated_Insects_Count  Crop_Type  Soil_Type  \\\n",
       "0      F00000002                      188          1          1   \n",
       "1      F00000007                      410          1          1   \n",
       "2      F00000011                      626          1          0   \n",
       "3      F00000013                      731          1          0   \n",
       "4      F00000014                      789          0          0   \n",
       "...          ...                      ...        ...        ...   \n",
       "59305  F00155937                     3337          1          0   \n",
       "59306  F00155940                     3516          1          0   \n",
       "59307  F00155941                     3702          1          0   \n",
       "59308  F00155943                     3702          1          0   \n",
       "59309  F00155944                     3895          1          0   \n",
       "\n",
       "       Pesticide_Use_Category  Number_Doses_Week  Number_Weeks_Used  \\\n",
       "0                           1                  0                0.0   \n",
       "1                           1                  0                0.0   \n",
       "2                           1                  0                0.0   \n",
       "3                           1                  0                0.0   \n",
       "4                           1                  0                0.0   \n",
       "...                       ...                ...                ...   \n",
       "59305                       2                 20               34.0   \n",
       "59306                       2                 20               32.0   \n",
       "59307                       2                 10               27.0   \n",
       "59308                       2                 10               28.0   \n",
       "59309                       2                  5               52.0   \n",
       "\n",
       "       Number_Weeks_Quit  Season  \n",
       "0                      0       2  \n",
       "1                      0       2  \n",
       "2                      0       2  \n",
       "3                      0       2  \n",
       "4                      0       1  \n",
       "...                  ...     ...  \n",
       "59305                 12       1  \n",
       "59306                 10       2  \n",
       "59307                 48       1  \n",
       "59308                 17       2  \n",
       "59309                  7       1  \n",
       "\n",
       "[59310 rows x 9 columns]"
      ]
     },
     "execution_count": 354,
     "metadata": {},
     "output_type": "execute_result"
    }
   ],
   "source": [
    "dataset_test"
   ]
  },
  {
   "cell_type": "code",
   "execution_count": 355,
   "metadata": {},
   "outputs": [],
   "source": [
    "data_test=dataset_test.drop(\"ID\",axis=1)"
   ]
  },
  {
   "cell_type": "code",
   "execution_count": 356,
   "metadata": {},
   "outputs": [],
   "source": [
    "data_test[\"total_week\"]=data_test[\"Number_Weeks_Used\"]+data_test[\"Number_Weeks_Quit\"]\n",
    "#data_test[\"Total_Dosage\"]=data_test[\"Number_Doses_Week\"]*data_test[\"Number_Doses_Week\"]"
   ]
  },
  {
   "cell_type": "code",
   "execution_count": 357,
   "metadata": {},
   "outputs": [],
   "source": [
    "# cat_test=data_test[\"Season\"]\n",
    "\n",
    "# cat_encode_test=pd.get_dummies(cat_test,drop_first=True)\n",
    "\n",
    "# data_test.drop(\"Season\",axis=1,inplace=True)\n",
    "\n",
    "# data_test=pd.concat([data_test,cat_encode_test],axis=1)\n",
    "data_test[\"Pesticide_Use_Category\"]=data_test[\"Pesticide_Use_Category\"].replace({1:0,2:1,3:2})"
   ]
  },
  {
   "cell_type": "code",
   "execution_count": 358,
   "metadata": {},
   "outputs": [],
   "source": [
    "data_test[\"ei_nd\"]=data_test[\"Estimated_Insects_Count\"]/data_test[\"Number_Doses_Week\"]\n",
    "\n",
    "data_test[\"ei_td\"]=data_test[\"Estimated_Insects_Count\"]/(data_test[\"Number_Doses_Week\"]*data_test[\"Number_Weeks_Used\"])\n",
    "\n",
    "data_test[\"nu_nq\"]=data_test[\"Number_Weeks_Used\"]/data_test[\"Number_Weeks_Quit\"]\n",
    "\n",
    "data_test[\"ei_nq\"]=data_test[\"Estimated_Insects_Count\"]/data_test[\"Number_Weeks_Quit\"]\n",
    "\n",
    "data_test[\"ei_nu\"]=data_test[\"Estimated_Insects_Count\"]/data_test[\"Number_Weeks_Used\"]\n",
    "\n"
   ]
  },
  {
   "cell_type": "code",
   "execution_count": 359,
   "metadata": {},
   "outputs": [],
   "source": [
    "data_test[\"c_nw_me\"]=data_test.groupby(\"Crop_Type\")[\"Number_Weeks_Used\"].transform(\"mean\")\n",
    "\n",
    "data_test[\"pe_nwq\"]=data_test.groupby(\"Pesticide_Use_Category\")[\"Number_Weeks_Quit\"].transform(\"mean\")"
   ]
  },
  {
   "cell_type": "code",
   "execution_count": 362,
   "metadata": {},
   "outputs": [],
   "source": [
    "inf=data_test[\"ei_nd\"][0]\n",
    "\n",
    "data_test.replace([inf,np.nan],0,inplace=True)"
   ]
  },
  {
   "cell_type": "code",
   "execution_count": 363,
   "metadata": {},
   "outputs": [
    {
     "data": {
      "text/html": [
       "<div>\n",
       "<style scoped>\n",
       "    .dataframe tbody tr th:only-of-type {\n",
       "        vertical-align: middle;\n",
       "    }\n",
       "\n",
       "    .dataframe tbody tr th {\n",
       "        vertical-align: top;\n",
       "    }\n",
       "\n",
       "    .dataframe thead th {\n",
       "        text-align: right;\n",
       "    }\n",
       "</style>\n",
       "<table border=\"1\" class=\"dataframe\">\n",
       "  <thead>\n",
       "    <tr style=\"text-align: right;\">\n",
       "      <th></th>\n",
       "      <th>Estimated_Insects_Count</th>\n",
       "      <th>Crop_Type</th>\n",
       "      <th>Soil_Type</th>\n",
       "      <th>Pesticide_Use_Category</th>\n",
       "      <th>Number_Doses_Week</th>\n",
       "      <th>Number_Weeks_Used</th>\n",
       "      <th>Number_Weeks_Quit</th>\n",
       "      <th>Season</th>\n",
       "      <th>total_week</th>\n",
       "      <th>ei_nd</th>\n",
       "      <th>ei_td</th>\n",
       "      <th>nu_nq</th>\n",
       "      <th>ei_nq</th>\n",
       "      <th>ei_nu</th>\n",
       "      <th>c_nw_me</th>\n",
       "      <th>pe_nwq</th>\n",
       "    </tr>\n",
       "  </thead>\n",
       "  <tbody>\n",
       "    <tr>\n",
       "      <td>0</td>\n",
       "      <td>188</td>\n",
       "      <td>1</td>\n",
       "      <td>1</td>\n",
       "      <td>0</td>\n",
       "      <td>0</td>\n",
       "      <td>0.0</td>\n",
       "      <td>0</td>\n",
       "      <td>2</td>\n",
       "      <td>0.0</td>\n",
       "      <td>0.00</td>\n",
       "      <td>0.000000</td>\n",
       "      <td>0.000000</td>\n",
       "      <td>0.000000</td>\n",
       "      <td>0.000000</td>\n",
       "      <td>26.526313</td>\n",
       "      <td>0.000000</td>\n",
       "    </tr>\n",
       "    <tr>\n",
       "      <td>1</td>\n",
       "      <td>410</td>\n",
       "      <td>1</td>\n",
       "      <td>1</td>\n",
       "      <td>0</td>\n",
       "      <td>0</td>\n",
       "      <td>0.0</td>\n",
       "      <td>0</td>\n",
       "      <td>2</td>\n",
       "      <td>0.0</td>\n",
       "      <td>0.00</td>\n",
       "      <td>0.000000</td>\n",
       "      <td>0.000000</td>\n",
       "      <td>0.000000</td>\n",
       "      <td>0.000000</td>\n",
       "      <td>26.526313</td>\n",
       "      <td>0.000000</td>\n",
       "    </tr>\n",
       "    <tr>\n",
       "      <td>2</td>\n",
       "      <td>626</td>\n",
       "      <td>1</td>\n",
       "      <td>0</td>\n",
       "      <td>0</td>\n",
       "      <td>0</td>\n",
       "      <td>0.0</td>\n",
       "      <td>0</td>\n",
       "      <td>2</td>\n",
       "      <td>0.0</td>\n",
       "      <td>0.00</td>\n",
       "      <td>0.000000</td>\n",
       "      <td>0.000000</td>\n",
       "      <td>0.000000</td>\n",
       "      <td>0.000000</td>\n",
       "      <td>26.526313</td>\n",
       "      <td>0.000000</td>\n",
       "    </tr>\n",
       "    <tr>\n",
       "      <td>3</td>\n",
       "      <td>731</td>\n",
       "      <td>1</td>\n",
       "      <td>0</td>\n",
       "      <td>0</td>\n",
       "      <td>0</td>\n",
       "      <td>0.0</td>\n",
       "      <td>0</td>\n",
       "      <td>2</td>\n",
       "      <td>0.0</td>\n",
       "      <td>0.00</td>\n",
       "      <td>0.000000</td>\n",
       "      <td>0.000000</td>\n",
       "      <td>0.000000</td>\n",
       "      <td>0.000000</td>\n",
       "      <td>26.526313</td>\n",
       "      <td>0.000000</td>\n",
       "    </tr>\n",
       "    <tr>\n",
       "      <td>4</td>\n",
       "      <td>789</td>\n",
       "      <td>0</td>\n",
       "      <td>0</td>\n",
       "      <td>0</td>\n",
       "      <td>0</td>\n",
       "      <td>0.0</td>\n",
       "      <td>0</td>\n",
       "      <td>1</td>\n",
       "      <td>0.0</td>\n",
       "      <td>0.00</td>\n",
       "      <td>0.000000</td>\n",
       "      <td>0.000000</td>\n",
       "      <td>0.000000</td>\n",
       "      <td>0.000000</td>\n",
       "      <td>28.309692</td>\n",
       "      <td>0.000000</td>\n",
       "    </tr>\n",
       "    <tr>\n",
       "      <td>...</td>\n",
       "      <td>...</td>\n",
       "      <td>...</td>\n",
       "      <td>...</td>\n",
       "      <td>...</td>\n",
       "      <td>...</td>\n",
       "      <td>...</td>\n",
       "      <td>...</td>\n",
       "      <td>...</td>\n",
       "      <td>...</td>\n",
       "      <td>...</td>\n",
       "      <td>...</td>\n",
       "      <td>...</td>\n",
       "      <td>...</td>\n",
       "      <td>...</td>\n",
       "      <td>...</td>\n",
       "      <td>...</td>\n",
       "    </tr>\n",
       "    <tr>\n",
       "      <td>59305</td>\n",
       "      <td>3337</td>\n",
       "      <td>1</td>\n",
       "      <td>0</td>\n",
       "      <td>1</td>\n",
       "      <td>20</td>\n",
       "      <td>34.0</td>\n",
       "      <td>12</td>\n",
       "      <td>1</td>\n",
       "      <td>46.0</td>\n",
       "      <td>166.85</td>\n",
       "      <td>4.907353</td>\n",
       "      <td>2.833333</td>\n",
       "      <td>278.083333</td>\n",
       "      <td>98.147059</td>\n",
       "      <td>26.526313</td>\n",
       "      <td>13.279632</td>\n",
       "    </tr>\n",
       "    <tr>\n",
       "      <td>59306</td>\n",
       "      <td>3516</td>\n",
       "      <td>1</td>\n",
       "      <td>0</td>\n",
       "      <td>1</td>\n",
       "      <td>20</td>\n",
       "      <td>32.0</td>\n",
       "      <td>10</td>\n",
       "      <td>2</td>\n",
       "      <td>42.0</td>\n",
       "      <td>175.80</td>\n",
       "      <td>5.493750</td>\n",
       "      <td>3.200000</td>\n",
       "      <td>351.600000</td>\n",
       "      <td>109.875000</td>\n",
       "      <td>26.526313</td>\n",
       "      <td>13.279632</td>\n",
       "    </tr>\n",
       "    <tr>\n",
       "      <td>59307</td>\n",
       "      <td>3702</td>\n",
       "      <td>1</td>\n",
       "      <td>0</td>\n",
       "      <td>1</td>\n",
       "      <td>10</td>\n",
       "      <td>27.0</td>\n",
       "      <td>48</td>\n",
       "      <td>1</td>\n",
       "      <td>75.0</td>\n",
       "      <td>370.20</td>\n",
       "      <td>13.711111</td>\n",
       "      <td>0.562500</td>\n",
       "      <td>77.125000</td>\n",
       "      <td>137.111111</td>\n",
       "      <td>26.526313</td>\n",
       "      <td>13.279632</td>\n",
       "    </tr>\n",
       "    <tr>\n",
       "      <td>59308</td>\n",
       "      <td>3702</td>\n",
       "      <td>1</td>\n",
       "      <td>0</td>\n",
       "      <td>1</td>\n",
       "      <td>10</td>\n",
       "      <td>28.0</td>\n",
       "      <td>17</td>\n",
       "      <td>2</td>\n",
       "      <td>45.0</td>\n",
       "      <td>370.20</td>\n",
       "      <td>13.221429</td>\n",
       "      <td>1.647059</td>\n",
       "      <td>217.764706</td>\n",
       "      <td>132.214286</td>\n",
       "      <td>26.526313</td>\n",
       "      <td>13.279632</td>\n",
       "    </tr>\n",
       "    <tr>\n",
       "      <td>59309</td>\n",
       "      <td>3895</td>\n",
       "      <td>1</td>\n",
       "      <td>0</td>\n",
       "      <td>1</td>\n",
       "      <td>5</td>\n",
       "      <td>52.0</td>\n",
       "      <td>7</td>\n",
       "      <td>1</td>\n",
       "      <td>59.0</td>\n",
       "      <td>779.00</td>\n",
       "      <td>14.980769</td>\n",
       "      <td>7.428571</td>\n",
       "      <td>556.428571</td>\n",
       "      <td>74.903846</td>\n",
       "      <td>26.526313</td>\n",
       "      <td>13.279632</td>\n",
       "    </tr>\n",
       "  </tbody>\n",
       "</table>\n",
       "<p>59310 rows × 16 columns</p>\n",
       "</div>"
      ],
      "text/plain": [
       "       Estimated_Insects_Count  Crop_Type  Soil_Type  Pesticide_Use_Category  \\\n",
       "0                          188          1          1                       0   \n",
       "1                          410          1          1                       0   \n",
       "2                          626          1          0                       0   \n",
       "3                          731          1          0                       0   \n",
       "4                          789          0          0                       0   \n",
       "...                        ...        ...        ...                     ...   \n",
       "59305                     3337          1          0                       1   \n",
       "59306                     3516          1          0                       1   \n",
       "59307                     3702          1          0                       1   \n",
       "59308                     3702          1          0                       1   \n",
       "59309                     3895          1          0                       1   \n",
       "\n",
       "       Number_Doses_Week  Number_Weeks_Used  Number_Weeks_Quit  Season  \\\n",
       "0                      0                0.0                  0       2   \n",
       "1                      0                0.0                  0       2   \n",
       "2                      0                0.0                  0       2   \n",
       "3                      0                0.0                  0       2   \n",
       "4                      0                0.0                  0       1   \n",
       "...                  ...                ...                ...     ...   \n",
       "59305                 20               34.0                 12       1   \n",
       "59306                 20               32.0                 10       2   \n",
       "59307                 10               27.0                 48       1   \n",
       "59308                 10               28.0                 17       2   \n",
       "59309                  5               52.0                  7       1   \n",
       "\n",
       "       total_week   ei_nd      ei_td     nu_nq       ei_nq       ei_nu  \\\n",
       "0             0.0    0.00   0.000000  0.000000    0.000000    0.000000   \n",
       "1             0.0    0.00   0.000000  0.000000    0.000000    0.000000   \n",
       "2             0.0    0.00   0.000000  0.000000    0.000000    0.000000   \n",
       "3             0.0    0.00   0.000000  0.000000    0.000000    0.000000   \n",
       "4             0.0    0.00   0.000000  0.000000    0.000000    0.000000   \n",
       "...           ...     ...        ...       ...         ...         ...   \n",
       "59305        46.0  166.85   4.907353  2.833333  278.083333   98.147059   \n",
       "59306        42.0  175.80   5.493750  3.200000  351.600000  109.875000   \n",
       "59307        75.0  370.20  13.711111  0.562500   77.125000  137.111111   \n",
       "59308        45.0  370.20  13.221429  1.647059  217.764706  132.214286   \n",
       "59309        59.0  779.00  14.980769  7.428571  556.428571   74.903846   \n",
       "\n",
       "         c_nw_me     pe_nwq  \n",
       "0      26.526313   0.000000  \n",
       "1      26.526313   0.000000  \n",
       "2      26.526313   0.000000  \n",
       "3      26.526313   0.000000  \n",
       "4      28.309692   0.000000  \n",
       "...          ...        ...  \n",
       "59305  26.526313  13.279632  \n",
       "59306  26.526313  13.279632  \n",
       "59307  26.526313  13.279632  \n",
       "59308  26.526313  13.279632  \n",
       "59309  26.526313  13.279632  \n",
       "\n",
       "[59310 rows x 16 columns]"
      ]
     },
     "execution_count": 363,
     "metadata": {},
     "output_type": "execute_result"
    }
   ],
   "source": [
    "data_test"
   ]
  },
  {
   "cell_type": "code",
   "execution_count": null,
   "metadata": {},
   "outputs": [],
   "source": [
    "pred=pd.Series(classifier.predict(data_test))"
   ]
  },
  {
   "cell_type": "code",
   "execution_count": null,
   "metadata": {},
   "outputs": [],
   "source": [
    "pred_xgb=pd.Series(xb.predict(data_test))"
   ]
  },
  {
   "cell_type": "code",
   "execution_count": 396,
   "metadata": {},
   "outputs": [],
   "source": [
    "pred_lgbm=pd.Series(lgbm.predict(data_test))"
   ]
  },
  {
   "cell_type": "code",
   "execution_count": 399,
   "metadata": {},
   "outputs": [
    {
     "data": {
      "text/plain": [
       "0    56229\n",
       "1     3069\n",
       "2       12\n",
       "dtype: int64"
      ]
     },
     "execution_count": 399,
     "metadata": {},
     "output_type": "execute_result"
    }
   ],
   "source": [
    "pred_lgbm.value_counts()"
   ]
  },
  {
   "cell_type": "code",
   "execution_count": 366,
   "metadata": {},
   "outputs": [
    {
     "data": {
      "text/plain": [
       "0.8492248897989336"
      ]
     },
     "execution_count": 366,
     "metadata": {},
     "output_type": "execute_result"
    }
   ],
   "source": [
    "gs.best_score_"
   ]
  },
  {
   "cell_type": "code",
   "execution_count": 367,
   "metadata": {},
   "outputs": [],
   "source": [
    "pred_gs=pd.Series(gs.predict(data_test))"
   ]
  },
  {
   "cell_type": "code",
   "execution_count": 368,
   "metadata": {},
   "outputs": [
    {
     "data": {
      "text/plain": [
       "0    56411\n",
       "1     2899\n",
       "dtype: int64"
      ]
     },
     "execution_count": 368,
     "metadata": {},
     "output_type": "execute_result"
    }
   ],
   "source": [
    "pred_gs.value_counts()"
   ]
  },
  {
   "cell_type": "code",
   "execution_count": 369,
   "metadata": {},
   "outputs": [
    {
     "data": {
      "text/plain": [
       "0        F00000002\n",
       "1        F00000007\n",
       "2        F00000011\n",
       "3        F00000013\n",
       "4        F00000014\n",
       "           ...    \n",
       "59305    F00155937\n",
       "59306    F00155940\n",
       "59307    F00155941\n",
       "59308    F00155943\n",
       "59309    F00155944\n",
       "Name: ID, Length: 59310, dtype: object"
      ]
     },
     "execution_count": 369,
     "metadata": {},
     "output_type": "execute_result"
    }
   ],
   "source": [
    "dataset_test[\"ID\"]"
   ]
  },
  {
   "cell_type": "code",
   "execution_count": 400,
   "metadata": {},
   "outputs": [],
   "source": [
    "sub_1=pd.DataFrame()"
   ]
  },
  {
   "cell_type": "code",
   "execution_count": 401,
   "metadata": {},
   "outputs": [],
   "source": [
    "sub_1[\"ID\"]=dataset_test[\"ID\"]"
   ]
  },
  {
   "cell_type": "code",
   "execution_count": 402,
   "metadata": {},
   "outputs": [],
   "source": [
    "sub_1[\"Crop_Damage\"]=pred_lgbm"
   ]
  },
  {
   "cell_type": "code",
   "execution_count": 403,
   "metadata": {},
   "outputs": [
    {
     "data": {
      "text/html": [
       "<div>\n",
       "<style scoped>\n",
       "    .dataframe tbody tr th:only-of-type {\n",
       "        vertical-align: middle;\n",
       "    }\n",
       "\n",
       "    .dataframe tbody tr th {\n",
       "        vertical-align: top;\n",
       "    }\n",
       "\n",
       "    .dataframe thead th {\n",
       "        text-align: right;\n",
       "    }\n",
       "</style>\n",
       "<table border=\"1\" class=\"dataframe\">\n",
       "  <thead>\n",
       "    <tr style=\"text-align: right;\">\n",
       "      <th></th>\n",
       "      <th>ID</th>\n",
       "      <th>Crop_Damage</th>\n",
       "    </tr>\n",
       "  </thead>\n",
       "  <tbody>\n",
       "    <tr>\n",
       "      <td>0</td>\n",
       "      <td>F00000002</td>\n",
       "      <td>1</td>\n",
       "    </tr>\n",
       "    <tr>\n",
       "      <td>1</td>\n",
       "      <td>F00000007</td>\n",
       "      <td>1</td>\n",
       "    </tr>\n",
       "    <tr>\n",
       "      <td>2</td>\n",
       "      <td>F00000011</td>\n",
       "      <td>1</td>\n",
       "    </tr>\n",
       "    <tr>\n",
       "      <td>3</td>\n",
       "      <td>F00000013</td>\n",
       "      <td>1</td>\n",
       "    </tr>\n",
       "    <tr>\n",
       "      <td>4</td>\n",
       "      <td>F00000014</td>\n",
       "      <td>1</td>\n",
       "    </tr>\n",
       "    <tr>\n",
       "      <td>...</td>\n",
       "      <td>...</td>\n",
       "      <td>...</td>\n",
       "    </tr>\n",
       "    <tr>\n",
       "      <td>59305</td>\n",
       "      <td>F00155937</td>\n",
       "      <td>0</td>\n",
       "    </tr>\n",
       "    <tr>\n",
       "      <td>59306</td>\n",
       "      <td>F00155940</td>\n",
       "      <td>0</td>\n",
       "    </tr>\n",
       "    <tr>\n",
       "      <td>59307</td>\n",
       "      <td>F00155941</td>\n",
       "      <td>0</td>\n",
       "    </tr>\n",
       "    <tr>\n",
       "      <td>59308</td>\n",
       "      <td>F00155943</td>\n",
       "      <td>0</td>\n",
       "    </tr>\n",
       "    <tr>\n",
       "      <td>59309</td>\n",
       "      <td>F00155944</td>\n",
       "      <td>0</td>\n",
       "    </tr>\n",
       "  </tbody>\n",
       "</table>\n",
       "<p>59310 rows × 2 columns</p>\n",
       "</div>"
      ],
      "text/plain": [
       "              ID  Crop_Damage\n",
       "0      F00000002            1\n",
       "1      F00000007            1\n",
       "2      F00000011            1\n",
       "3      F00000013            1\n",
       "4      F00000014            1\n",
       "...          ...          ...\n",
       "59305  F00155937            0\n",
       "59306  F00155940            0\n",
       "59307  F00155941            0\n",
       "59308  F00155943            0\n",
       "59309  F00155944            0\n",
       "\n",
       "[59310 rows x 2 columns]"
      ]
     },
     "execution_count": 403,
     "metadata": {},
     "output_type": "execute_result"
    }
   ],
   "source": [
    "sub_1"
   ]
  },
  {
   "cell_type": "code",
   "execution_count": 404,
   "metadata": {},
   "outputs": [],
   "source": [
    "sub_1.to_csv(\"sub_lg5.csv\",index=False)"
   ]
  },
  {
   "cell_type": "code",
   "execution_count": null,
   "metadata": {},
   "outputs": [],
   "source": []
  }
 ],
 "metadata": {
  "kernelspec": {
   "display_name": "Python 3",
   "language": "python",
   "name": "python3"
  },
  "language_info": {
   "codemirror_mode": {
    "name": "ipython",
    "version": 3
   },
   "file_extension": ".py",
   "mimetype": "text/x-python",
   "name": "python",
   "nbconvert_exporter": "python",
   "pygments_lexer": "ipython3",
   "version": "3.7.4"
  }
 },
 "nbformat": 4,
 "nbformat_minor": 2
}
